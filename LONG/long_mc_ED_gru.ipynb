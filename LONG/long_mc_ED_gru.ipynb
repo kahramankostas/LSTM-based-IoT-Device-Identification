{
 "cells": [
  {
   "cell_type": "code",
   "execution_count": 1,
   "metadata": {},
   "outputs": [
    {
     "name": "stderr",
     "output_type": "stream",
     "text": [
      "Using TensorFlow backend.\n",
      "c:\\users\\kahraman\\appdata\\local\\programs\\python\\python36\\lib\\site-packages\\tensorflow\\python\\framework\\dtypes.py:517: FutureWarning: Passing (type, 1) or '1type' as a synonym of type is deprecated; in a future version of numpy, it will be understood as (type, (1,)) / '(1,)type'.\n",
      "  _np_qint8 = np.dtype([(\"qint8\", np.int8, 1)])\n",
      "c:\\users\\kahraman\\appdata\\local\\programs\\python\\python36\\lib\\site-packages\\tensorflow\\python\\framework\\dtypes.py:518: FutureWarning: Passing (type, 1) or '1type' as a synonym of type is deprecated; in a future version of numpy, it will be understood as (type, (1,)) / '(1,)type'.\n",
      "  _np_quint8 = np.dtype([(\"quint8\", np.uint8, 1)])\n",
      "c:\\users\\kahraman\\appdata\\local\\programs\\python\\python36\\lib\\site-packages\\tensorflow\\python\\framework\\dtypes.py:519: FutureWarning: Passing (type, 1) or '1type' as a synonym of type is deprecated; in a future version of numpy, it will be understood as (type, (1,)) / '(1,)type'.\n",
      "  _np_qint16 = np.dtype([(\"qint16\", np.int16, 1)])\n",
      "c:\\users\\kahraman\\appdata\\local\\programs\\python\\python36\\lib\\site-packages\\tensorflow\\python\\framework\\dtypes.py:520: FutureWarning: Passing (type, 1) or '1type' as a synonym of type is deprecated; in a future version of numpy, it will be understood as (type, (1,)) / '(1,)type'.\n",
      "  _np_quint16 = np.dtype([(\"quint16\", np.uint16, 1)])\n",
      "c:\\users\\kahraman\\appdata\\local\\programs\\python\\python36\\lib\\site-packages\\tensorflow\\python\\framework\\dtypes.py:521: FutureWarning: Passing (type, 1) or '1type' as a synonym of type is deprecated; in a future version of numpy, it will be understood as (type, (1,)) / '(1,)type'.\n",
      "  _np_qint32 = np.dtype([(\"qint32\", np.int32, 1)])\n",
      "c:\\users\\kahraman\\appdata\\local\\programs\\python\\python36\\lib\\site-packages\\tensorflow\\python\\framework\\dtypes.py:526: FutureWarning: Passing (type, 1) or '1type' as a synonym of type is deprecated; in a future version of numpy, it will be understood as (type, (1,)) / '(1,)type'.\n",
      "  np_resource = np.dtype([(\"resource\", np.ubyte, 1)])\n"
     ]
    }
   ],
   "source": [
    "from keras.models import Sequential\n",
    "from keras.layers import LSTM,Dropout,Activation,Embedding,RepeatVector,TimeDistributed,GRU\n",
    "from keras.layers import Dense\n",
    "import pandas as pd\n",
    "import numpy as np\n",
    "from sklearn.model_selection import train_test_split\n",
    "from sklearn import decomposition\n",
    "from sklearn.feature_selection import SelectKBest\n",
    "from sklearn.feature_selection import chi2\n",
    "from sklearn.pipeline import FeatureUnion\n",
    "from sklearn.model_selection import StratifiedKFold\n",
    "import matplotlib.pyplot as plt\n",
    "import scikitplot as skplt\n",
    "from sklearn.preprocessing import label_binarize\n",
    "from sklearn.metrics import roc_curve, auc\n",
    "from scipy import interp\n",
    "from itertools import cycle\n",
    "import time\n",
    "from keras import metrics\n",
    "from keras import optimizers\n",
    "from keras import initializers\n",
    "from keras.callbacks import ModelCheckpoint\n",
    "import pprint\n",
    "from keras.callbacks import Callback\n",
    "\n",
    "from sklearn import metrics\n",
    "from keras.callbacks import EarlyStopping\n",
    "from sklearn.preprocessing import Normalizer\n",
    "from keras import callbacks\n",
    "from keras.callbacks import ModelCheckpoint, EarlyStopping, ReduceLROnPlateau, CSVLogger"
   ]
  },
  {
   "cell_type": "code",
   "execution_count": 2,
   "metadata": {},
   "outputs": [
    {
     "data": {
      "text/html": [
       "<div>\n",
       "<style scoped>\n",
       "    .dataframe tbody tr th:only-of-type {\n",
       "        vertical-align: middle;\n",
       "    }\n",
       "\n",
       "    .dataframe tbody tr th {\n",
       "        vertical-align: top;\n",
       "    }\n",
       "\n",
       "    .dataframe thead th {\n",
       "        text-align: right;\n",
       "    }\n",
       "</style>\n",
       "<table border=\"1\" class=\"dataframe\">\n",
       "  <thead>\n",
       "    <tr style=\"text-align: right;\">\n",
       "      <th></th>\n",
       "      <th>0</th>\n",
       "      <th>1</th>\n",
       "      <th>2</th>\n",
       "      <th>3</th>\n",
       "      <th>4</th>\n",
       "      <th>5</th>\n",
       "      <th>6</th>\n",
       "      <th>7</th>\n",
       "      <th>8</th>\n",
       "      <th>9</th>\n",
       "      <th>...</th>\n",
       "      <th>291</th>\n",
       "      <th>292</th>\n",
       "      <th>293</th>\n",
       "      <th>294</th>\n",
       "      <th>295</th>\n",
       "      <th>296</th>\n",
       "      <th>297</th>\n",
       "      <th>298</th>\n",
       "      <th>299</th>\n",
       "      <th>300</th>\n",
       "    </tr>\n",
       "  </thead>\n",
       "  <tbody>\n",
       "    <tr>\n",
       "      <td>0</td>\n",
       "      <td>0.0</td>\n",
       "      <td>0.0</td>\n",
       "      <td>1.0</td>\n",
       "      <td>0.0</td>\n",
       "      <td>0.0</td>\n",
       "      <td>0.0</td>\n",
       "      <td>0.0</td>\n",
       "      <td>0.0</td>\n",
       "      <td>0.0</td>\n",
       "      <td>0.0</td>\n",
       "      <td>...</td>\n",
       "      <td>0.0</td>\n",
       "      <td>0.0</td>\n",
       "      <td>4.0</td>\n",
       "      <td>0.0</td>\n",
       "      <td>3.0</td>\n",
       "      <td>1.0</td>\n",
       "      <td>64.0</td>\n",
       "      <td>1.0</td>\n",
       "      <td>3.772055</td>\n",
       "      <td>Aria</td>\n",
       "    </tr>\n",
       "    <tr>\n",
       "      <td>1</td>\n",
       "      <td>0.0</td>\n",
       "      <td>0.0</td>\n",
       "      <td>1.0</td>\n",
       "      <td>0.0</td>\n",
       "      <td>0.0</td>\n",
       "      <td>0.0</td>\n",
       "      <td>0.0</td>\n",
       "      <td>0.0</td>\n",
       "      <td>0.0</td>\n",
       "      <td>0.0</td>\n",
       "      <td>...</td>\n",
       "      <td>0.0</td>\n",
       "      <td>0.0</td>\n",
       "      <td>4.0</td>\n",
       "      <td>0.0</td>\n",
       "      <td>3.0</td>\n",
       "      <td>1.0</td>\n",
       "      <td>64.0</td>\n",
       "      <td>1.0</td>\n",
       "      <td>3.772055</td>\n",
       "      <td>Aria</td>\n",
       "    </tr>\n",
       "    <tr>\n",
       "      <td>2</td>\n",
       "      <td>0.0</td>\n",
       "      <td>0.0</td>\n",
       "      <td>1.0</td>\n",
       "      <td>0.0</td>\n",
       "      <td>0.0</td>\n",
       "      <td>0.0</td>\n",
       "      <td>0.0</td>\n",
       "      <td>0.0</td>\n",
       "      <td>0.0</td>\n",
       "      <td>0.0</td>\n",
       "      <td>...</td>\n",
       "      <td>0.0</td>\n",
       "      <td>0.0</td>\n",
       "      <td>4.0</td>\n",
       "      <td>0.0</td>\n",
       "      <td>1.0</td>\n",
       "      <td>3.0</td>\n",
       "      <td>40.0</td>\n",
       "      <td>0.0</td>\n",
       "      <td>0.000000</td>\n",
       "      <td>Aria</td>\n",
       "    </tr>\n",
       "    <tr>\n",
       "      <td>3</td>\n",
       "      <td>0.0</td>\n",
       "      <td>0.0</td>\n",
       "      <td>1.0</td>\n",
       "      <td>0.0</td>\n",
       "      <td>0.0</td>\n",
       "      <td>0.0</td>\n",
       "      <td>0.0</td>\n",
       "      <td>0.0</td>\n",
       "      <td>0.0</td>\n",
       "      <td>0.0</td>\n",
       "      <td>...</td>\n",
       "      <td>0.0</td>\n",
       "      <td>0.0</td>\n",
       "      <td>4.0</td>\n",
       "      <td>0.0</td>\n",
       "      <td>3.0</td>\n",
       "      <td>1.0</td>\n",
       "      <td>64.0</td>\n",
       "      <td>1.0</td>\n",
       "      <td>3.772055</td>\n",
       "      <td>Aria</td>\n",
       "    </tr>\n",
       "    <tr>\n",
       "      <td>4</td>\n",
       "      <td>0.0</td>\n",
       "      <td>0.0</td>\n",
       "      <td>1.0</td>\n",
       "      <td>0.0</td>\n",
       "      <td>0.0</td>\n",
       "      <td>0.0</td>\n",
       "      <td>0.0</td>\n",
       "      <td>0.0</td>\n",
       "      <td>0.0</td>\n",
       "      <td>0.0</td>\n",
       "      <td>...</td>\n",
       "      <td>0.0</td>\n",
       "      <td>0.0</td>\n",
       "      <td>4.0</td>\n",
       "      <td>0.0</td>\n",
       "      <td>3.0</td>\n",
       "      <td>1.0</td>\n",
       "      <td>64.0</td>\n",
       "      <td>1.0</td>\n",
       "      <td>3.772055</td>\n",
       "      <td>Aria</td>\n",
       "    </tr>\n",
       "  </tbody>\n",
       "</table>\n",
       "<p>5 rows × 301 columns</p>\n",
       "</div>"
      ],
      "text/plain": [
       "   0    1    2    3    4    5    6    7    8    9    ...  291  292  293  294  \\\n",
       "0  0.0  0.0  1.0  0.0  0.0  0.0  0.0  0.0  0.0  0.0  ...  0.0  0.0  4.0  0.0   \n",
       "1  0.0  0.0  1.0  0.0  0.0  0.0  0.0  0.0  0.0  0.0  ...  0.0  0.0  4.0  0.0   \n",
       "2  0.0  0.0  1.0  0.0  0.0  0.0  0.0  0.0  0.0  0.0  ...  0.0  0.0  4.0  0.0   \n",
       "3  0.0  0.0  1.0  0.0  0.0  0.0  0.0  0.0  0.0  0.0  ...  0.0  0.0  4.0  0.0   \n",
       "4  0.0  0.0  1.0  0.0  0.0  0.0  0.0  0.0  0.0  0.0  ...  0.0  0.0  4.0  0.0   \n",
       "\n",
       "   295  296   297  298       299   300  \n",
       "0  3.0  1.0  64.0  1.0  3.772055  Aria  \n",
       "1  3.0  1.0  64.0  1.0  3.772055  Aria  \n",
       "2  1.0  3.0  40.0  0.0  0.000000  Aria  \n",
       "3  3.0  1.0  64.0  1.0  3.772055  Aria  \n",
       "4  3.0  1.0  64.0  1.0  3.772055  Aria  \n",
       "\n",
       "[5 rows x 301 columns]"
      ]
     },
     "execution_count": 2,
     "metadata": {},
     "output_type": "execute_result"
    }
   ],
   "source": [
    "df = pd.read_csv('l_h_train_sm.csv',header=None )\n",
    "np.random.seed(42)\n",
    "df.head()"
   ]
  },
  {
   "cell_type": "code",
   "execution_count": 3,
   "metadata": {},
   "outputs": [
    {
     "data": {
      "text/plain": [
       "(8100, 300)"
      ]
     },
     "execution_count": 3,
     "metadata": {},
     "output_type": "execute_result"
    }
   ],
   "source": [
    "\n",
    "X =df[df.columns[0:-1]]\n",
    "X=np.array(X)\n",
    "\n",
    "y=df[df.columns[-1]]  \n",
    "\n",
    "scaler = Normalizer().fit(X)\n",
    "X = scaler.transform(X)\n",
    "# summarize transformed data\n",
    "X.shape"
   ]
  },
  {
   "cell_type": "code",
   "execution_count": 4,
   "metadata": {},
   "outputs": [],
   "source": [
    "es = EarlyStopping(monitor='val_loss', mode='min', verbose=1)"
   ]
  },
  {
   "cell_type": "code",
   "execution_count": 5,
   "metadata": {},
   "outputs": [
    {
     "name": "stdout",
     "output_type": "stream",
     "text": [
      "0 Aria\n",
      "1 D-LinkCam\n",
      "2 D-LinkDayCam\n",
      "3 D-LinkDoorSensor\n",
      "4 D-LinkHomeHub\n",
      "5 D-LinkSensor\n",
      "6 D-LinkSiren\n",
      "7 D-LinkSwitch\n",
      "8 D-LinkWaterSensor\n",
      "9 EdimaxCam\n",
      "10 EdimaxPlug1101W\n",
      "11 EdimaxPlug2101W\n",
      "12 EdnetCam\n",
      "13 EdnetGateway\n",
      "14 HomeMaticPlug\n",
      "15 HueBridge\n",
      "16 HueSwitch\n",
      "17 IKettle2\n",
      "18 Lightify\n",
      "19 MAXGateway\n",
      "20 SmarterCoffee\n",
      "21 TP-LinkPlugHS100\n",
      "22 TP-LinkPlugHS110\n",
      "23 WeMoInsightSwitch\n",
      "24 WeMoLink\n",
      "25 WeMoSwitch\n",
      "26 Withings\n"
     ]
    }
   ],
   "source": [
    "p=[]\n",
    "for i in y:\n",
    "    if i not in p:\n",
    "        p.append(i)\n",
    "        \n",
    "for i,ii in enumerate (p)  :\n",
    "    print(i,ii)\n",
    "    "
   ]
  },
  {
   "cell_type": "code",
   "execution_count": 6,
   "metadata": {},
   "outputs": [],
   "source": [
    "from sklearn import preprocessing \n",
    "le = preprocessing.LabelEncoder()\n",
    "y=le.fit_transform(y)\n"
   ]
  },
  {
   "cell_type": "code",
   "execution_count": 7,
   "metadata": {},
   "outputs": [
    {
     "name": "stdout",
     "output_type": "stream",
     "text": [
      "0 0\n",
      "1 1\n",
      "2 2\n",
      "3 3\n",
      "4 4\n",
      "5 5\n",
      "6 6\n",
      "7 7\n",
      "8 8\n",
      "9 9\n",
      "10 10\n",
      "11 11\n",
      "12 12\n",
      "13 13\n",
      "14 14\n",
      "15 15\n",
      "16 16\n",
      "17 17\n",
      "18 18\n",
      "19 19\n",
      "20 20\n",
      "21 21\n",
      "22 22\n",
      "23 23\n",
      "24 24\n",
      "25 25\n",
      "26 26\n"
     ]
    }
   ],
   "source": [
    "p=[]\n",
    "for i in y:\n",
    "\n",
    "    if str(i)not in p:\n",
    "        p.append(str(i))\n",
    "        \n",
    "for i,ii in enumerate (p)  :\n",
    "    print(i,ii)\n",
    "    "
   ]
  },
  {
   "cell_type": "code",
   "execution_count": null,
   "metadata": {},
   "outputs": [],
   "source": []
  },
  {
   "cell_type": "code",
   "execution_count": 8,
   "metadata": {},
   "outputs": [],
   "source": [
    "from keras.utils import np_utils\n",
    "y = np_utils.to_categorical(y)"
   ]
  },
  {
   "cell_type": "code",
   "execution_count": 9,
   "metadata": {},
   "outputs": [
    {
     "data": {
      "text/plain": [
       "array([[1., 0., 0., ..., 0., 0., 0.],\n",
       "       [1., 0., 0., ..., 0., 0., 0.],\n",
       "       [1., 0., 0., ..., 0., 0., 0.],\n",
       "       ...,\n",
       "       [0., 0., 0., ..., 0., 0., 1.],\n",
       "       [0., 0., 0., ..., 0., 0., 1.],\n",
       "       [0., 0., 0., ..., 0., 0., 1.]])"
      ]
     },
     "execution_count": 9,
     "metadata": {},
     "output_type": "execute_result"
    }
   ],
   "source": [
    "y"
   ]
  },
  {
   "cell_type": "code",
   "execution_count": 10,
   "metadata": {},
   "outputs": [],
   "source": [
    "#Train test validation split - 60:20:20\n",
    "from sklearn.model_selection import train_test_split\n",
    "X_train, X_val, Y_train, Y_val = train_test_split(X, y,\n",
    "                                                    stratify=y, \n",
    "                                                    test_size=0.2,\n",
    "                                                    random_state=42)\n"
   ]
  },
  {
   "cell_type": "code",
   "execution_count": 11,
   "metadata": {},
   "outputs": [],
   "source": [
    "# reshape input to be [samples, time steps, features]\n",
    "X_train = np.reshape(X_train, (X_train.shape[0], 1, X_train.shape[1]))\n",
    "X_val = np.reshape(X_val, (X_val.shape[0], 1, X_val.shape[1]))"
   ]
  },
  {
   "cell_type": "code",
   "execution_count": 12,
   "metadata": {},
   "outputs": [],
   "source": [
    "# reshape input to be [samples, time steps, features]\n",
    "Y_train = np.reshape(Y_train, (Y_train.shape[0],  Y_train.shape[1]))\n",
    "Y_val = np.reshape(Y_val, (Y_val.shape[0],  Y_val.shape[1]))"
   ]
  },
  {
   "cell_type": "code",
   "execution_count": null,
   "metadata": {},
   "outputs": [],
   "source": []
  },
  {
   "cell_type": "code",
   "execution_count": 13,
   "metadata": {},
   "outputs": [
    {
     "name": "stdout",
     "output_type": "stream",
     "text": [
      "_________________________________________________________________\n",
      "Layer (type)                 Output Shape              Param #   \n",
      "=================================================================\n",
      "gru_1 (GRU)                  (None, 50)                52650     \n",
      "_________________________________________________________________\n",
      "repeat_vector_1 (RepeatVecto (None, 1, 50)             0         \n",
      "_________________________________________________________________\n",
      "gru_2 (GRU)                  (None, 1, 50)             15150     \n",
      "_________________________________________________________________\n",
      "time_distributed_1 (TimeDist (None, 1, 27)             1377      \n",
      "=================================================================\n",
      "Total params: 69,177\n",
      "Trainable params: 69,177\n",
      "Non-trainable params: 0\n",
      "_________________________________________________________________\n",
      "None\n"
     ]
    }
   ],
   "source": [
    "# define LSTM\n",
    "model = Sequential()\n",
    "model.add(GRU(50, input_shape=(X_train.shape[1], X_train.shape[2])))\n",
    "model.add(RepeatVector(X_train.shape[1]))\n",
    "model.add(GRU(50, return_sequences=True))\n",
    "model.add(TimeDistributed(Dense(27, activation= \"softmax\" )))\n",
    "#model.compile(loss= \"categorical_crossentropy\" , optimizer= \"adam\" , metrics=[ \"accuracy\" ])\n",
    "\n",
    "#model.add(Dense(Y_train.shape[1], activation='softmax'))\n",
    "\n",
    "nadam = optimizers.Nadam(lr=0.002, beta_1=0.9, beta_2=0.999, epsilon=1e-08, schedule_decay=0.004)\n",
    "model.compile(loss='categorical_crossentropy', optimizer=nadam, metrics=['accuracy'])\n",
    "print(model.summary())"
   ]
  },
  {
   "cell_type": "code",
   "execution_count": 14,
   "metadata": {},
   "outputs": [
    {
     "data": {
      "text/plain": [
       "(6480, 27)"
      ]
     },
     "execution_count": 14,
     "metadata": {},
     "output_type": "execute_result"
    }
   ],
   "source": [
    "Y_train.shape"
   ]
  },
  {
   "cell_type": "code",
   "execution_count": 15,
   "metadata": {},
   "outputs": [],
   "source": [
    "Y_train = np.reshape(Y_train, (Y_train.shape[0],1 , Y_train.shape[1]))\n",
    "Y_val = np.reshape(Y_val, (Y_val.shape[0], 1, Y_val.shape[1]))"
   ]
  },
  {
   "cell_type": "code",
   "execution_count": 16,
   "metadata": {},
   "outputs": [],
   "source": [
    "\n",
    "hdf5FileName = \"long_mc_bestWeightsLSTMStateless3L50.hdf5\"\n",
    "es = EarlyStopping(monitor='val_loss', mode='min', verbose=1)\n",
    "checkpoint = ModelCheckpoint(hdf5FileName,monitor='val_acc',verbose=1,save_best_only=True,mode='max',save_weights_only=True)"
   ]
  },
  {
   "cell_type": "code",
   "execution_count": 17,
   "metadata": {
    "scrolled": false
   },
   "outputs": [
    {
     "name": "stdout",
     "output_type": "stream",
     "text": [
      "Train on 6480 samples, validate on 1620 samples\n",
      "Epoch 1/50\n",
      " - 3s - loss: 1.4842 - acc: 0.5694 - val_loss: 0.7554 - val_acc: 0.7580\n",
      "\n",
      "Epoch 00001: val_acc improved from -inf to 0.75802, saving model to long_mc_bestWeightsLSTMStateless3L50.hdf5\n",
      "Epoch 2/50\n",
      " - 2s - loss: 0.5769 - acc: 0.8009 - val_loss: 0.4944 - val_acc: 0.8253\n",
      "\n",
      "Epoch 00002: val_acc improved from 0.75802 to 0.82531, saving model to long_mc_bestWeightsLSTMStateless3L50.hdf5\n",
      "Epoch 3/50\n",
      " - 2s - loss: 0.4053 - acc: 0.8460 - val_loss: 0.3727 - val_acc: 0.8685\n",
      "\n",
      "Epoch 00003: val_acc improved from 0.82531 to 0.86852, saving model to long_mc_bestWeightsLSTMStateless3L50.hdf5\n",
      "Epoch 4/50\n",
      " - 2s - loss: 0.3180 - acc: 0.8752 - val_loss: 0.3049 - val_acc: 0.8864\n",
      "\n",
      "Epoch 00004: val_acc improved from 0.86852 to 0.88642, saving model to long_mc_bestWeightsLSTMStateless3L50.hdf5\n",
      "Epoch 5/50\n",
      " - 2s - loss: 0.2692 - acc: 0.8872 - val_loss: 0.2666 - val_acc: 0.8889\n",
      "\n",
      "Epoch 00005: val_acc improved from 0.88642 to 0.88889, saving model to long_mc_bestWeightsLSTMStateless3L50.hdf5\n",
      "Epoch 6/50\n",
      " - 2s - loss: 0.2404 - acc: 0.8937 - val_loss: 0.2419 - val_acc: 0.8932\n",
      "\n",
      "Epoch 00006: val_acc improved from 0.88889 to 0.89321, saving model to long_mc_bestWeightsLSTMStateless3L50.hdf5\n",
      "Epoch 7/50\n",
      " - 2s - loss: 0.2214 - acc: 0.8977 - val_loss: 0.2236 - val_acc: 0.8981\n",
      "\n",
      "Epoch 00007: val_acc improved from 0.89321 to 0.89815, saving model to long_mc_bestWeightsLSTMStateless3L50.hdf5\n",
      "Epoch 8/50\n",
      " - 3s - loss: 0.2071 - acc: 0.9015 - val_loss: 0.2084 - val_acc: 0.9006\n",
      "\n",
      "Epoch 00008: val_acc improved from 0.89815 to 0.90062, saving model to long_mc_bestWeightsLSTMStateless3L50.hdf5\n",
      "Epoch 9/50\n",
      " - 3s - loss: 0.1954 - acc: 0.9034 - val_loss: 0.1959 - val_acc: 0.9025\n",
      "\n",
      "Epoch 00009: val_acc improved from 0.90062 to 0.90247, saving model to long_mc_bestWeightsLSTMStateless3L50.hdf5\n",
      "Epoch 10/50\n",
      " - 2s - loss: 0.1855 - acc: 0.9071 - val_loss: 0.1854 - val_acc: 0.9068\n",
      "\n",
      "Epoch 00010: val_acc improved from 0.90247 to 0.90679, saving model to long_mc_bestWeightsLSTMStateless3L50.hdf5\n",
      "Epoch 11/50\n",
      " - 2s - loss: 0.1775 - acc: 0.9096 - val_loss: 0.1774 - val_acc: 0.9074\n",
      "\n",
      "Epoch 00011: val_acc improved from 0.90679 to 0.90741, saving model to long_mc_bestWeightsLSTMStateless3L50.hdf5\n",
      "Epoch 12/50\n",
      " - 3s - loss: 0.1710 - acc: 0.9111 - val_loss: 0.1718 - val_acc: 0.9080\n",
      "\n",
      "Epoch 00012: val_acc improved from 0.90741 to 0.90802, saving model to long_mc_bestWeightsLSTMStateless3L50.hdf5\n",
      "Epoch 13/50\n",
      " - 2s - loss: 0.1658 - acc: 0.9133 - val_loss: 0.1673 - val_acc: 0.9099\n",
      "\n",
      "Epoch 00013: val_acc improved from 0.90802 to 0.90988, saving model to long_mc_bestWeightsLSTMStateless3L50.hdf5\n",
      "Epoch 14/50\n",
      " - 3s - loss: 0.1619 - acc: 0.9144 - val_loss: 0.1638 - val_acc: 0.9117\n",
      "\n",
      "Epoch 00014: val_acc improved from 0.90988 to 0.91173, saving model to long_mc_bestWeightsLSTMStateless3L50.hdf5\n",
      "Epoch 15/50\n",
      " - 3s - loss: 0.1588 - acc: 0.9154 - val_loss: 0.1611 - val_acc: 0.9130\n",
      "\n",
      "Epoch 00015: val_acc improved from 0.91173 to 0.91296, saving model to long_mc_bestWeightsLSTMStateless3L50.hdf5\n",
      "Epoch 16/50\n",
      " - 3s - loss: 0.1566 - acc: 0.9156 - val_loss: 0.1586 - val_acc: 0.9136\n",
      "\n",
      "Epoch 00016: val_acc improved from 0.91296 to 0.91358, saving model to long_mc_bestWeightsLSTMStateless3L50.hdf5\n",
      "Epoch 17/50\n",
      " - 4s - loss: 0.1544 - acc: 0.9167 - val_loss: 0.1558 - val_acc: 0.9130\n",
      "\n",
      "Epoch 00017: val_acc did not improve\n",
      "Epoch 18/50\n",
      " - 5s - loss: 0.1529 - acc: 0.9159 - val_loss: 0.1541 - val_acc: 0.9130\n",
      "\n",
      "Epoch 00018: val_acc did not improve\n",
      "Epoch 19/50\n",
      " - 4s - loss: 0.1513 - acc: 0.9167 - val_loss: 0.1520 - val_acc: 0.9123\n",
      "\n",
      "Epoch 00019: val_acc did not improve\n",
      "Epoch 20/50\n",
      " - 5s - loss: 0.1501 - acc: 0.9165 - val_loss: 0.1507 - val_acc: 0.9130\n",
      "\n",
      "Epoch 00020: val_acc did not improve\n",
      "Epoch 21/50\n",
      " - 4s - loss: 0.1487 - acc: 0.9173 - val_loss: 0.1491 - val_acc: 0.9148\n",
      "\n",
      "Epoch 00021: val_acc improved from 0.91358 to 0.91481, saving model to long_mc_bestWeightsLSTMStateless3L50.hdf5\n",
      "Epoch 22/50\n",
      " - 4s - loss: 0.1476 - acc: 0.9179 - val_loss: 0.1475 - val_acc: 0.9160\n",
      "\n",
      "Epoch 00022: val_acc improved from 0.91481 to 0.91605, saving model to long_mc_bestWeightsLSTMStateless3L50.hdf5\n",
      "Epoch 23/50\n",
      " - 5s - loss: 0.1466 - acc: 0.9185 - val_loss: 0.1459 - val_acc: 0.9160\n",
      "\n",
      "Epoch 00023: val_acc did not improve\n",
      "Epoch 24/50\n",
      " - 5s - loss: 0.1457 - acc: 0.9188 - val_loss: 0.1452 - val_acc: 0.9167\n",
      "\n",
      "Epoch 00024: val_acc improved from 0.91605 to 0.91667, saving model to long_mc_bestWeightsLSTMStateless3L50.hdf5\n",
      "Epoch 25/50\n",
      " - 5s - loss: 0.1447 - acc: 0.9196 - val_loss: 0.1439 - val_acc: 0.9167\n",
      "\n",
      "Epoch 00025: val_acc did not improve\n",
      "Epoch 26/50\n",
      " - 4s - loss: 0.1439 - acc: 0.9199 - val_loss: 0.1434 - val_acc: 0.9167\n",
      "\n",
      "Epoch 00026: val_acc did not improve\n",
      "Epoch 27/50\n",
      " - 5s - loss: 0.1431 - acc: 0.9202 - val_loss: 0.1422 - val_acc: 0.9179\n",
      "\n",
      "Epoch 00027: val_acc improved from 0.91667 to 0.91790, saving model to long_mc_bestWeightsLSTMStateless3L50.hdf5\n",
      "Epoch 28/50\n",
      " - 5s - loss: 0.1424 - acc: 0.9208 - val_loss: 0.1421 - val_acc: 0.9173\n",
      "\n",
      "Epoch 00028: val_acc did not improve\n",
      "Epoch 29/50\n",
      " - 4s - loss: 0.1417 - acc: 0.9222 - val_loss: 0.1418 - val_acc: 0.9173\n",
      "\n",
      "Epoch 00029: val_acc did not improve\n",
      "Epoch 30/50\n",
      " - 5s - loss: 0.1411 - acc: 0.9215 - val_loss: 0.1413 - val_acc: 0.9179\n",
      "\n",
      "Epoch 00030: val_acc did not improve\n",
      "Epoch 31/50\n",
      " - 5s - loss: 0.1405 - acc: 0.9215 - val_loss: 0.1417 - val_acc: 0.9179\n",
      "\n",
      "Epoch 00031: val_acc did not improve\n",
      "Epoch 00031: early stopping\n",
      "--- 110.3458309173584 seconds ---\n"
     ]
    }
   ],
   "source": [
    "#Time to train\n",
    "\n",
    "start_time = time.time()\n",
    "\n",
    "\n",
    "\n",
    "history=model.fit(X_train, Y_train, epochs=50, batch_size=10, verbose=2, shuffle=False,\n",
    "            validation_data = (X_val,Y_val),callbacks=[checkpoint,es])  \n",
    "\n",
    "print(\"--- %s seconds ---\" % (time.time() - start_time))\n",
    "\n",
    "from keras.models import load_model\n",
    "\n",
    "model.save(hdf5FileName[:-3])  # creates a HDF5 file 'my_model.h5'\n",
    "\n"
   ]
  },
  {
   "cell_type": "code",
   "execution_count": 18,
   "metadata": {},
   "outputs": [
    {
     "data": {
      "image/png": "[encoded data removed]",
      "text/plain": [
       "<Figure size 432x288 with 1 Axes>"
      ]
     },
     "metadata": {},
     "output_type": "display_data"
    }
   ],
   "source": [
    "\n",
    "\n",
    "from keras.models import Sequential\n",
    "from keras.layers import Dense\n",
    "from keras.layers import LSTM\n",
    "from matplotlib import pyplot\n",
    "from numpy import array\n",
    " \n",
    "\n",
    "pyplot.plot(history.history['loss'])\n",
    "pyplot.plot(history.history['val_loss'])\n",
    "pyplot.title('model train vs validation loss')\n",
    "pyplot.ylabel('loss')\n",
    "pyplot.xlabel('epoch')\n",
    "pyplot.legend(['train', 'validation'], loc='upper right')\n",
    "\n",
    "\n",
    "\n",
    "\n",
    "pyplot.show()"
   ]
  },
  {
   "cell_type": "code",
   "execution_count": 19,
   "metadata": {},
   "outputs": [
    {
     "data": {
      "image/png": "[encoded data removed]",
      "text/plain": [
       "<Figure size 432x288 with 1 Axes>"
      ]
     },
     "metadata": {},
     "output_type": "display_data"
    }
   ],
   "source": [
    "\n",
    "pyplot.plot(history.history['acc'])\n",
    "pyplot.plot(history.history['val_acc'])\n",
    "pyplot.title('model train vs validation acc')\n",
    "pyplot.ylabel('acc')\n",
    "pyplot.xlabel('epoch')\n",
    "pyplot.legend(['train', 'validation'], loc='lower right')\n",
    "pyplot.show()"
   ]
  },
  {
   "cell_type": "markdown",
   "metadata": {},
   "source": [
    "## Test"
   ]
  },
  {
   "cell_type": "code",
   "execution_count": 20,
   "metadata": {},
   "outputs": [
    {
     "data": {
      "text/html": [
       "<div>\n",
       "<style scoped>\n",
       "    .dataframe tbody tr th:only-of-type {\n",
       "        vertical-align: middle;\n",
       "    }\n",
       "\n",
       "    .dataframe tbody tr th {\n",
       "        vertical-align: top;\n",
       "    }\n",
       "\n",
       "    .dataframe thead th {\n",
       "        text-align: right;\n",
       "    }\n",
       "</style>\n",
       "<table border=\"1\" class=\"dataframe\">\n",
       "  <thead>\n",
       "    <tr style=\"text-align: right;\">\n",
       "      <th></th>\n",
       "      <th>0</th>\n",
       "      <th>1</th>\n",
       "      <th>2</th>\n",
       "      <th>3</th>\n",
       "      <th>4</th>\n",
       "      <th>5</th>\n",
       "      <th>6</th>\n",
       "      <th>7</th>\n",
       "      <th>8</th>\n",
       "      <th>9</th>\n",
       "      <th>...</th>\n",
       "      <th>291</th>\n",
       "      <th>292</th>\n",
       "      <th>293</th>\n",
       "      <th>294</th>\n",
       "      <th>295</th>\n",
       "      <th>296</th>\n",
       "      <th>297</th>\n",
       "      <th>298</th>\n",
       "      <th>299</th>\n",
       "      <th>300</th>\n",
       "    </tr>\n",
       "  </thead>\n",
       "  <tbody>\n",
       "    <tr>\n",
       "      <td>0</td>\n",
       "      <td>0.0</td>\n",
       "      <td>0.0</td>\n",
       "      <td>1.0</td>\n",
       "      <td>0.0</td>\n",
       "      <td>0.0</td>\n",
       "      <td>0.0</td>\n",
       "      <td>0.0</td>\n",
       "      <td>0.0</td>\n",
       "      <td>0.0</td>\n",
       "      <td>0.0</td>\n",
       "      <td>...</td>\n",
       "      <td>0.0</td>\n",
       "      <td>0.0</td>\n",
       "      <td>4.0</td>\n",
       "      <td>0.0</td>\n",
       "      <td>3.0</td>\n",
       "      <td>1.0</td>\n",
       "      <td>136.0</td>\n",
       "      <td>1.0</td>\n",
       "      <td>5.339931</td>\n",
       "      <td>Aria</td>\n",
       "    </tr>\n",
       "    <tr>\n",
       "      <td>1</td>\n",
       "      <td>0.0</td>\n",
       "      <td>0.0</td>\n",
       "      <td>1.0</td>\n",
       "      <td>0.0</td>\n",
       "      <td>0.0</td>\n",
       "      <td>0.0</td>\n",
       "      <td>0.0</td>\n",
       "      <td>0.0</td>\n",
       "      <td>0.0</td>\n",
       "      <td>0.0</td>\n",
       "      <td>...</td>\n",
       "      <td>0.0</td>\n",
       "      <td>0.0</td>\n",
       "      <td>4.0</td>\n",
       "      <td>0.0</td>\n",
       "      <td>3.0</td>\n",
       "      <td>1.0</td>\n",
       "      <td>64.0</td>\n",
       "      <td>1.0</td>\n",
       "      <td>3.772055</td>\n",
       "      <td>Aria</td>\n",
       "    </tr>\n",
       "    <tr>\n",
       "      <td>2</td>\n",
       "      <td>0.0</td>\n",
       "      <td>0.0</td>\n",
       "      <td>1.0</td>\n",
       "      <td>0.0</td>\n",
       "      <td>0.0</td>\n",
       "      <td>0.0</td>\n",
       "      <td>0.0</td>\n",
       "      <td>0.0</td>\n",
       "      <td>0.0</td>\n",
       "      <td>0.0</td>\n",
       "      <td>...</td>\n",
       "      <td>0.0</td>\n",
       "      <td>0.0</td>\n",
       "      <td>4.0</td>\n",
       "      <td>0.0</td>\n",
       "      <td>3.0</td>\n",
       "      <td>1.0</td>\n",
       "      <td>64.0</td>\n",
       "      <td>1.0</td>\n",
       "      <td>3.772055</td>\n",
       "      <td>Aria</td>\n",
       "    </tr>\n",
       "    <tr>\n",
       "      <td>3</td>\n",
       "      <td>0.0</td>\n",
       "      <td>0.0</td>\n",
       "      <td>1.0</td>\n",
       "      <td>0.0</td>\n",
       "      <td>0.0</td>\n",
       "      <td>0.0</td>\n",
       "      <td>0.0</td>\n",
       "      <td>0.0</td>\n",
       "      <td>0.0</td>\n",
       "      <td>0.0</td>\n",
       "      <td>...</td>\n",
       "      <td>0.0</td>\n",
       "      <td>0.0</td>\n",
       "      <td>4.0</td>\n",
       "      <td>0.0</td>\n",
       "      <td>3.0</td>\n",
       "      <td>1.0</td>\n",
       "      <td>64.0</td>\n",
       "      <td>1.0</td>\n",
       "      <td>3.772055</td>\n",
       "      <td>Aria</td>\n",
       "    </tr>\n",
       "    <tr>\n",
       "      <td>4</td>\n",
       "      <td>0.0</td>\n",
       "      <td>0.0</td>\n",
       "      <td>1.0</td>\n",
       "      <td>0.0</td>\n",
       "      <td>0.0</td>\n",
       "      <td>0.0</td>\n",
       "      <td>0.0</td>\n",
       "      <td>0.0</td>\n",
       "      <td>0.0</td>\n",
       "      <td>0.0</td>\n",
       "      <td>...</td>\n",
       "      <td>0.0</td>\n",
       "      <td>0.0</td>\n",
       "      <td>4.0</td>\n",
       "      <td>0.0</td>\n",
       "      <td>3.0</td>\n",
       "      <td>1.0</td>\n",
       "      <td>64.0</td>\n",
       "      <td>1.0</td>\n",
       "      <td>3.772055</td>\n",
       "      <td>Aria</td>\n",
       "    </tr>\n",
       "  </tbody>\n",
       "</table>\n",
       "<p>5 rows × 301 columns</p>\n",
       "</div>"
      ],
      "text/plain": [
       "   0    1    2    3    4    5    6    7    8    9    ...  291  292  293  294  \\\n",
       "0  0.0  0.0  1.0  0.0  0.0  0.0  0.0  0.0  0.0  0.0  ...  0.0  0.0  4.0  0.0   \n",
       "1  0.0  0.0  1.0  0.0  0.0  0.0  0.0  0.0  0.0  0.0  ...  0.0  0.0  4.0  0.0   \n",
       "2  0.0  0.0  1.0  0.0  0.0  0.0  0.0  0.0  0.0  0.0  ...  0.0  0.0  4.0  0.0   \n",
       "3  0.0  0.0  1.0  0.0  0.0  0.0  0.0  0.0  0.0  0.0  ...  0.0  0.0  4.0  0.0   \n",
       "4  0.0  0.0  1.0  0.0  0.0  0.0  0.0  0.0  0.0  0.0  ...  0.0  0.0  4.0  0.0   \n",
       "\n",
       "   295  296    297  298       299   300  \n",
       "0  3.0  1.0  136.0  1.0  5.339931  Aria  \n",
       "1  3.0  1.0   64.0  1.0  3.772055  Aria  \n",
       "2  3.0  1.0   64.0  1.0  3.772055  Aria  \n",
       "3  3.0  1.0   64.0  1.0  3.772055  Aria  \n",
       "4  3.0  1.0   64.0  1.0  3.772055  Aria  \n",
       "\n",
       "[5 rows x 301 columns]"
      ]
     },
     "execution_count": 20,
     "metadata": {},
     "output_type": "execute_result"
    }
   ],
   "source": [
    "df = pd.read_csv('l_h_test_sk.csv',header=None )\n",
    "np.random.seed(42)\n",
    "df.head()"
   ]
  },
  {
   "cell_type": "code",
   "execution_count": 21,
   "metadata": {},
   "outputs": [],
   "source": [
    "## \n",
    "X =df[df.columns[0:-1]]\n",
    "X=np.array(X)\n",
    "\n",
    "y=df[df.columns[-1]]  \n",
    "\n",
    "scaler = Normalizer().fit(X)\n",
    "X = scaler.transform(X)\n",
    "# summarize transformed data\n",
    "\n",
    "\n",
    "\n",
    "from sklearn import preprocessing \n",
    "le = preprocessing.LabelEncoder()\n",
    "y=le.fit_transform(y)\n",
    "\n",
    "\n",
    "\n",
    "from keras.utils import np_utils\n",
    "y = np_utils.to_categorical(y)\n",
    "\n",
    "\n",
    "# reshape input to be [samples, time steps, features]\n",
    "X_test = np.reshape(X, (X.shape[0], 1, X.shape[1]))\n",
    "\n",
    "\n",
    "\n",
    "# reshape input to be [samples, time steps, features]\n",
    "Y_test = np.reshape(y, (y.shape[0],  y.shape[1]))\n"
   ]
  },
  {
   "cell_type": "code",
   "execution_count": 22,
   "metadata": {},
   "outputs": [
    {
     "data": {
      "text/plain": [
       "array([[[1., 0., 0., ..., 0., 0., 0.]],\n",
       "\n",
       "       [[1., 0., 0., ..., 0., 0., 0.]],\n",
       "\n",
       "       [[1., 0., 0., ..., 0., 0., 0.]],\n",
       "\n",
       "       ...,\n",
       "\n",
       "       [[0., 0., 0., ..., 0., 0., 1.]],\n",
       "\n",
       "       [[0., 0., 0., ..., 0., 0., 1.]],\n",
       "\n",
       "       [[0., 0., 0., ..., 0., 0., 1.]]])"
      ]
     },
     "execution_count": 22,
     "metadata": {},
     "output_type": "execute_result"
    }
   ],
   "source": [
    "Y_test = np.reshape(y, (y.shape[0],  1,y.shape[1]))\n",
    "Y_test"
   ]
  },
  {
   "cell_type": "markdown",
   "metadata": {},
   "source": [
    "## TEST DEĞERLENDİRME"
   ]
  },
  {
   "cell_type": "code",
   "execution_count": 23,
   "metadata": {},
   "outputs": [
    {
     "name": "stdout",
     "output_type": "stream",
     "text": [
      "1350/1350 [==============================] - 3s 3ms/step\n",
      "Loss for testing = 2.137783600691179 and Accuracy for testing = 0.6696296296296296\n"
     ]
    }
   ],
   "source": [
    "loss,acc = model.evaluate(X_test,Y_test,batch_size=1)\n",
    "print(\"Loss for testing = {} and Accuracy for testing = {}\".format(loss,acc))\n",
    "#predicted = model.predict(X_test)"
   ]
  },
  {
   "cell_type": "code",
   "execution_count": 24,
   "metadata": {},
   "outputs": [],
   "source": [
    "predicted = model.predict(X_test,verbose=0)\n",
    "\n"
   ]
  },
  {
   "cell_type": "code",
   "execution_count": 25,
   "metadata": {},
   "outputs": [
    {
     "data": {
      "text/plain": [
       "array([[[8.1313409e-08, 1.5928403e-08, 8.1575090e-06, ...,\n",
       "         5.1705237e-02, 2.2371476e-13, 5.0688559e-01]],\n",
       "\n",
       "       [[9.9999034e-01, 6.0883795e-17, 1.8317184e-12, ...,\n",
       "         2.6245395e-06, 2.1782742e-13, 6.8492145e-06]],\n",
       "\n",
       "       [[9.9999034e-01, 6.0883795e-17, 1.8317184e-12, ...,\n",
       "         2.6245395e-06, 2.1782742e-13, 6.8492145e-06]],\n",
       "\n",
       "       ...,\n",
       "\n",
       "       [[3.6062308e-06, 1.1102045e-14, 6.5883610e-09, ...,\n",
       "         5.5081591e-07, 2.8012430e-12, 9.9994469e-01]],\n",
       "\n",
       "       [[3.6062586e-06, 1.1101621e-14, 6.5878583e-09, ...,\n",
       "         5.5088628e-07, 2.8012590e-12, 9.9994469e-01]],\n",
       "\n",
       "       [[3.4734558e-06, 1.2451518e-14, 6.8914630e-09, ...,\n",
       "         6.0735226e-07, 2.6978411e-12, 9.9993861e-01]]], dtype=float32)"
      ]
     },
     "execution_count": 25,
     "metadata": {},
     "output_type": "execute_result"
    }
   ],
   "source": [
    "predicted"
   ]
  },
  {
   "cell_type": "code",
   "execution_count": 26,
   "metadata": {},
   "outputs": [
    {
     "data": {
      "text/plain": [
       "(1350, 1, 300)"
      ]
     },
     "execution_count": 26,
     "metadata": {},
     "output_type": "execute_result"
    }
   ],
   "source": [
    "(X_test.shape)"
   ]
  },
  {
   "cell_type": "code",
   "execution_count": 27,
   "metadata": {},
   "outputs": [],
   "source": [
    "#predicted = model.predict(X_test)"
   ]
  },
  {
   "cell_type": "code",
   "execution_count": 28,
   "metadata": {},
   "outputs": [
    {
     "data": {
      "text/plain": [
       "(1350, 1, 27)"
      ]
     },
     "execution_count": 28,
     "metadata": {},
     "output_type": "execute_result"
    }
   ],
   "source": [
    "(predicted.shape)"
   ]
  },
  {
   "cell_type": "code",
   "execution_count": 29,
   "metadata": {},
   "outputs": [
    {
     "data": {
      "text/plain": [
       "'\\n\\nfor i in X_test:\\n    temp=i\\n    print(temp.shape) #(predicted)\\n    temp=(np.reshape(temp, (temp.shape[0], 1, temp.shape[1])))\\n    print(temp.shape) #(predicted)\\n    predicted = model.predict(temp,batch_size=1000)\\n    print(predicted)\\n    break\\n'"
      ]
     },
     "execution_count": 29,
     "metadata": {},
     "output_type": "execute_result"
    }
   ],
   "source": [
    "\"\"\"\n",
    "\n",
    "for i in X_test:\n",
    "    temp=i\n",
    "    print(temp.shape) #(predicted)\n",
    "    temp=(np.reshape(temp, (temp.shape[0], 1, temp.shape[1])))\n",
    "    print(temp.shape) #(predicted)\n",
    "    predicted = model.predict(temp,batch_size=1000)\n",
    "    print(predicted)\n",
    "    break\n",
    "\"\"\""
   ]
  },
  {
   "cell_type": "markdown",
   "metadata": {},
   "source": [
    "### grafik mırafik"
   ]
  },
  {
   "cell_type": "code",
   "execution_count": 30,
   "metadata": {},
   "outputs": [
    {
     "data": {
      "text/plain": [
       "'   \\n    predicted= np.array(predicted).tolist()\\n    Y_test = np.array(Y_test).tolist()\\n\\n    n_classes = 27\\n    print(\"n_classes is: \", n_classes)\\n    Y_test= np.asarray(Y_test)\\n    predicted = np.asarray(predicted)\\n    \\n    fpr = dict()\\n    tpr = dict()\\n    roc_auc = dict()\\n    for i in range(n_classes):\\n        fpr[i], tpr[i], _ = roc_curve(Y_test[:, i], predicted[:, i])\\n        roc_auc[i] = auc(fpr[i], tpr[i])\\n\\n    # Compute micro-average ROC curve and ROC area\\n    fpr[\"micro\"], tpr[\"micro\"], _ = roc_curve(Y_test.ravel(), predicted.ravel())\\n    roc_auc[\"micro\"] = auc(fpr[\"micro\"], tpr[\"micro\"])\\n    \\n    lw = 2\\n    # Compute macro-average ROC curve and ROC area\\n    #First aggregate all false positive rates\\n    all_fpr = np.unique(np.concatenate([fpr[i] for i in range(n_classes)]))\\n\\n    # Then interpolate all ROC curves at this points\\n    mean_tpr = np.zeros_like(all_fpr)\\n    for i in range(n_classes):\\n        mean_tpr += interp(all_fpr, fpr[i], tpr[i])\\n\\n    # Finally average it and compute AUC\\n    mean_tpr /= n_classes\\n\\n    fpr[\"macro\"] = all_fpr\\n    tpr[\"macro\"] = mean_tpr\\n    roc_auc[\"macro\"] = auc(fpr[\"macro\"], tpr[\"macro\"])\\n\\n    # Plot all ROC curves\\n    plt.figure()\\n    plt.plot(fpr[\"micro\"], tpr[\"micro\"],\\n             label=\\'micro-average ROC curve (area = {0:0.2f})\\'\\n                   \\'\\'.format(roc_auc[\"micro\"]),\\n             color=\\'deeppink\\', linestyle=\\':\\', linewidth=4)\\n\\n    plt.plot(fpr[\"macro\"], tpr[\"macro\"],\\n             label=\\'macro-average ROC curve (area = {0:0.2f})\\'\\n                   \\'\\'.format(roc_auc[\"macro\"]),\\n             color=\\'navy\\', linestyle=\\':\\', linewidth=4)\\n\\n    colors = cycle([\\'aqua\\', \\'darkorange\\', \\'cornflowerblue\\'])\\n    for i, color in zip(range(n_classes), colors):\\n        plt.plot(fpr[i], tpr[i], color=color, lw=lw,\\n                 label=\\'ROC curve of class {0} (area = {1:0.2f})\\'\\n                 \\'\\'.format(i, roc_auc[i]))\\n\\n    plt.plot([0, 1], [0, 1], \\'k--\\', lw=lw)\\n    plt.xlim([0.0, 1.0])\\n    plt.ylim([0.0, 1.05])\\n    plt.xlabel(\\'False Positive Rate\\')\\n    plt.ylabel(\\'True Positive Rate\\')\\n    plt.legend(loc=\"lower right\")\\n    plt.show()\\n    \\n    '"
      ]
     },
     "execution_count": 30,
     "metadata": {},
     "output_type": "execute_result"
    }
   ],
   "source": [
    "def compute_metrics(predicted, Y_test):   \n",
    "    Y_classes = [np.argmax(item) for item in Y_test]\n",
    "    #print(Y_classes)\n",
    "    predicted_classes = [np.argmax(item) for item in predicted]\n",
    "    predictions = np.array(predicted_classes)\n",
    "    Y_actual = np.array(Y_classes)\n",
    "   \n",
    "    y_actu = pd.Series(np.reshape(Y_actual,len(Y_actual)), name='Actual')\n",
    "    y_pred = pd.Series(np.reshape(predictions, len(predictions)), name='Predicted')\n",
    "    \n",
    "    y_act = pd.Categorical(y_actu, categories=list(range(0,27)))\n",
    "    y_pre = pd.Categorical(y_pred, categories=list(range(0,27)))\n",
    "    \n",
    "    #F1 score\n",
    "    from sklearn.metrics import f1_score\n",
    "    print(\"Average F1 score is {}\".format(f1_score(Y_classes, predicted_classes, average='weighted', labels = list(range(0,27)))))\n",
    "    \n",
    "    df_confusion = pd.crosstab(y_act, y_pre, rownames =['Actual'],colnames=['Predicted'])\n",
    "    print(\"Confusion matrix: \\n\", df_confusion)\n",
    "    #pprint.pprint(df_confusion)\n",
    "    return df_confusion\n",
    "\"\"\"   \n",
    "    predicted= np.array(predicted).tolist()\n",
    "    Y_test = np.array(Y_test).tolist()\n",
    "\n",
    "    n_classes = 27\n",
    "    print(\"n_classes is: \", n_classes)\n",
    "    Y_test= np.asarray(Y_test)\n",
    "    predicted = np.asarray(predicted)\n",
    "    \n",
    "    fpr = dict()\n",
    "    tpr = dict()\n",
    "    roc_auc = dict()\n",
    "    for i in range(n_classes):\n",
    "        fpr[i], tpr[i], _ = roc_curve(Y_test[:, i], predicted[:, i])\n",
    "        roc_auc[i] = auc(fpr[i], tpr[i])\n",
    "\n",
    "    # Compute micro-average ROC curve and ROC area\n",
    "    fpr[\"micro\"], tpr[\"micro\"], _ = roc_curve(Y_test.ravel(), predicted.ravel())\n",
    "    roc_auc[\"micro\"] = auc(fpr[\"micro\"], tpr[\"micro\"])\n",
    "    \n",
    "    lw = 2\n",
    "    # Compute macro-average ROC curve and ROC area\n",
    "    #First aggregate all false positive rates\n",
    "    all_fpr = np.unique(np.concatenate([fpr[i] for i in range(n_classes)]))\n",
    "\n",
    "    # Then interpolate all ROC curves at this points\n",
    "    mean_tpr = np.zeros_like(all_fpr)\n",
    "    for i in range(n_classes):\n",
    "        mean_tpr += interp(all_fpr, fpr[i], tpr[i])\n",
    "\n",
    "    # Finally average it and compute AUC\n",
    "    mean_tpr /= n_classes\n",
    "\n",
    "    fpr[\"macro\"] = all_fpr\n",
    "    tpr[\"macro\"] = mean_tpr\n",
    "    roc_auc[\"macro\"] = auc(fpr[\"macro\"], tpr[\"macro\"])\n",
    "\n",
    "    # Plot all ROC curves\n",
    "    plt.figure()\n",
    "    plt.plot(fpr[\"micro\"], tpr[\"micro\"],\n",
    "             label='micro-average ROC curve (area = {0:0.2f})'\n",
    "                   ''.format(roc_auc[\"micro\"]),\n",
    "             color='deeppink', linestyle=':', linewidth=4)\n",
    "\n",
    "    plt.plot(fpr[\"macro\"], tpr[\"macro\"],\n",
    "             label='macro-average ROC curve (area = {0:0.2f})'\n",
    "                   ''.format(roc_auc[\"macro\"]),\n",
    "             color='navy', linestyle=':', linewidth=4)\n",
    "\n",
    "    colors = cycle(['aqua', 'darkorange', 'cornflowerblue'])\n",
    "    for i, color in zip(range(n_classes), colors):\n",
    "        plt.plot(fpr[i], tpr[i], color=color, lw=lw,\n",
    "                 label='ROC curve of class {0} (area = {1:0.2f})'\n",
    "                 ''.format(i, roc_auc[i]))\n",
    "\n",
    "    plt.plot([0, 1], [0, 1], 'k--', lw=lw)\n",
    "    plt.xlim([0.0, 1.0])\n",
    "    plt.ylim([0.0, 1.05])\n",
    "    plt.xlabel('False Positive Rate')\n",
    "    plt.ylabel('True Positive Rate')\n",
    "    plt.legend(loc=\"lower right\")\n",
    "    plt.show()\n",
    "    \n",
    "    \"\"\" "
   ]
  },
  {
   "cell_type": "code",
   "execution_count": 31,
   "metadata": {},
   "outputs": [
    {
     "data": {
      "text/plain": [
       "array([[[8.1313409e-08, 1.5928403e-08, 8.1575090e-06, ...,\n",
       "         5.1705237e-02, 2.2371476e-13, 5.0688559e-01]],\n",
       "\n",
       "       [[9.9999034e-01, 6.0883795e-17, 1.8317184e-12, ...,\n",
       "         2.6245395e-06, 2.1782742e-13, 6.8492145e-06]],\n",
       "\n",
       "       [[9.9999034e-01, 6.0883795e-17, 1.8317184e-12, ...,\n",
       "         2.6245395e-06, 2.1782742e-13, 6.8492145e-06]],\n",
       "\n",
       "       ...,\n",
       "\n",
       "       [[3.6062308e-06, 1.1102045e-14, 6.5883610e-09, ...,\n",
       "         5.5081591e-07, 2.8012430e-12, 9.9994469e-01]],\n",
       "\n",
       "       [[3.6062586e-06, 1.1101621e-14, 6.5878583e-09, ...,\n",
       "         5.5088628e-07, 2.8012590e-12, 9.9994469e-01]],\n",
       "\n",
       "       [[3.4734558e-06, 1.2451518e-14, 6.8914630e-09, ...,\n",
       "         6.0735226e-07, 2.6978411e-12, 9.9993861e-01]]], dtype=float32)"
      ]
     },
     "execution_count": 31,
     "metadata": {},
     "output_type": "execute_result"
    }
   ],
   "source": [
    "predicted"
   ]
  },
  {
   "cell_type": "code",
   "execution_count": 32,
   "metadata": {},
   "outputs": [
    {
     "name": "stdout",
     "output_type": "stream",
     "text": [
      "(1350, 1, 27) (1350, 1, 27)\n"
     ]
    }
   ],
   "source": [
    "print(predicted.shape, Y_test.shape)"
   ]
  },
  {
   "cell_type": "code",
   "execution_count": 33,
   "metadata": {},
   "outputs": [
    {
     "name": "stdout",
     "output_type": "stream",
     "text": [
      "Average F1 score is 0.6596274921917414\n",
      "Confusion matrix: \n",
      " Predicted  0   1   2   3   4   5   6   7   8   9   ...  17  18  19  20  21  \\\n",
      "Actual                                             ...                       \n",
      "0          41   0   0   0   0   0   0   0   0   0  ...   0   0   0   0   0   \n",
      "1           0  36   0   0   0   0   0   0   0   0  ...   0   8   0   0   0   \n",
      "2           0   0  35   0   0   0   0   8   0   0  ...   0   0   0   0   0   \n",
      "3           0   0   0  32   0   0   0   0   0   0  ...   0   0   0   0   0   \n",
      "4           0   0   0   0  25   0   0   0   0   0  ...   0   0   0   0   0   \n",
      "5           0   0   0   0   0  36   0   0   8   0  ...   0   0   0   0   0   \n",
      "6           0   0   0   0   0   0  16   0  25   0  ...   0   0   0   0   0   \n",
      "7           0   0   9   0   0   0   0  11   9   0  ...   0   0   0   0   0   \n",
      "8           0   0   0   0   0   0  26   0  24   0  ...   0   0   0   0   0   \n",
      "9           0   0   0   0   0   0  11   0   0  39  ...   0   0   0   0   0   \n",
      "10          0   0   0   0   0   0   0   0   0   0  ...   0   0   0   0   0   \n",
      "11          0   0   0   0   0   0   0   0   0   0  ...   0   0   0   0   0   \n",
      "12          0   0   0   0   0   0   0   0   0   0  ...   0   0   0   0   0   \n",
      "13          0   0   0   0   0   0   0   0   0   0  ...   0   0   0   0   0   \n",
      "14          0   0   0   0   0   0   0   0   0   0  ...   0   0   0   0   0   \n",
      "15          0   0   0  16   0   0   0   0   0   0  ...   0   0   0   0   0   \n",
      "16          0   0   0   6   0   0   0   0   0   0  ...   0   0   0   0   0   \n",
      "17          0   0   0   0   0   0   0   0   0   0  ...   0   0   0  50   0   \n",
      "18          0   0   0   0   0   0   0   0   0   0  ...   0  50   0   0   0   \n",
      "19          8   0   0   0   0   0   0   0   0   0  ...   0   0  42   0   0   \n",
      "20          0   0   0   0   0   0   0   0   0   0  ...   7   0   0  32   0   \n",
      "21          0   0   0   0   8   0   0   0   0   0  ...   0   0   0   0  15   \n",
      "22          0   0   0   0   0   0   0   0   0   0  ...   0   0   0   0   9   \n",
      "23          0   0   0   0   0   0   0   0   0   0  ...   0   0   0   0   0   \n",
      "24          0   0   0   0   0   0   0   0   0   0  ...   0   0   0   0   0   \n",
      "25          0   0   0   0   0   0   0   0   0   0  ...   0   0   0   0   0   \n",
      "26          0   0   0   0   0   0   0   0   0   0  ...   0   0   0   0   0   \n",
      "\n",
      "Predicted  22  23  24  25  26  \n",
      "Actual                         \n",
      "0           0   0   0   0   9  \n",
      "1           6   0   0   0   0  \n",
      "2           0   0   0   0   0  \n",
      "3           0   0   0   0   0  \n",
      "4           0   0   0   0   0  \n",
      "5           6   0   0   0   0  \n",
      "6           0   0   0   0   0  \n",
      "7           0   0   0   0   0  \n",
      "8           0   0   0   0   0  \n",
      "9           0   0   0   0   0  \n",
      "10          0   0   0   0   0  \n",
      "11          0   0   0   0   0  \n",
      "12          0   0   0   0   0  \n",
      "13          0   0   0   0   0  \n",
      "14          0   0   0   0   0  \n",
      "15          0   8   0   0   0  \n",
      "16          0   0   0   0   0  \n",
      "17          0   0   0   0   0  \n",
      "18          0   0   0   0   0  \n",
      "19          0   0   0   0   0  \n",
      "20          0   0   0   0   0  \n",
      "21         16   0   0   0   0  \n",
      "22         32   0   0   0   0  \n",
      "23          0  42   0   0   0  \n",
      "24          0   0  41   0   0  \n",
      "25          0   0   0  50   0  \n",
      "26          0   0   0   0  50  \n",
      "\n",
      "[27 rows x 27 columns]\n"
     ]
    }
   ],
   "source": [
    "df_cm=compute_metrics(predicted, Y_test)"
   ]
  },
  {
   "cell_type": "code",
   "execution_count": 34,
   "metadata": {},
   "outputs": [],
   "source": [
    "matrix = df_cm.values"
   ]
  },
  {
   "cell_type": "code",
   "execution_count": null,
   "metadata": {},
   "outputs": [],
   "source": []
  },
  {
   "cell_type": "code",
   "execution_count": 35,
   "metadata": {},
   "outputs": [
    {
     "data": {
      "image/png": "[encoded data removed]",
      "text/plain": [
       "<Figure size 1440x1440 with 2 Axes>"
      ]
     },
     "metadata": {},
     "output_type": "display_data"
    }
   ],
   "source": [
    "import seaborn as sn\n",
    "import pandas as pd\n",
    "import matplotlib.pyplot as plt\n",
    "\n",
    "\n",
    "\n",
    "#df_cm = pd.DataFrame(matrix, range(27), range(27))\n",
    "plt.figure(figsize=(20,20))\n",
    "sn.set(font_scale=1.4) # for label size\n",
    "sn.heatmap(df_cm, annot=True, annot_kws={\"size\": 9}) # font size\n",
    "\n",
    "plt.show()"
   ]
  },
  {
   "cell_type": "code",
   "execution_count": 36,
   "metadata": {},
   "outputs": [
    {
     "name": "stdout",
     "output_type": "stream",
     "text": [
      "label precision recall fscore\n",
      "    0     0.837  0.820  0.828\n",
      "    1     1.000  0.720  0.837\n",
      "    2     0.795  0.700  0.745\n",
      "    3     0.593  0.640  0.615\n",
      "    4     0.758  0.500  0.602\n",
      "    5     1.000  0.720  0.837\n",
      "    6     0.302  0.320  0.311\n",
      "    7     0.579  0.220  0.319\n",
      "    8     0.364  0.480  0.414\n",
      "    9     1.000  0.780  0.876\n",
      "   10     0.520  0.520  0.520\n",
      "   11     0.312  0.300  0.306\n",
      "   12     0.427  1.000  0.599\n",
      "   13     0.769  1.000  0.870\n",
      "   14     0.735  1.000  0.847\n",
      "   15     0.357  0.400  0.377\n",
      "   16     1.000  0.880  0.936\n",
      "   17     0.000  0.000    nan\n",
      "   18     0.862  1.000  0.926\n",
      "   19     1.000  0.840  0.913\n",
      "   20     0.390  0.640  0.485\n",
      "   21     0.625  0.300  0.405\n",
      "   22     0.533  0.640  0.582\n",
      "   23     0.840  0.840  0.840\n",
      "   24     1.000  0.820  0.901\n",
      "   25     1.000  1.000  1.000\n",
      "   26     0.847  1.000  0.917\n"
     ]
    },
    {
     "name": "stderr",
     "output_type": "stream",
     "text": [
      "c:\\users\\kahraman\\appdata\\local\\programs\\python\\python36\\lib\\site-packages\\ipykernel_launcher.py:28: RuntimeWarning: invalid value encountered in double_scalars\n"
     ]
    }
   ],
   "source": [
    "cm=matrix\n",
    "def precision(label, confusion_matrix):\n",
    "    col = confusion_matrix[:, label]\n",
    "    return confusion_matrix[label, label] / col.sum()\n",
    "    \n",
    "def recall(label, confusion_matrix):\n",
    "    row = confusion_matrix[label, :]\n",
    "    return confusion_matrix[label, label] / row.sum()\n",
    "\n",
    "def precision_macro_average(confusion_matrix):\n",
    "    rows, columns = confusion_matrix.shape\n",
    "    sum_of_precisions = 0\n",
    "    for label in range(rows):\n",
    "        sum_of_precisions += precision(label, confusion_matrix)\n",
    "    return sum_of_precisions / rows\n",
    "\n",
    "def recall_macro_average(confusion_matrix):\n",
    "    rows, columns = confusion_matrix.shape\n",
    "    sum_of_recalls = 0\n",
    "    for label in range(columns):\n",
    "        sum_of_recalls += recall(label, confusion_matrix)\n",
    "    return sum_of_recalls / columns\n",
    "\n",
    "print(\"label precision recall fscore\")\n",
    "for label in range(27):\n",
    "    pr=precision(label, cm)\n",
    "    rec=recall(label, cm)\n",
    "    f1=2*(pr*rec/(pr+rec))\n",
    "    print(f\"{label:5d} {pr:9.3f} {rec:6.3f} {f1:6.3f}\")"
   ]
  },
  {
   "cell_type": "code",
   "execution_count": null,
   "metadata": {},
   "outputs": [],
   "source": [
    "def accuracy(confusion_matrix):\n",
    "    diagonal_sum = confusion_matrix.trace()\n",
    "    sum_of_all_elements = confusion_matrix.sum()\n",
    "    return diagonal_sum / sum_of_all_elements \n",
    "accuracy(cm)"
   ]
  },
  {
   "cell_type": "code",
   "execution_count": null,
   "metadata": {},
   "outputs": [],
   "source": []
  },
  {
   "cell_type": "markdown",
   "metadata": {},
   "source": [
    "## MODEL SAVING RELOADING"
   ]
  },
  {
   "cell_type": "code",
   "execution_count": 37,
   "metadata": {},
   "outputs": [],
   "source": [
    "from keras.models import load_model\n",
    "\n",
    "model.save('54.h5')  # creates a HDF5 file 'my_model.h5'\n",
    "\n"
   ]
  },
  {
   "cell_type": "code",
   "execution_count": null,
   "metadata": {},
   "outputs": [],
   "source": [
    "\n",
    "# returns a compiled model\n",
    "# identical to the previous one\n",
    "model = load_model('54.h5')"
   ]
  },
  {
   "cell_type": "code",
   "execution_count": null,
   "metadata": {},
   "outputs": [],
   "source": []
  },
  {
   "cell_type": "code",
   "execution_count": null,
   "metadata": {},
   "outputs": [],
   "source": []
  },
  {
   "cell_type": "code",
   "execution_count": null,
   "metadata": {},
   "outputs": [],
   "source": []
  },
  {
   "cell_type": "code",
   "execution_count": null,
   "metadata": {},
   "outputs": [],
   "source": []
  }
 ],
 "metadata": {
  "kernelspec": {
   "display_name": "Python 3",
   "language": "python",
   "name": "python3"
  },
  "language_info": {
   "codemirror_mode": {
    "name": "ipython",
    "version": 3
   },
   "file_extension": ".py",
   "mimetype": "text/x-python",
   "name": "python",
   "nbconvert_exporter": "python",
   "pygments_lexer": "ipython3",
   "version": "3.6.5"
  }
 },
 "nbformat": 4,
 "nbformat_minor": 2
}
