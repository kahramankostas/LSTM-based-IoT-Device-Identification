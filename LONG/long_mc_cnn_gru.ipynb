{
 "cells": [
  {
   "cell_type": "code",
   "execution_count": 1,
   "metadata": {},
   "outputs": [
    {
     "name": "stderr",
     "output_type": "stream",
     "text": [
      "Using TensorFlow backend.\n",
      "c:\\users\\kahraman\\appdata\\local\\programs\\python\\python36\\lib\\site-packages\\tensorflow\\python\\framework\\dtypes.py:517: FutureWarning: Passing (type, 1) or '1type' as a synonym of type is deprecated; in a future version of numpy, it will be understood as (type, (1,)) / '(1,)type'.\n",
      "  _np_qint8 = np.dtype([(\"qint8\", np.int8, 1)])\n",
      "c:\\users\\kahraman\\appdata\\local\\programs\\python\\python36\\lib\\site-packages\\tensorflow\\python\\framework\\dtypes.py:518: FutureWarning: Passing (type, 1) or '1type' as a synonym of type is deprecated; in a future version of numpy, it will be understood as (type, (1,)) / '(1,)type'.\n",
      "  _np_quint8 = np.dtype([(\"quint8\", np.uint8, 1)])\n",
      "c:\\users\\kahraman\\appdata\\local\\programs\\python\\python36\\lib\\site-packages\\tensorflow\\python\\framework\\dtypes.py:519: FutureWarning: Passing (type, 1) or '1type' as a synonym of type is deprecated; in a future version of numpy, it will be understood as (type, (1,)) / '(1,)type'.\n",
      "  _np_qint16 = np.dtype([(\"qint16\", np.int16, 1)])\n",
      "c:\\users\\kahraman\\appdata\\local\\programs\\python\\python36\\lib\\site-packages\\tensorflow\\python\\framework\\dtypes.py:520: FutureWarning: Passing (type, 1) or '1type' as a synonym of type is deprecated; in a future version of numpy, it will be understood as (type, (1,)) / '(1,)type'.\n",
      "  _np_quint16 = np.dtype([(\"quint16\", np.uint16, 1)])\n",
      "c:\\users\\kahraman\\appdata\\local\\programs\\python\\python36\\lib\\site-packages\\tensorflow\\python\\framework\\dtypes.py:521: FutureWarning: Passing (type, 1) or '1type' as a synonym of type is deprecated; in a future version of numpy, it will be understood as (type, (1,)) / '(1,)type'.\n",
      "  _np_qint32 = np.dtype([(\"qint32\", np.int32, 1)])\n",
      "c:\\users\\kahraman\\appdata\\local\\programs\\python\\python36\\lib\\site-packages\\tensorflow\\python\\framework\\dtypes.py:526: FutureWarning: Passing (type, 1) or '1type' as a synonym of type is deprecated; in a future version of numpy, it will be understood as (type, (1,)) / '(1,)type'.\n",
      "  np_resource = np.dtype([(\"resource\", np.ubyte, 1)])\n"
     ]
    }
   ],
   "source": [
    "from keras.models import Sequential\n",
    "from keras.layers import Conv1D,GRU, LSTM,MaxPooling1D,Dropout,Activation,Embedding,RepeatVector,TimeDistributed,Conv2D,MaxPooling2D,Flatten,Convolution2D\n",
    "from keras.layers import Dense\n",
    "import pandas as pd\n",
    "import numpy as np\n",
    "from sklearn.model_selection import train_test_split\n",
    "from sklearn import decomposition\n",
    "from sklearn.feature_selection import SelectKBest\n",
    "from sklearn.feature_selection import chi2\n",
    "from sklearn.pipeline import FeatureUnion\n",
    "from sklearn.model_selection import StratifiedKFold\n",
    "import matplotlib.pyplot as plt\n",
    "import scikitplot as skplt\n",
    "from sklearn.preprocessing import label_binarize\n",
    "from sklearn.metrics import roc_curve, auc\n",
    "from scipy import interp\n",
    "from itertools import cycle\n",
    "import time\n",
    "from keras import metrics\n",
    "from keras import optimizers\n",
    "from keras import initializers\n",
    "from keras.callbacks import ModelCheckpoint\n",
    "import pprint\n",
    "from keras.callbacks import Callback\n",
    "from matplotlib import pyplot\n",
    "from numpy import array\n",
    "\n",
    "from sklearn import metrics\n",
    "from keras.callbacks import EarlyStopping\n",
    "from sklearn.preprocessing import Normalizer\n",
    "from keras import callbacks\n",
    "from keras.callbacks import ModelCheckpoint, EarlyStopping, ReduceLROnPlateau, CSVLogger"
   ]
  },
  {
   "cell_type": "code",
   "execution_count": 2,
   "metadata": {},
   "outputs": [
    {
     "data": {
      "text/html": [
       "<div>\n",
       "<style scoped>\n",
       "    .dataframe tbody tr th:only-of-type {\n",
       "        vertical-align: middle;\n",
       "    }\n",
       "\n",
       "    .dataframe tbody tr th {\n",
       "        vertical-align: top;\n",
       "    }\n",
       "\n",
       "    .dataframe thead th {\n",
       "        text-align: right;\n",
       "    }\n",
       "</style>\n",
       "<table border=\"1\" class=\"dataframe\">\n",
       "  <thead>\n",
       "    <tr style=\"text-align: right;\">\n",
       "      <th></th>\n",
       "      <th>0</th>\n",
       "      <th>1</th>\n",
       "      <th>2</th>\n",
       "      <th>3</th>\n",
       "      <th>4</th>\n",
       "      <th>5</th>\n",
       "      <th>6</th>\n",
       "      <th>7</th>\n",
       "      <th>8</th>\n",
       "      <th>9</th>\n",
       "      <th>...</th>\n",
       "      <th>291</th>\n",
       "      <th>292</th>\n",
       "      <th>293</th>\n",
       "      <th>294</th>\n",
       "      <th>295</th>\n",
       "      <th>296</th>\n",
       "      <th>297</th>\n",
       "      <th>298</th>\n",
       "      <th>299</th>\n",
       "      <th>300</th>\n",
       "    </tr>\n",
       "  </thead>\n",
       "  <tbody>\n",
       "    <tr>\n",
       "      <td>0</td>\n",
       "      <td>0.0</td>\n",
       "      <td>0.0</td>\n",
       "      <td>1.0</td>\n",
       "      <td>0.0</td>\n",
       "      <td>0.0</td>\n",
       "      <td>0.0</td>\n",
       "      <td>0.0</td>\n",
       "      <td>0.0</td>\n",
       "      <td>0.0</td>\n",
       "      <td>0.0</td>\n",
       "      <td>...</td>\n",
       "      <td>0.0</td>\n",
       "      <td>0.0</td>\n",
       "      <td>4.0</td>\n",
       "      <td>0.0</td>\n",
       "      <td>3.0</td>\n",
       "      <td>1.0</td>\n",
       "      <td>64.0</td>\n",
       "      <td>1.0</td>\n",
       "      <td>3.772055</td>\n",
       "      <td>Aria</td>\n",
       "    </tr>\n",
       "    <tr>\n",
       "      <td>1</td>\n",
       "      <td>0.0</td>\n",
       "      <td>0.0</td>\n",
       "      <td>1.0</td>\n",
       "      <td>0.0</td>\n",
       "      <td>0.0</td>\n",
       "      <td>0.0</td>\n",
       "      <td>0.0</td>\n",
       "      <td>0.0</td>\n",
       "      <td>0.0</td>\n",
       "      <td>0.0</td>\n",
       "      <td>...</td>\n",
       "      <td>0.0</td>\n",
       "      <td>0.0</td>\n",
       "      <td>4.0</td>\n",
       "      <td>0.0</td>\n",
       "      <td>3.0</td>\n",
       "      <td>1.0</td>\n",
       "      <td>64.0</td>\n",
       "      <td>1.0</td>\n",
       "      <td>3.772055</td>\n",
       "      <td>Aria</td>\n",
       "    </tr>\n",
       "    <tr>\n",
       "      <td>2</td>\n",
       "      <td>0.0</td>\n",
       "      <td>0.0</td>\n",
       "      <td>1.0</td>\n",
       "      <td>0.0</td>\n",
       "      <td>0.0</td>\n",
       "      <td>0.0</td>\n",
       "      <td>0.0</td>\n",
       "      <td>0.0</td>\n",
       "      <td>0.0</td>\n",
       "      <td>0.0</td>\n",
       "      <td>...</td>\n",
       "      <td>0.0</td>\n",
       "      <td>0.0</td>\n",
       "      <td>4.0</td>\n",
       "      <td>0.0</td>\n",
       "      <td>1.0</td>\n",
       "      <td>3.0</td>\n",
       "      <td>40.0</td>\n",
       "      <td>0.0</td>\n",
       "      <td>0.000000</td>\n",
       "      <td>Aria</td>\n",
       "    </tr>\n",
       "    <tr>\n",
       "      <td>3</td>\n",
       "      <td>0.0</td>\n",
       "      <td>0.0</td>\n",
       "      <td>1.0</td>\n",
       "      <td>0.0</td>\n",
       "      <td>0.0</td>\n",
       "      <td>0.0</td>\n",
       "      <td>0.0</td>\n",
       "      <td>0.0</td>\n",
       "      <td>0.0</td>\n",
       "      <td>0.0</td>\n",
       "      <td>...</td>\n",
       "      <td>0.0</td>\n",
       "      <td>0.0</td>\n",
       "      <td>4.0</td>\n",
       "      <td>0.0</td>\n",
       "      <td>3.0</td>\n",
       "      <td>1.0</td>\n",
       "      <td>64.0</td>\n",
       "      <td>1.0</td>\n",
       "      <td>3.772055</td>\n",
       "      <td>Aria</td>\n",
       "    </tr>\n",
       "    <tr>\n",
       "      <td>4</td>\n",
       "      <td>0.0</td>\n",
       "      <td>0.0</td>\n",
       "      <td>1.0</td>\n",
       "      <td>0.0</td>\n",
       "      <td>0.0</td>\n",
       "      <td>0.0</td>\n",
       "      <td>0.0</td>\n",
       "      <td>0.0</td>\n",
       "      <td>0.0</td>\n",
       "      <td>0.0</td>\n",
       "      <td>...</td>\n",
       "      <td>0.0</td>\n",
       "      <td>0.0</td>\n",
       "      <td>4.0</td>\n",
       "      <td>0.0</td>\n",
       "      <td>3.0</td>\n",
       "      <td>1.0</td>\n",
       "      <td>64.0</td>\n",
       "      <td>1.0</td>\n",
       "      <td>3.772055</td>\n",
       "      <td>Aria</td>\n",
       "    </tr>\n",
       "  </tbody>\n",
       "</table>\n",
       "<p>5 rows × 301 columns</p>\n",
       "</div>"
      ],
      "text/plain": [
       "   0    1    2    3    4    5    6    7    8    9    ...  291  292  293  294  \\\n",
       "0  0.0  0.0  1.0  0.0  0.0  0.0  0.0  0.0  0.0  0.0  ...  0.0  0.0  4.0  0.0   \n",
       "1  0.0  0.0  1.0  0.0  0.0  0.0  0.0  0.0  0.0  0.0  ...  0.0  0.0  4.0  0.0   \n",
       "2  0.0  0.0  1.0  0.0  0.0  0.0  0.0  0.0  0.0  0.0  ...  0.0  0.0  4.0  0.0   \n",
       "3  0.0  0.0  1.0  0.0  0.0  0.0  0.0  0.0  0.0  0.0  ...  0.0  0.0  4.0  0.0   \n",
       "4  0.0  0.0  1.0  0.0  0.0  0.0  0.0  0.0  0.0  0.0  ...  0.0  0.0  4.0  0.0   \n",
       "\n",
       "   295  296   297  298       299   300  \n",
       "0  3.0  1.0  64.0  1.0  3.772055  Aria  \n",
       "1  3.0  1.0  64.0  1.0  3.772055  Aria  \n",
       "2  1.0  3.0  40.0  0.0  0.000000  Aria  \n",
       "3  3.0  1.0  64.0  1.0  3.772055  Aria  \n",
       "4  3.0  1.0  64.0  1.0  3.772055  Aria  \n",
       "\n",
       "[5 rows x 301 columns]"
      ]
     },
     "execution_count": 2,
     "metadata": {},
     "output_type": "execute_result"
    }
   ],
   "source": [
    "df = pd.read_csv('l_h_train_sm.csv',header=None )\n",
    "np.random.seed(42)\n",
    "df.head()"
   ]
  },
  {
   "cell_type": "code",
   "execution_count": 3,
   "metadata": {},
   "outputs": [
    {
     "data": {
      "text/plain": [
       "(8100, 300)"
      ]
     },
     "execution_count": 3,
     "metadata": {},
     "output_type": "execute_result"
    }
   ],
   "source": [
    "\n",
    "X =df[df.columns[0:-1]]\n",
    "X=np.array(X)\n",
    "\n",
    "y=df[df.columns[-1]]  \n",
    "\n",
    "scaler = Normalizer().fit(X)\n",
    "X = scaler.transform(X)\n",
    "# summarize transformed data\n",
    "X.shape"
   ]
  },
  {
   "cell_type": "code",
   "execution_count": 4,
   "metadata": {},
   "outputs": [],
   "source": [
    "es = EarlyStopping(monitor='val_loss', mode='min', verbose=1)"
   ]
  },
  {
   "cell_type": "code",
   "execution_count": 5,
   "metadata": {},
   "outputs": [],
   "source": [
    "from sklearn import preprocessing \n",
    "le = preprocessing.LabelEncoder()\n",
    "y=le.fit_transform(y)\n"
   ]
  },
  {
   "cell_type": "code",
   "execution_count": 6,
   "metadata": {},
   "outputs": [
    {
     "data": {
      "text/plain": [
       "array([ 0,  0,  0, ..., 26, 26, 26])"
      ]
     },
     "execution_count": 6,
     "metadata": {},
     "output_type": "execute_result"
    }
   ],
   "source": [
    "y"
   ]
  },
  {
   "cell_type": "code",
   "execution_count": 7,
   "metadata": {},
   "outputs": [],
   "source": [
    "from keras.utils import np_utils\n",
    "y = np_utils.to_categorical(y)"
   ]
  },
  {
   "cell_type": "code",
   "execution_count": 8,
   "metadata": {},
   "outputs": [
    {
     "data": {
      "text/plain": [
       "array([[1., 0., 0., ..., 0., 0., 0.],\n",
       "       [1., 0., 0., ..., 0., 0., 0.],\n",
       "       [1., 0., 0., ..., 0., 0., 0.],\n",
       "       ...,\n",
       "       [0., 0., 0., ..., 0., 0., 1.],\n",
       "       [0., 0., 0., ..., 0., 0., 1.],\n",
       "       [0., 0., 0., ..., 0., 0., 1.]])"
      ]
     },
     "execution_count": 8,
     "metadata": {},
     "output_type": "execute_result"
    }
   ],
   "source": [
    "y"
   ]
  },
  {
   "cell_type": "code",
   "execution_count": 9,
   "metadata": {},
   "outputs": [],
   "source": [
    "#Train test validation split - 60:20:20\n",
    "from sklearn.model_selection import train_test_split\n",
    "X_train, X_val, Y_train, Y_val = train_test_split(X, y,\n",
    "                                                    stratify=y, \n",
    "                                                    test_size=0.2,\n",
    "                                                    random_state=42)\n"
   ]
  },
  {
   "cell_type": "code",
   "execution_count": 10,
   "metadata": {},
   "outputs": [
    {
     "data": {
      "text/plain": [
       "(6480, 300)"
      ]
     },
     "execution_count": 10,
     "metadata": {},
     "output_type": "execute_result"
    }
   ],
   "source": [
    "X_train.shape"
   ]
  },
  {
   "cell_type": "code",
   "execution_count": 11,
   "metadata": {},
   "outputs": [],
   "source": [
    "# reshape input to be [samples, time steps, features]\n",
    "X_train = np.reshape(X_train,( X_train.shape[0], 12, 25))\n",
    "X_val = np.reshape(X_val,( X_val.shape[0], 12, 25))"
   ]
  },
  {
   "cell_type": "code",
   "execution_count": 12,
   "metadata": {},
   "outputs": [],
   "source": [
    "# reshape input to be [samples, time steps, features]\n",
    "Y_train = np.reshape(Y_train, (Y_train.shape[0],  Y_train.shape[1]))\n",
    "Y_val = np.reshape(Y_val, (Y_val.shape[0],  Y_val.shape[1]))"
   ]
  },
  {
   "cell_type": "code",
   "execution_count": 13,
   "metadata": {},
   "outputs": [],
   "source": [
    "es = EarlyStopping(monitor='val_loss', mode='min', verbose=1)"
   ]
  },
  {
   "cell_type": "code",
   "execution_count": 14,
   "metadata": {},
   "outputs": [
    {
     "data": {
      "text/plain": [
       "(6480, 12, 25)"
      ]
     },
     "execution_count": 14,
     "metadata": {},
     "output_type": "execute_result"
    }
   ],
   "source": [
    "X_train.shape"
   ]
  },
  {
   "cell_type": "code",
   "execution_count": 15,
   "metadata": {},
   "outputs": [],
   "source": [
    "# Embedding\n",
    "max_features = X_train[0]\n",
    "maxlen = 300\n",
    "embedding_size = 50\n",
    "\n",
    "# Convolution\n",
    "kernel_size = 5\n",
    "filters = 128\n",
    "pool_size = 4\n",
    "\n",
    "# LSTM\n",
    "lstm_output_size = 27\n",
    "number_of_units=50\n",
    "model_FileName = \"long_mc_bestWeightsLSTMStateless3L50.hdf5\"\n",
    "number_of_units=50\n",
    "Batch_size = 10\n",
    "randomInit = initializers.RandomUniform(seed=42)\n",
    "lr=0.002\n",
    "Epochs=30\n",
    "dropout=1\n",
    "# Training\n",
    "batch_size = 30\n",
    "epochs = 20"
   ]
  },
  {
   "cell_type": "code",
   "execution_count": 16,
   "metadata": {},
   "outputs": [
    {
     "name": "stdout",
     "output_type": "stream",
     "text": [
      "WARNING:tensorflow:From c:\\users\\kahraman\\appdata\\local\\programs\\python\\python36\\lib\\site-packages\\tensorflow\\python\\util\\deprecation.py:497: calling conv1d (from tensorflow.python.ops.nn_ops) with data_format=NHWC is deprecated and will be removed in a future version.\n",
      "Instructions for updating:\n",
      "`NHWC` for data_format is deprecated, use `NWC` instead\n",
      "Train on 6480 samples, validate on 1620 samples\n",
      "Epoch 1/20\n",
      " - 3s - loss: 1.4627 - acc: 0.5372 - val_loss: 0.7328 - val_acc: 0.7457\n",
      "\n",
      "Epoch 00001: val_acc improved from -inf to 0.74568, saving model to long_mc_bestWeightsLSTMStateless3L50.hdf5\n",
      "Epoch 2/20\n",
      " - 2s - loss: 0.5275 - acc: 0.8069 - val_loss: 0.4186 - val_acc: 0.8370\n",
      "\n",
      "Epoch 00002: val_acc improved from 0.74568 to 0.83704, saving model to long_mc_bestWeightsLSTMStateless3L50.hdf5\n",
      "Epoch 3/20\n",
      " - 2s - loss: 0.3473 - acc: 0.8566 - val_loss: 0.3187 - val_acc: 0.8667\n",
      "\n",
      "Epoch 00003: val_acc improved from 0.83704 to 0.86667, saving model to long_mc_bestWeightsLSTMStateless3L50.hdf5\n",
      "Epoch 4/20\n",
      " - 2s - loss: 0.2782 - acc: 0.8744 - val_loss: 0.2577 - val_acc: 0.8821\n",
      "\n",
      "Epoch 00004: val_acc improved from 0.86667 to 0.88210, saving model to long_mc_bestWeightsLSTMStateless3L50.hdf5\n",
      "Epoch 5/20\n",
      " - 2s - loss: 0.2382 - acc: 0.8895 - val_loss: 0.2217 - val_acc: 0.8969\n",
      "\n",
      "Epoch 00005: val_acc improved from 0.88210 to 0.89691, saving model to long_mc_bestWeightsLSTMStateless3L50.hdf5\n",
      "Epoch 6/20\n",
      " - 2s - loss: 0.2123 - acc: 0.8963 - val_loss: 0.2046 - val_acc: 0.8988\n",
      "\n",
      "Epoch 00006: val_acc improved from 0.89691 to 0.89877, saving model to long_mc_bestWeightsLSTMStateless3L50.hdf5\n",
      "Epoch 7/20\n",
      " - 2s - loss: 0.1968 - acc: 0.9005 - val_loss: 0.1948 - val_acc: 0.9025\n",
      "\n",
      "Epoch 00007: val_acc improved from 0.89877 to 0.90247, saving model to long_mc_bestWeightsLSTMStateless3L50.hdf5\n",
      "Epoch 8/20\n",
      " - 2s - loss: 0.1873 - acc: 0.9025 - val_loss: 0.1890 - val_acc: 0.9043\n",
      "\n",
      "Epoch 00008: val_acc improved from 0.90247 to 0.90432, saving model to long_mc_bestWeightsLSTMStateless3L50.hdf5\n",
      "Epoch 9/20\n",
      " - 3s - loss: 0.1796 - acc: 0.9063 - val_loss: 0.1831 - val_acc: 0.9056\n",
      "\n",
      "Epoch 00009: val_acc improved from 0.90432 to 0.90556, saving model to long_mc_bestWeightsLSTMStateless3L50.hdf5\n",
      "Epoch 10/20\n",
      " - 2s - loss: 0.1751 - acc: 0.9066 - val_loss: 0.1801 - val_acc: 0.9086\n",
      "\n",
      "Epoch 00010: val_acc improved from 0.90556 to 0.90864, saving model to long_mc_bestWeightsLSTMStateless3L50.hdf5\n",
      "Epoch 11/20\n",
      " - 3s - loss: 0.1680 - acc: 0.9106 - val_loss: 0.1773 - val_acc: 0.9080\n",
      "\n",
      "Epoch 00011: val_acc did not improve\n",
      "Epoch 12/20\n",
      " - 2s - loss: 0.1689 - acc: 0.9086 - val_loss: 0.1720 - val_acc: 0.9086\n",
      "\n",
      "Epoch 00012: val_acc did not improve\n",
      "Epoch 13/20\n",
      " - 2s - loss: 0.1632 - acc: 0.9120 - val_loss: 0.1700 - val_acc: 0.9117\n",
      "\n",
      "Epoch 00013: val_acc improved from 0.90864 to 0.91173, saving model to long_mc_bestWeightsLSTMStateless3L50.hdf5\n",
      "Epoch 14/20\n",
      " - 2s - loss: 0.1601 - acc: 0.9131 - val_loss: 0.1688 - val_acc: 0.9111\n",
      "\n",
      "Epoch 00014: val_acc did not improve\n",
      "Epoch 15/20\n",
      " - 3s - loss: 0.1609 - acc: 0.9117 - val_loss: 0.1666 - val_acc: 0.9111\n",
      "\n",
      "Epoch 00015: val_acc did not improve\n",
      "Epoch 16/20\n",
      " - 3s - loss: 0.1574 - acc: 0.9142 - val_loss: 0.1643 - val_acc: 0.9123\n",
      "\n",
      "Epoch 00016: val_acc improved from 0.91173 to 0.91235, saving model to long_mc_bestWeightsLSTMStateless3L50.hdf5\n",
      "Epoch 17/20\n",
      " - 2s - loss: 0.1634 - acc: 0.9116 - val_loss: 0.1690 - val_acc: 0.9123\n",
      "\n",
      "Epoch 00017: val_acc did not improve\n",
      "Epoch 00017: early stopping\n",
      "--- 41.157902240753174 seconds ---\n"
     ]
    }
   ],
   "source": [
    "model = Sequential()\n",
    "model.add(Conv1D(filters,\n",
    "                 kernel_size,\n",
    "                 padding='valid',\n",
    "                 activation='relu',\n",
    "                 strides=1,input_shape=(12, 25)))\n",
    "model.add(MaxPooling1D(pool_size=pool_size))\n",
    "#model.add(LSTM(lstm_output_size))\n",
    "model.add(GRU(number_of_units, kernel_initializer = randomInit, bias_initializer = randomInit,))\n",
    "model.add(Dense(27))\n",
    "model.add(Activation('softmax'))\n",
    "\n",
    "nadam = optimizers.Nadam(lr=0.002, beta_1=0.9, beta_2=0.999, epsilon=1e-08, schedule_decay=0.004)\n",
    "model.compile(loss='categorical_crossentropy', optimizer=nadam, metrics=['accuracy'])\n",
    "\n",
    "\n",
    "\n",
    "\n",
    "hdf5FileName = \"long_mc_bestWeightsLSTMStateless3L50.hdf5\"\n",
    "checkpoint = ModelCheckpoint(hdf5FileName,monitor='val_acc',verbose=1,save_best_only=True,mode='max',save_weights_only=True)\n",
    "\n",
    "start_time = time.time()\n",
    "\n",
    "\n",
    "\n",
    "history=model.fit(X_train, Y_train, epochs=20, batch_size=10, verbose=2, shuffle=False,\n",
    "            validation_data = (X_val,Y_val),callbacks=[checkpoint,es])  \n",
    "\n",
    "print(\"--- %s seconds ---\" % (time.time() - start_time))\n",
    "\n",
    "from keras.models import load_model\n",
    "\n",
    "model.save(hdf5FileName[:-3])  # creates a HDF5 file 'my_model.h5'\n",
    "\n"
   ]
  },
  {
   "cell_type": "code",
   "execution_count": 17,
   "metadata": {},
   "outputs": [
    {
     "data": {
      "image/png": "[encoded data removed]",
      "text/plain": [
       "<Figure size 432x288 with 1 Axes>"
      ]
     },
     "metadata": {},
     "output_type": "display_data"
    }
   ],
   "source": [
    "from matplotlib import pyplot\n",
    "from numpy import array\n",
    "pyplot.plot(history.history['loss'])\n",
    "pyplot.plot(history.history['val_loss'])\n",
    "pyplot.title('model train vs validation loss')\n",
    "pyplot.ylabel('loss')\n",
    "pyplot.xlabel('epoch')\n",
    "pyplot.legend(['train', 'validation'], loc='upper right')\n",
    "\n",
    "\n",
    "\n",
    "\n",
    "pyplot.show()"
   ]
  },
  {
   "cell_type": "code",
   "execution_count": 18,
   "metadata": {},
   "outputs": [
    {
     "data": {
      "image/png": "[encoded data removed]",
      "text/plain": [
       "<Figure size 432x288 with 1 Axes>"
      ]
     },
     "metadata": {},
     "output_type": "display_data"
    }
   ],
   "source": [
    "\n",
    "pyplot.plot(history.history['acc'])\n",
    "pyplot.plot(history.history['val_acc'])\n",
    "pyplot.title('model train vs validation acc')\n",
    "pyplot.ylabel('acc')\n",
    "pyplot.xlabel('epoch')\n",
    "pyplot.legend(['train', 'validation'], loc='lower right')\n",
    "pyplot.show()"
   ]
  },
  {
   "cell_type": "markdown",
   "metadata": {},
   "source": [
    "## Test"
   ]
  },
  {
   "cell_type": "code",
   "execution_count": 19,
   "metadata": {},
   "outputs": [
    {
     "data": {
      "text/html": [
       "<div>\n",
       "<style scoped>\n",
       "    .dataframe tbody tr th:only-of-type {\n",
       "        vertical-align: middle;\n",
       "    }\n",
       "\n",
       "    .dataframe tbody tr th {\n",
       "        vertical-align: top;\n",
       "    }\n",
       "\n",
       "    .dataframe thead th {\n",
       "        text-align: right;\n",
       "    }\n",
       "</style>\n",
       "<table border=\"1\" class=\"dataframe\">\n",
       "  <thead>\n",
       "    <tr style=\"text-align: right;\">\n",
       "      <th></th>\n",
       "      <th>0</th>\n",
       "      <th>1</th>\n",
       "      <th>2</th>\n",
       "      <th>3</th>\n",
       "      <th>4</th>\n",
       "      <th>5</th>\n",
       "      <th>6</th>\n",
       "      <th>7</th>\n",
       "      <th>8</th>\n",
       "      <th>9</th>\n",
       "      <th>...</th>\n",
       "      <th>291</th>\n",
       "      <th>292</th>\n",
       "      <th>293</th>\n",
       "      <th>294</th>\n",
       "      <th>295</th>\n",
       "      <th>296</th>\n",
       "      <th>297</th>\n",
       "      <th>298</th>\n",
       "      <th>299</th>\n",
       "      <th>300</th>\n",
       "    </tr>\n",
       "  </thead>\n",
       "  <tbody>\n",
       "    <tr>\n",
       "      <td>0</td>\n",
       "      <td>0.0</td>\n",
       "      <td>0.0</td>\n",
       "      <td>1.0</td>\n",
       "      <td>0.0</td>\n",
       "      <td>0.0</td>\n",
       "      <td>0.0</td>\n",
       "      <td>0.0</td>\n",
       "      <td>0.0</td>\n",
       "      <td>0.0</td>\n",
       "      <td>0.0</td>\n",
       "      <td>...</td>\n",
       "      <td>0.0</td>\n",
       "      <td>0.0</td>\n",
       "      <td>4.0</td>\n",
       "      <td>0.0</td>\n",
       "      <td>3.0</td>\n",
       "      <td>1.0</td>\n",
       "      <td>136.0</td>\n",
       "      <td>1.0</td>\n",
       "      <td>5.339931</td>\n",
       "      <td>Aria</td>\n",
       "    </tr>\n",
       "    <tr>\n",
       "      <td>1</td>\n",
       "      <td>0.0</td>\n",
       "      <td>0.0</td>\n",
       "      <td>1.0</td>\n",
       "      <td>0.0</td>\n",
       "      <td>0.0</td>\n",
       "      <td>0.0</td>\n",
       "      <td>0.0</td>\n",
       "      <td>0.0</td>\n",
       "      <td>0.0</td>\n",
       "      <td>0.0</td>\n",
       "      <td>...</td>\n",
       "      <td>0.0</td>\n",
       "      <td>0.0</td>\n",
       "      <td>4.0</td>\n",
       "      <td>0.0</td>\n",
       "      <td>3.0</td>\n",
       "      <td>1.0</td>\n",
       "      <td>64.0</td>\n",
       "      <td>1.0</td>\n",
       "      <td>3.772055</td>\n",
       "      <td>Aria</td>\n",
       "    </tr>\n",
       "    <tr>\n",
       "      <td>2</td>\n",
       "      <td>0.0</td>\n",
       "      <td>0.0</td>\n",
       "      <td>1.0</td>\n",
       "      <td>0.0</td>\n",
       "      <td>0.0</td>\n",
       "      <td>0.0</td>\n",
       "      <td>0.0</td>\n",
       "      <td>0.0</td>\n",
       "      <td>0.0</td>\n",
       "      <td>0.0</td>\n",
       "      <td>...</td>\n",
       "      <td>0.0</td>\n",
       "      <td>0.0</td>\n",
       "      <td>4.0</td>\n",
       "      <td>0.0</td>\n",
       "      <td>3.0</td>\n",
       "      <td>1.0</td>\n",
       "      <td>64.0</td>\n",
       "      <td>1.0</td>\n",
       "      <td>3.772055</td>\n",
       "      <td>Aria</td>\n",
       "    </tr>\n",
       "    <tr>\n",
       "      <td>3</td>\n",
       "      <td>0.0</td>\n",
       "      <td>0.0</td>\n",
       "      <td>1.0</td>\n",
       "      <td>0.0</td>\n",
       "      <td>0.0</td>\n",
       "      <td>0.0</td>\n",
       "      <td>0.0</td>\n",
       "      <td>0.0</td>\n",
       "      <td>0.0</td>\n",
       "      <td>0.0</td>\n",
       "      <td>...</td>\n",
       "      <td>0.0</td>\n",
       "      <td>0.0</td>\n",
       "      <td>4.0</td>\n",
       "      <td>0.0</td>\n",
       "      <td>3.0</td>\n",
       "      <td>1.0</td>\n",
       "      <td>64.0</td>\n",
       "      <td>1.0</td>\n",
       "      <td>3.772055</td>\n",
       "      <td>Aria</td>\n",
       "    </tr>\n",
       "    <tr>\n",
       "      <td>4</td>\n",
       "      <td>0.0</td>\n",
       "      <td>0.0</td>\n",
       "      <td>1.0</td>\n",
       "      <td>0.0</td>\n",
       "      <td>0.0</td>\n",
       "      <td>0.0</td>\n",
       "      <td>0.0</td>\n",
       "      <td>0.0</td>\n",
       "      <td>0.0</td>\n",
       "      <td>0.0</td>\n",
       "      <td>...</td>\n",
       "      <td>0.0</td>\n",
       "      <td>0.0</td>\n",
       "      <td>4.0</td>\n",
       "      <td>0.0</td>\n",
       "      <td>3.0</td>\n",
       "      <td>1.0</td>\n",
       "      <td>64.0</td>\n",
       "      <td>1.0</td>\n",
       "      <td>3.772055</td>\n",
       "      <td>Aria</td>\n",
       "    </tr>\n",
       "  </tbody>\n",
       "</table>\n",
       "<p>5 rows × 301 columns</p>\n",
       "</div>"
      ],
      "text/plain": [
       "   0    1    2    3    4    5    6    7    8    9    ...  291  292  293  294  \\\n",
       "0  0.0  0.0  1.0  0.0  0.0  0.0  0.0  0.0  0.0  0.0  ...  0.0  0.0  4.0  0.0   \n",
       "1  0.0  0.0  1.0  0.0  0.0  0.0  0.0  0.0  0.0  0.0  ...  0.0  0.0  4.0  0.0   \n",
       "2  0.0  0.0  1.0  0.0  0.0  0.0  0.0  0.0  0.0  0.0  ...  0.0  0.0  4.0  0.0   \n",
       "3  0.0  0.0  1.0  0.0  0.0  0.0  0.0  0.0  0.0  0.0  ...  0.0  0.0  4.0  0.0   \n",
       "4  0.0  0.0  1.0  0.0  0.0  0.0  0.0  0.0  0.0  0.0  ...  0.0  0.0  4.0  0.0   \n",
       "\n",
       "   295  296    297  298       299   300  \n",
       "0  3.0  1.0  136.0  1.0  5.339931  Aria  \n",
       "1  3.0  1.0   64.0  1.0  3.772055  Aria  \n",
       "2  3.0  1.0   64.0  1.0  3.772055  Aria  \n",
       "3  3.0  1.0   64.0  1.0  3.772055  Aria  \n",
       "4  3.0  1.0   64.0  1.0  3.772055  Aria  \n",
       "\n",
       "[5 rows x 301 columns]"
      ]
     },
     "execution_count": 19,
     "metadata": {},
     "output_type": "execute_result"
    }
   ],
   "source": [
    "df = pd.read_csv('l_h_test_sk.csv',header=None )\n",
    "np.random.seed(42)\n",
    "df.head()"
   ]
  },
  {
   "cell_type": "code",
   "execution_count": 20,
   "metadata": {},
   "outputs": [],
   "source": [
    "## \n",
    "X =df[df.columns[0:-1]]\n",
    "X=np.array(X)\n",
    "\n",
    "y=df[df.columns[-1]]  \n",
    "\n",
    "scaler = Normalizer().fit(X)\n",
    "X = scaler.transform(X)\n",
    "# summarize transformed data\n",
    "\n",
    "\n",
    "\n",
    "from sklearn import preprocessing \n",
    "le = preprocessing.LabelEncoder()\n",
    "y=le.fit_transform(y)\n",
    "\n",
    "\n",
    "\n",
    "from keras.utils import np_utils\n",
    "y = np_utils.to_categorical(y)\n",
    "\n",
    "\n",
    "# reshape input to be [samples, time steps, features]\n",
    "X_test = np.reshape(X, (X.shape[0], 1, X.shape[1]))\n",
    "\n",
    "\n",
    "\n",
    "# reshape input to be [samples, time steps, features]\n",
    "Y_test = np.reshape(y, (y.shape[0],  y.shape[1]))\n",
    "\n",
    "\n",
    "\n",
    "# reshape input to be [samples, time steps, features]\n",
    "X_test = np.reshape(X_test,( X_test.shape[0], 12, 25))\n"
   ]
  },
  {
   "cell_type": "code",
   "execution_count": 21,
   "metadata": {},
   "outputs": [
    {
     "data": {
      "text/plain": [
       "array([[1., 0., 0., ..., 0., 0., 0.],\n",
       "       [1., 0., 0., ..., 0., 0., 0.],\n",
       "       [1., 0., 0., ..., 0., 0., 0.],\n",
       "       ...,\n",
       "       [0., 0., 0., ..., 0., 0., 1.],\n",
       "       [0., 0., 0., ..., 0., 0., 1.],\n",
       "       [0., 0., 0., ..., 0., 0., 1.]])"
      ]
     },
     "execution_count": 21,
     "metadata": {},
     "output_type": "execute_result"
    }
   ],
   "source": [
    "Y_test"
   ]
  },
  {
   "cell_type": "markdown",
   "metadata": {},
   "source": [
    "## TEST DEĞERLENDİRME"
   ]
  },
  {
   "cell_type": "code",
   "execution_count": 22,
   "metadata": {},
   "outputs": [
    {
     "name": "stdout",
     "output_type": "stream",
     "text": [
      "1350/1350 [==============================] - 1s 863us/step\n",
      "Loss for testing = 1.6227987297120563 and Accuracy for testing = 0.682962962962963\n"
     ]
    }
   ],
   "source": [
    "loss,acc = model.evaluate(X_test,Y_test,batch_size=1)\n",
    "print(\"Loss for testing = {} and Accuracy for testing = {}\".format(loss,acc))\n",
    "#predicted = model.predict(X_test)"
   ]
  },
  {
   "cell_type": "code",
   "execution_count": 23,
   "metadata": {},
   "outputs": [],
   "source": [
    "predicted = model.predict(X_test)\n",
    "\n"
   ]
  },
  {
   "cell_type": "code",
   "execution_count": 24,
   "metadata": {},
   "outputs": [
    {
     "data": {
      "text/plain": [
       "array([[8.6440198e-02, 4.4113011e-05, 7.1199129e-06, ..., 2.3435596e-02,\n",
       "        8.3663173e-05, 1.1705367e-01],\n",
       "       [9.9993956e-01, 2.2240760e-08, 7.0569821e-09, ..., 1.4454015e-05,\n",
       "        6.6149175e-10, 4.0121602e-05],\n",
       "       [9.9993956e-01, 2.2240760e-08, 7.0569821e-09, ..., 1.4454015e-05,\n",
       "        6.6149175e-10, 4.0121602e-05],\n",
       "       ...,\n",
       "       [2.6610394e-05, 9.2993373e-09, 1.4435871e-09, ..., 6.3459834e-07,\n",
       "        3.2082622e-07, 9.9991381e-01],\n",
       "       [2.6611409e-05, 9.2993018e-09, 1.4436036e-09, ..., 6.3460323e-07,\n",
       "        3.2082957e-07, 9.9991381e-01],\n",
       "       [2.5597325e-05, 8.5058733e-09, 1.3932333e-09, ..., 6.3048520e-07,\n",
       "        3.0735364e-07, 9.9991715e-01]], dtype=float32)"
      ]
     },
     "execution_count": 24,
     "metadata": {},
     "output_type": "execute_result"
    }
   ],
   "source": [
    "predicted"
   ]
  },
  {
   "cell_type": "code",
   "execution_count": 25,
   "metadata": {},
   "outputs": [
    {
     "data": {
      "text/plain": [
       "(1350, 12, 25)"
      ]
     },
     "execution_count": 25,
     "metadata": {},
     "output_type": "execute_result"
    }
   ],
   "source": [
    "(X_test.shape)"
   ]
  },
  {
   "cell_type": "code",
   "execution_count": 26,
   "metadata": {},
   "outputs": [],
   "source": [
    "#predicted = model.predict(X_test)"
   ]
  },
  {
   "cell_type": "code",
   "execution_count": 27,
   "metadata": {},
   "outputs": [
    {
     "data": {
      "text/plain": [
       "(1350, 27)"
      ]
     },
     "execution_count": 27,
     "metadata": {},
     "output_type": "execute_result"
    }
   ],
   "source": [
    "(predicted.shape)"
   ]
  },
  {
   "cell_type": "code",
   "execution_count": 28,
   "metadata": {},
   "outputs": [
    {
     "data": {
      "text/plain": [
       "'\\n\\nfor i in X_test:\\n    temp=i\\n    print(temp.shape) #(predicted)\\n    temp=(np.reshape(temp, (temp.shape[0], 1, temp.shape[1])))\\n    print(temp.shape) #(predicted)\\n    predicted = model.predict(temp,batch_size=1000)\\n    print(predicted)\\n    break\\n'"
      ]
     },
     "execution_count": 28,
     "metadata": {},
     "output_type": "execute_result"
    }
   ],
   "source": [
    "\"\"\"\n",
    "\n",
    "for i in X_test:\n",
    "    temp=i\n",
    "    print(temp.shape) #(predicted)\n",
    "    temp=(np.reshape(temp, (temp.shape[0], 1, temp.shape[1])))\n",
    "    print(temp.shape) #(predicted)\n",
    "    predicted = model.predict(temp,batch_size=1000)\n",
    "    print(predicted)\n",
    "    break\n",
    "\"\"\""
   ]
  },
  {
   "cell_type": "markdown",
   "metadata": {},
   "source": [
    "### grafik mırafik"
   ]
  },
  {
   "cell_type": "code",
   "execution_count": 29,
   "metadata": {},
   "outputs": [],
   "source": [
    "def compute_metrics(predicted, Y_test):   \n",
    "    Y_classes = [np.argmax(item) for item in Y_test]\n",
    "    #print(Y_classes)\n",
    "    predicted_classes = [np.argmax(item) for item in predicted]\n",
    "    predictions = np.array(predicted_classes)\n",
    "    Y_actual = np.array(Y_classes)\n",
    "   \n",
    "    y_actu = pd.Series(np.reshape(Y_actual,len(Y_actual)), name='Actual')\n",
    "    y_pred = pd.Series(np.reshape(predictions, len(predictions)), name='Predicted')\n",
    "    \n",
    "    y_act = pd.Categorical(y_actu, categories=list(range(0,27)))\n",
    "    y_pre = pd.Categorical(y_pred, categories=list(range(0,27)))\n",
    "    \n",
    "    #F1 score\n",
    "    from sklearn.metrics import f1_score\n",
    "    print(\"Average F1 score is {}\".format(f1_score(Y_classes, predicted_classes, average='weighted', labels = list(range(0,27)))))\n",
    "    \n",
    "    df_confusion = pd.crosstab(y_act, y_pre, rownames =['Actual'],colnames=['Predicted'])\n",
    "    print(\"Confusion matrix: \\n\", df_confusion)\n",
    "    #pprint.pprint(df_confusion)\n",
    "    \n",
    "    predicted= np.array(predicted).tolist()\n",
    "    Y_test = np.array(Y_test).tolist()\n",
    "\n",
    "    n_classes = 27\n",
    "    print(\"n_classes is: \", n_classes)\n",
    "    Y_test= np.asarray(Y_test)\n",
    "    predicted = np.asarray(predicted)\n",
    "    \n",
    "    fpr = dict()\n",
    "    tpr = dict()\n",
    "    roc_auc = dict()\n",
    "    for i in range(n_classes):\n",
    "        fpr[i], tpr[i], _ = roc_curve(Y_test[:, i], predicted[:, i])\n",
    "        roc_auc[i] = auc(fpr[i], tpr[i])\n",
    "\n",
    "    # Compute micro-average ROC curve and ROC area\n",
    "    fpr[\"micro\"], tpr[\"micro\"], _ = roc_curve(Y_test.ravel(), predicted.ravel())\n",
    "    roc_auc[\"micro\"] = auc(fpr[\"micro\"], tpr[\"micro\"])\n",
    "    \n",
    "    lw = 2\n",
    "    # Compute macro-average ROC curve and ROC area\n",
    "    #First aggregate all false positive rates\n",
    "    all_fpr = np.unique(np.concatenate([fpr[i] for i in range(n_classes)]))\n",
    "\n",
    "    # Then interpolate all ROC curves at this points\n",
    "    mean_tpr = np.zeros_like(all_fpr)\n",
    "    for i in range(n_classes):\n",
    "        mean_tpr += interp(all_fpr, fpr[i], tpr[i])\n",
    "\n",
    "    # Finally average it and compute AUC\n",
    "    mean_tpr /= n_classes\n",
    "\n",
    "    fpr[\"macro\"] = all_fpr\n",
    "    tpr[\"macro\"] = mean_tpr\n",
    "    roc_auc[\"macro\"] = auc(fpr[\"macro\"], tpr[\"macro\"])\n",
    "\n",
    "    # Plot all ROC curves\n",
    "    plt.figure()\n",
    "    plt.plot(fpr[\"micro\"], tpr[\"micro\"],\n",
    "             label='micro-average ROC curve (area = {0:0.2f})'\n",
    "                   ''.format(roc_auc[\"micro\"]),\n",
    "             color='deeppink', linestyle=':', linewidth=4)\n",
    "\n",
    "    plt.plot(fpr[\"macro\"], tpr[\"macro\"],\n",
    "             label='macro-average ROC curve (area = {0:0.2f})'\n",
    "                   ''.format(roc_auc[\"macro\"]),\n",
    "             color='navy', linestyle=':', linewidth=4)\n",
    "\n",
    "    colors = cycle(['aqua', 'darkorange', 'cornflowerblue'])\n",
    "    for i, color in zip(range(n_classes), colors):\n",
    "        plt.plot(fpr[i], tpr[i], color=color, lw=lw,\n",
    "                 label='ROC curve of class {0} (area = {1:0.2f})'\n",
    "                 ''.format(i, roc_auc[i]))\n",
    "\n",
    "    plt.plot([0, 1], [0, 1], 'k--', lw=lw)\n",
    "    plt.xlim([0.0, 1.0])\n",
    "    plt.ylim([0.0, 1.05])\n",
    "    plt.xlabel('False Positive Rate')\n",
    "    plt.ylabel('True Positive Rate')\n",
    "    plt.legend(loc=\"lower right\")\n",
    "    plt.show()"
   ]
  },
  {
   "cell_type": "code",
   "execution_count": 30,
   "metadata": {},
   "outputs": [
    {
     "data": {
      "text/plain": [
       "array([[8.6440198e-02, 4.4113011e-05, 7.1199129e-06, ..., 2.3435596e-02,\n",
       "        8.3663173e-05, 1.1705367e-01],\n",
       "       [9.9993956e-01, 2.2240760e-08, 7.0569821e-09, ..., 1.4454015e-05,\n",
       "        6.6149175e-10, 4.0121602e-05],\n",
       "       [9.9993956e-01, 2.2240760e-08, 7.0569821e-09, ..., 1.4454015e-05,\n",
       "        6.6149175e-10, 4.0121602e-05],\n",
       "       ...,\n",
       "       [2.6610394e-05, 9.2993373e-09, 1.4435871e-09, ..., 6.3459834e-07,\n",
       "        3.2082622e-07, 9.9991381e-01],\n",
       "       [2.6611409e-05, 9.2993018e-09, 1.4436036e-09, ..., 6.3460323e-07,\n",
       "        3.2082957e-07, 9.9991381e-01],\n",
       "       [2.5597325e-05, 8.5058733e-09, 1.3932333e-09, ..., 6.3048520e-07,\n",
       "        3.0735364e-07, 9.9991715e-01]], dtype=float32)"
      ]
     },
     "execution_count": 30,
     "metadata": {},
     "output_type": "execute_result"
    }
   ],
   "source": [
    "predicted"
   ]
  },
  {
   "cell_type": "code",
   "execution_count": 31,
   "metadata": {},
   "outputs": [
    {
     "name": "stdout",
     "output_type": "stream",
     "text": [
      "(1350, 27) (1350, 27)\n"
     ]
    }
   ],
   "source": [
    "print(predicted.shape, Y_test.shape)"
   ]
  },
  {
   "cell_type": "code",
   "execution_count": 32,
   "metadata": {},
   "outputs": [
    {
     "name": "stdout",
     "output_type": "stream",
     "text": [
      "Average F1 score is 0.6749887425371437\n",
      "Confusion matrix: \n",
      " Predicted  0   1   2   3   4   5   6   7   8   9   ...  17  18  19  20  21  \\\n",
      "Actual                                             ...                       \n",
      "0          41   0   0   0   0   0   0   0   0   0  ...   0   0   0   0   0   \n",
      "1           0  50   0   0   0   0   0   0   0   0  ...   0   0   0   0   0   \n",
      "2           0   0  50   0   0   0   0   0   0   0  ...   0   0   0   0   0   \n",
      "3           0   0   0  41   0   0   0   0   0   0  ...   0   0   0   0   0   \n",
      "4           0   0   0   0  25   0   0  16   0   0  ...   0   0   0   0   0   \n",
      "5           0   0   0   0   0  16  28   0   0   0  ...   0   6   0   0   0   \n",
      "6           0   0   0   0   0   0  16   0  25   0  ...   0   0   0   0   0   \n",
      "7           0   6   0   0   0   0   0  20   9   0  ...   0   0   0   0   0   \n",
      "8           0   0   0   0   0   0  26   0  17   0  ...   0   0   0   0   0   \n",
      "9           0   0   0   0   0  11   0   0   0  26  ...   0   0   0   0   0   \n",
      "10          0   0   0   0   0   0   0   0   0   0  ...   0   0   0   0   0   \n",
      "11          0   0   0   0   0   0   0   0   0   0  ...   0   0   0   0   0   \n",
      "12          0   0   0   0   0   0   0   0   0   0  ...   0   0   0   0   0   \n",
      "13          0   0   0   0   0   0   0   0   0   0  ...   0   0   0   0   0   \n",
      "14          0   0   0   0   0   0   0   0   0   0  ...   0   0   0   0   0   \n",
      "15          0   0   0  16   0   0   0   0   0   0  ...   0   0   0   0   0   \n",
      "16          0   0   0   6   0   0   0   0   0   0  ...   0   0   0   0   0   \n",
      "17          0   0   0   0   0   0   0   0   0   0  ...   0   0   0  50   0   \n",
      "18          0   0   0   0   0   0   0   0   0   0  ...   0  50   0   0   0   \n",
      "19          0   0   0   0   0   0   0   0   0   0  ...   0   0  42   0   0   \n",
      "20          0   0   0   0   0   0   0   0   0   0  ...   7   0   0  32   0   \n",
      "21          0   0   0   0   0   8   0   0   0   0  ...   0   0   0   0  15   \n",
      "22          0   0   0   0   0   0   0   0   0   0  ...   0   0   0   0   9   \n",
      "23          0   0   0   0   0   0   0   0   0   0  ...   0   0   0   0   0   \n",
      "24          0   0   0   0   0   0   0   0   0   0  ...   0   0   0   0   0   \n",
      "25          0   0   0   0   0   0   0   0   0   0  ...   0   0   0   0   0   \n",
      "26          0   0   0   0   0   0   0   0   0   0  ...   0   0   0   0   0   \n",
      "\n",
      "Predicted  22  23  24  25  26  \n",
      "Actual                         \n",
      "0           0   0   0   0   0  \n",
      "1           0   0   0   0   0  \n",
      "2           0   0   0   0   0  \n",
      "3           0   0   0   0   0  \n",
      "4           0   0   0   0   0  \n",
      "5           0   0   0   0   0  \n",
      "6           0   0   0   0   0  \n",
      "7           0   0   0   0   0  \n",
      "8           0   0   0   0   0  \n",
      "9           0   0   0   0   0  \n",
      "10          0   0   0   0   0  \n",
      "11          0   0   0   0   0  \n",
      "12          0   0   0   0   0  \n",
      "13          0   0   0   0   0  \n",
      "14          0   0   0   0   0  \n",
      "15          0   0   0   0   0  \n",
      "16          0   0   0   0   0  \n",
      "17          0   0   0   0   0  \n",
      "18          0   0   0   0   0  \n",
      "19          0   0   8   0   0  \n",
      "20          0   0   0   0   0  \n",
      "21         27   0   0   0   0  \n",
      "22         41   0   0   0   0  \n",
      "23          0  50   0   0   0  \n",
      "24          0   0  41   0   0  \n",
      "25          0   6   0  44   0  \n",
      "26          0   0   0   0  50  \n",
      "\n",
      "[27 rows x 27 columns]\n",
      "n_classes is:  27\n"
     ]
    },
    {
     "data": {
      "image/png": "[encoded data removed]",
      "text/plain": [
       "<Figure size 432x288 with 1 Axes>"
      ]
     },
     "metadata": {},
     "output_type": "display_data"
    }
   ],
   "source": [
    "compute_metrics(predicted, Y_test)"
   ]
  },
  {
   "cell_type": "code",
   "execution_count": 33,
   "metadata": {},
   "outputs": [],
   "source": [
    "matrix = metrics.confusion_matrix(Y_test.argmax(axis=1), predicted.argmax(axis=1))"
   ]
  },
  {
   "cell_type": "code",
   "execution_count": null,
   "metadata": {},
   "outputs": [],
   "source": []
  },
  {
   "cell_type": "code",
   "execution_count": 34,
   "metadata": {},
   "outputs": [
    {
     "data": {
      "image/png": "[encoded data removed]",
      "text/plain": [
       "<Figure size 1440x1440 with 2 Axes>"
      ]
     },
     "metadata": {},
     "output_type": "display_data"
    }
   ],
   "source": [
    "import seaborn as sn\n",
    "import pandas as pd\n",
    "import matplotlib.pyplot as plt\n",
    "\n",
    "\n",
    "\n",
    "df_cm = pd.DataFrame(matrix, range(27), range(27))\n",
    "plt.figure(figsize=(20,20))\n",
    "sn.set(font_scale=1.4) # for label size\n",
    "sn.heatmap(df_cm, annot=True, annot_kws={\"size\": 9}) # font size\n",
    "\n",
    "plt.show()"
   ]
  },
  {
   "cell_type": "code",
   "execution_count": 35,
   "metadata": {},
   "outputs": [
    {
     "name": "stdout",
     "output_type": "stream",
     "text": [
      "label precision recall fscore\n",
      "    0     1.000  0.820  0.901\n",
      "    1     0.893  1.000  0.943\n",
      "    2     1.000  1.000  1.000\n",
      "    3     0.651  0.820  0.726\n",
      "    4     1.000  0.500  0.667\n",
      "    5     0.457  0.320  0.376\n",
      "    6     0.229  0.320  0.267\n",
      "    7     0.556  0.400  0.465\n",
      "    8     0.333  0.340  0.337\n",
      "    9     1.000  0.520  0.684\n",
      "   10     0.441  0.520  0.477\n",
      "   11     0.263  0.300  0.280\n",
      "   12     0.403  1.000  0.575\n",
      "   13     0.769  1.000  0.870\n",
      "   14     1.000  1.000  1.000\n",
      "   15     1.000  0.400  0.571\n",
      "   16     1.000  0.880  0.936\n",
      "   17     0.000  0.000    nan\n",
      "   18     0.893  1.000  0.943\n",
      "   19     1.000  0.840  0.913\n",
      "   20     0.390  0.640  0.485\n",
      "   21     0.625  0.300  0.405\n",
      "   22     0.603  0.820  0.695\n",
      "   23     0.893  1.000  0.943\n",
      "   24     0.837  0.820  0.828\n",
      "   25     1.000  0.880  0.936\n",
      "   26     1.000  1.000  1.000\n"
     ]
    },
    {
     "name": "stderr",
     "output_type": "stream",
     "text": [
      "c:\\users\\kahraman\\appdata\\local\\programs\\python\\python36\\lib\\site-packages\\ipykernel_launcher.py:28: RuntimeWarning: invalid value encountered in double_scalars\n"
     ]
    }
   ],
   "source": [
    "cm=matrix\n",
    "def precision(label, confusion_matrix):\n",
    "    col = confusion_matrix[:, label]\n",
    "    return confusion_matrix[label, label] / col.sum()\n",
    "    \n",
    "def recall(label, confusion_matrix):\n",
    "    row = confusion_matrix[label, :]\n",
    "    return confusion_matrix[label, label] / row.sum()\n",
    "\n",
    "def precision_macro_average(confusion_matrix):\n",
    "    rows, columns = confusion_matrix.shape\n",
    "    sum_of_precisions = 0\n",
    "    for label in range(rows):\n",
    "        sum_of_precisions += precision(label, confusion_matrix)\n",
    "    return sum_of_precisions / rows\n",
    "\n",
    "def recall_macro_average(confusion_matrix):\n",
    "    rows, columns = confusion_matrix.shape\n",
    "    sum_of_recalls = 0\n",
    "    for label in range(columns):\n",
    "        sum_of_recalls += recall(label, confusion_matrix)\n",
    "    return sum_of_recalls / columns\n",
    "\n",
    "print(\"label precision recall fscore\")\n",
    "for label in range(27):\n",
    "    pr=precision(label, cm)\n",
    "    rec=recall(label, cm)\n",
    "    f1=2*(pr*rec/(pr+rec))\n",
    "    print(f\"{label:5d} {pr:9.3f} {rec:6.3f} {f1:6.3f}\")"
   ]
  },
  {
   "cell_type": "code",
   "execution_count": 38,
   "metadata": {},
   "outputs": [
    {
     "data": {
      "text/plain": [
       "0.682962962962963"
      ]
     },
     "execution_count": 38,
     "metadata": {},
     "output_type": "execute_result"
    }
   ],
   "source": [
    "def accuracy(confusion_matrix):\n",
    "    diagonal_sum = confusion_matrix.trace()\n",
    "    sum_of_all_elements = confusion_matrix.sum()\n",
    "    return diagonal_sum / sum_of_all_elements \n",
    "accuracy(cm)"
   ]
  },
  {
   "cell_type": "markdown",
   "metadata": {},
   "source": [
    "## MODEL SAVING RELOADING"
   ]
  },
  {
   "cell_type": "code",
   "execution_count": 36,
   "metadata": {},
   "outputs": [],
   "source": [
    "from keras.models import load_model\n",
    "\n",
    "model.save('54.h5')  # creates a HDF5 file 'my_model.h5'\n",
    "\n"
   ]
  },
  {
   "cell_type": "code",
   "execution_count": 37,
   "metadata": {},
   "outputs": [],
   "source": [
    "\n",
    "# returns a compiled model\n",
    "# identical to the previous one\n",
    "model = load_model('54.h5')"
   ]
  },
  {
   "cell_type": "code",
   "execution_count": null,
   "metadata": {},
   "outputs": [],
   "source": []
  },
  {
   "cell_type": "code",
   "execution_count": null,
   "metadata": {},
   "outputs": [],
   "source": []
  }
 ],
 "metadata": {
  "kernelspec": {
   "display_name": "Python 3",
   "language": "python",
   "name": "python3"
  },
  "language_info": {
   "codemirror_mode": {
    "name": "ipython",
    "version": 3
   },
   "file_extension": ".py",
   "mimetype": "text/x-python",
   "name": "python",
   "nbconvert_exporter": "python",
   "pygments_lexer": "ipython3",
   "version": "3.6.5"
  }
 },
 "nbformat": 4,
 "nbformat_minor": 2
}
