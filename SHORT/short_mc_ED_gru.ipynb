{
 "cells": [
  {
   "cell_type": "code",
   "execution_count": 1,
   "metadata": {},
   "outputs": [
    {
     "name": "stderr",
     "output_type": "stream",
     "text": [
      "Using TensorFlow backend.\n",
      "c:\\users\\kahraman\\appdata\\local\\programs\\python\\python36\\lib\\site-packages\\tensorflow\\python\\framework\\dtypes.py:517: FutureWarning: Passing (type, 1) or '1type' as a synonym of type is deprecated; in a future version of numpy, it will be understood as (type, (1,)) / '(1,)type'.\n",
      "  _np_qint8 = np.dtype([(\"qint8\", np.int8, 1)])\n",
      "c:\\users\\kahraman\\appdata\\local\\programs\\python\\python36\\lib\\site-packages\\tensorflow\\python\\framework\\dtypes.py:518: FutureWarning: Passing (type, 1) or '1type' as a synonym of type is deprecated; in a future version of numpy, it will be understood as (type, (1,)) / '(1,)type'.\n",
      "  _np_quint8 = np.dtype([(\"quint8\", np.uint8, 1)])\n",
      "c:\\users\\kahraman\\appdata\\local\\programs\\python\\python36\\lib\\site-packages\\tensorflow\\python\\framework\\dtypes.py:519: FutureWarning: Passing (type, 1) or '1type' as a synonym of type is deprecated; in a future version of numpy, it will be understood as (type, (1,)) / '(1,)type'.\n",
      "  _np_qint16 = np.dtype([(\"qint16\", np.int16, 1)])\n",
      "c:\\users\\kahraman\\appdata\\local\\programs\\python\\python36\\lib\\site-packages\\tensorflow\\python\\framework\\dtypes.py:520: FutureWarning: Passing (type, 1) or '1type' as a synonym of type is deprecated; in a future version of numpy, it will be understood as (type, (1,)) / '(1,)type'.\n",
      "  _np_quint16 = np.dtype([(\"quint16\", np.uint16, 1)])\n",
      "c:\\users\\kahraman\\appdata\\local\\programs\\python\\python36\\lib\\site-packages\\tensorflow\\python\\framework\\dtypes.py:521: FutureWarning: Passing (type, 1) or '1type' as a synonym of type is deprecated; in a future version of numpy, it will be understood as (type, (1,)) / '(1,)type'.\n",
      "  _np_qint32 = np.dtype([(\"qint32\", np.int32, 1)])\n",
      "c:\\users\\kahraman\\appdata\\local\\programs\\python\\python36\\lib\\site-packages\\tensorflow\\python\\framework\\dtypes.py:526: FutureWarning: Passing (type, 1) or '1type' as a synonym of type is deprecated; in a future version of numpy, it will be understood as (type, (1,)) / '(1,)type'.\n",
      "  np_resource = np.dtype([(\"resource\", np.ubyte, 1)])\n"
     ]
    }
   ],
   "source": [
    "from keras.models import Sequential\n",
    "from keras.layers import LSTM,Dropout,Activation,Embedding,RepeatVector,TimeDistributed,GRU\n",
    "from keras.layers import Dense\n",
    "import pandas as pd\n",
    "import numpy as np\n",
    "from sklearn.model_selection import train_test_split\n",
    "from sklearn import decomposition\n",
    "from sklearn.feature_selection import SelectKBest\n",
    "from sklearn.feature_selection import chi2\n",
    "from sklearn.pipeline import FeatureUnion\n",
    "from sklearn.model_selection import StratifiedKFold\n",
    "import matplotlib.pyplot as plt\n",
    "import scikitplot as skplt\n",
    "from sklearn.preprocessing import label_binarize\n",
    "from sklearn.metrics import roc_curve, auc\n",
    "from scipy import interp\n",
    "from itertools import cycle\n",
    "import time\n",
    "from keras import metrics\n",
    "from keras import optimizers\n",
    "from keras import initializers\n",
    "from keras.callbacks import ModelCheckpoint\n",
    "import pprint\n",
    "from keras.callbacks import Callback\n",
    "\n",
    "from sklearn import metrics\n",
    "from keras.callbacks import EarlyStopping\n",
    "from sklearn.preprocessing import Normalizer\n",
    "from keras import callbacks\n",
    "from keras.callbacks import ModelCheckpoint, EarlyStopping, ReduceLROnPlateau, CSVLogger"
   ]
  },
  {
   "cell_type": "code",
   "execution_count": 2,
   "metadata": {},
   "outputs": [
    {
     "data": {
      "text/html": [
       "<div>\n",
       "<style scoped>\n",
       "    .dataframe tbody tr th:only-of-type {\n",
       "        vertical-align: middle;\n",
       "    }\n",
       "\n",
       "    .dataframe tbody tr th {\n",
       "        vertical-align: top;\n",
       "    }\n",
       "\n",
       "    .dataframe thead th {\n",
       "        text-align: right;\n",
       "    }\n",
       "</style>\n",
       "<table border=\"1\" class=\"dataframe\">\n",
       "  <thead>\n",
       "    <tr style=\"text-align: right;\">\n",
       "      <th></th>\n",
       "      <th>0</th>\n",
       "      <th>1</th>\n",
       "      <th>2</th>\n",
       "      <th>3</th>\n",
       "      <th>4</th>\n",
       "      <th>5</th>\n",
       "      <th>6</th>\n",
       "      <th>7</th>\n",
       "      <th>8</th>\n",
       "      <th>9</th>\n",
       "      <th>...</th>\n",
       "      <th>16</th>\n",
       "      <th>17</th>\n",
       "      <th>18</th>\n",
       "      <th>19</th>\n",
       "      <th>20</th>\n",
       "      <th>21</th>\n",
       "      <th>22</th>\n",
       "      <th>23</th>\n",
       "      <th>24</th>\n",
       "      <th>25</th>\n",
       "    </tr>\n",
       "  </thead>\n",
       "  <tbody>\n",
       "    <tr>\n",
       "      <td>0</td>\n",
       "      <td>0.0</td>\n",
       "      <td>0.0</td>\n",
       "      <td>0.0</td>\n",
       "      <td>1.0</td>\n",
       "      <td>0.0</td>\n",
       "      <td>0.0</td>\n",
       "      <td>1.0</td>\n",
       "      <td>0.0</td>\n",
       "      <td>29.0</td>\n",
       "      <td>1.0</td>\n",
       "      <td>...</td>\n",
       "      <td>0.0</td>\n",
       "      <td>0.0</td>\n",
       "      <td>4.0</td>\n",
       "      <td>0.0</td>\n",
       "      <td>1.0</td>\n",
       "      <td>3.0</td>\n",
       "      <td>45.0</td>\n",
       "      <td>1.0</td>\n",
       "      <td>1.521928</td>\n",
       "      <td>Aria</td>\n",
       "    </tr>\n",
       "    <tr>\n",
       "      <td>1</td>\n",
       "      <td>0.0</td>\n",
       "      <td>0.0</td>\n",
       "      <td>0.0</td>\n",
       "      <td>1.0</td>\n",
       "      <td>0.0</td>\n",
       "      <td>0.0</td>\n",
       "      <td>1.0</td>\n",
       "      <td>0.0</td>\n",
       "      <td>29.0</td>\n",
       "      <td>1.0</td>\n",
       "      <td>...</td>\n",
       "      <td>0.0</td>\n",
       "      <td>0.0</td>\n",
       "      <td>4.0</td>\n",
       "      <td>0.0</td>\n",
       "      <td>1.0</td>\n",
       "      <td>3.0</td>\n",
       "      <td>40.0</td>\n",
       "      <td>0.0</td>\n",
       "      <td>0.000000</td>\n",
       "      <td>Aria</td>\n",
       "    </tr>\n",
       "    <tr>\n",
       "      <td>2</td>\n",
       "      <td>0.0</td>\n",
       "      <td>0.0</td>\n",
       "      <td>0.0</td>\n",
       "      <td>1.0</td>\n",
       "      <td>0.0</td>\n",
       "      <td>0.0</td>\n",
       "      <td>0.0</td>\n",
       "      <td>1.0</td>\n",
       "      <td>0.0</td>\n",
       "      <td>0.0</td>\n",
       "      <td>...</td>\n",
       "      <td>0.0</td>\n",
       "      <td>0.0</td>\n",
       "      <td>2.0</td>\n",
       "      <td>0.0</td>\n",
       "      <td>1.0</td>\n",
       "      <td>1.0</td>\n",
       "      <td>328.0</td>\n",
       "      <td>0.0</td>\n",
       "      <td>0.000000</td>\n",
       "      <td>Aria</td>\n",
       "    </tr>\n",
       "    <tr>\n",
       "      <td>3</td>\n",
       "      <td>0.0</td>\n",
       "      <td>0.0</td>\n",
       "      <td>0.0</td>\n",
       "      <td>1.0</td>\n",
       "      <td>0.0</td>\n",
       "      <td>0.0</td>\n",
       "      <td>0.0</td>\n",
       "      <td>1.0</td>\n",
       "      <td>0.0</td>\n",
       "      <td>0.0</td>\n",
       "      <td>...</td>\n",
       "      <td>0.0</td>\n",
       "      <td>0.0</td>\n",
       "      <td>4.0</td>\n",
       "      <td>0.0</td>\n",
       "      <td>1.0</td>\n",
       "      <td>1.0</td>\n",
       "      <td>328.0</td>\n",
       "      <td>0.0</td>\n",
       "      <td>0.000000</td>\n",
       "      <td>Aria</td>\n",
       "    </tr>\n",
       "    <tr>\n",
       "      <td>4</td>\n",
       "      <td>0.0</td>\n",
       "      <td>0.0</td>\n",
       "      <td>0.0</td>\n",
       "      <td>1.0</td>\n",
       "      <td>0.0</td>\n",
       "      <td>0.0</td>\n",
       "      <td>0.0</td>\n",
       "      <td>1.0</td>\n",
       "      <td>0.0</td>\n",
       "      <td>0.0</td>\n",
       "      <td>...</td>\n",
       "      <td>0.0</td>\n",
       "      <td>0.0</td>\n",
       "      <td>3.0</td>\n",
       "      <td>0.0</td>\n",
       "      <td>3.0</td>\n",
       "      <td>1.0</td>\n",
       "      <td>60.0</td>\n",
       "      <td>0.0</td>\n",
       "      <td>0.000000</td>\n",
       "      <td>Aria</td>\n",
       "    </tr>\n",
       "  </tbody>\n",
       "</table>\n",
       "<p>5 rows × 26 columns</p>\n",
       "</div>"
      ],
      "text/plain": [
       "    0    1    2    3    4    5    6    7     8    9   ...   16   17   18   19  \\\n",
       "0  0.0  0.0  0.0  1.0  0.0  0.0  1.0  0.0  29.0  1.0  ...  0.0  0.0  4.0  0.0   \n",
       "1  0.0  0.0  0.0  1.0  0.0  0.0  1.0  0.0  29.0  1.0  ...  0.0  0.0  4.0  0.0   \n",
       "2  0.0  0.0  0.0  1.0  0.0  0.0  0.0  1.0   0.0  0.0  ...  0.0  0.0  2.0  0.0   \n",
       "3  0.0  0.0  0.0  1.0  0.0  0.0  0.0  1.0   0.0  0.0  ...  0.0  0.0  4.0  0.0   \n",
       "4  0.0  0.0  0.0  1.0  0.0  0.0  0.0  1.0   0.0  0.0  ...  0.0  0.0  3.0  0.0   \n",
       "\n",
       "    20   21     22   23        24    25  \n",
       "0  1.0  3.0   45.0  1.0  1.521928  Aria  \n",
       "1  1.0  3.0   40.0  0.0  0.000000  Aria  \n",
       "2  1.0  1.0  328.0  0.0  0.000000  Aria  \n",
       "3  1.0  1.0  328.0  0.0  0.000000  Aria  \n",
       "4  3.0  1.0   60.0  0.0  0.000000  Aria  \n",
       "\n",
       "[5 rows x 26 columns]"
      ]
     },
     "execution_count": 2,
     "metadata": {},
     "output_type": "execute_result"
    }
   ],
   "source": [
    "df = pd.read_csv('h_train_sm.csv',header=None )\n",
    "np.random.seed(42)\n",
    "df.head()"
   ]
  },
  {
   "cell_type": "code",
   "execution_count": 3,
   "metadata": {},
   "outputs": [
    {
     "data": {
      "text/plain": [
       "(270000, 25)"
      ]
     },
     "execution_count": 3,
     "metadata": {},
     "output_type": "execute_result"
    }
   ],
   "source": [
    "\n",
    "X =df[df.columns[0:-1]]\n",
    "X=np.array(X)\n",
    "\n",
    "y=df[df.columns[-1]]  \n",
    "\n",
    "scaler = Normalizer().fit(X)\n",
    "X = scaler.transform(X)\n",
    "# summarize transformed data\n",
    "X.shape"
   ]
  },
  {
   "cell_type": "code",
   "execution_count": 4,
   "metadata": {},
   "outputs": [],
   "source": [
    "es = EarlyStopping(monitor='val_loss', mode='min', verbose=1)"
   ]
  },
  {
   "cell_type": "code",
   "execution_count": 5,
   "metadata": {},
   "outputs": [
    {
     "name": "stdout",
     "output_type": "stream",
     "text": [
      "0 Aria\n",
      "1 D-LinkCam\n",
      "2 D-LinkDayCam\n",
      "3 D-LinkDoorSensor\n",
      "4 D-LinkHomeHub\n",
      "5 D-LinkSensor\n",
      "6 D-LinkSiren\n",
      "7 D-LinkSwitch\n",
      "8 D-LinkWaterSensor\n",
      "9 EdimaxCam\n",
      "10 EdimaxPlug1101W\n",
      "11 EdimaxPlug2101W\n",
      "12 EdnetCam\n",
      "13 EdnetGateway\n",
      "14 HomeMaticPlug\n",
      "15 HueBridge\n",
      "16 HueSwitch\n",
      "17 IKettle2\n",
      "18 Lightify\n",
      "19 MAXGateway\n",
      "20 SmarterCoffee\n",
      "21 TP-LinkPlugHS100\n",
      "22 TP-LinkPlugHS110\n",
      "23 WeMoInsightSwitch\n",
      "24 WeMoLink\n",
      "25 WeMoSwitch\n",
      "26 Withings\n"
     ]
    }
   ],
   "source": [
    "p=[]\n",
    "for i in y:\n",
    "    if i not in p:\n",
    "        p.append(i)\n",
    "        \n",
    "for i,ii in enumerate (p)  :\n",
    "    print(i,ii)\n",
    "    "
   ]
  },
  {
   "cell_type": "code",
   "execution_count": 6,
   "metadata": {},
   "outputs": [],
   "source": [
    "from sklearn import preprocessing \n",
    "le = preprocessing.LabelEncoder()\n",
    "y=le.fit_transform(y)\n"
   ]
  },
  {
   "cell_type": "code",
   "execution_count": 7,
   "metadata": {},
   "outputs": [
    {
     "name": "stdout",
     "output_type": "stream",
     "text": [
      "0 0\n",
      "1 1\n",
      "2 2\n",
      "3 3\n",
      "4 4\n",
      "5 5\n",
      "6 6\n",
      "7 7\n",
      "8 8\n",
      "9 9\n",
      "10 10\n",
      "11 11\n",
      "12 12\n",
      "13 13\n",
      "14 14\n",
      "15 15\n",
      "16 16\n",
      "17 17\n",
      "18 18\n",
      "19 19\n",
      "20 20\n",
      "21 21\n",
      "22 22\n",
      "23 23\n",
      "24 24\n",
      "25 25\n",
      "26 26\n"
     ]
    }
   ],
   "source": [
    "p=[]\n",
    "for i in y:\n",
    "\n",
    "    if str(i)not in p:\n",
    "        p.append(str(i))\n",
    "        \n",
    "for i,ii in enumerate (p)  :\n",
    "    print(i,ii)\n",
    "    "
   ]
  },
  {
   "cell_type": "code",
   "execution_count": null,
   "metadata": {},
   "outputs": [],
   "source": []
  },
  {
   "cell_type": "code",
   "execution_count": 8,
   "metadata": {},
   "outputs": [],
   "source": [
    "from keras.utils import np_utils\n",
    "y = np_utils.to_categorical(y)"
   ]
  },
  {
   "cell_type": "code",
   "execution_count": 9,
   "metadata": {},
   "outputs": [
    {
     "data": {
      "text/plain": [
       "array([[1., 0., 0., ..., 0., 0., 0.],\n",
       "       [1., 0., 0., ..., 0., 0., 0.],\n",
       "       [1., 0., 0., ..., 0., 0., 0.],\n",
       "       ...,\n",
       "       [0., 0., 0., ..., 0., 0., 1.],\n",
       "       [0., 0., 0., ..., 0., 0., 1.],\n",
       "       [0., 0., 0., ..., 0., 0., 1.]])"
      ]
     },
     "execution_count": 9,
     "metadata": {},
     "output_type": "execute_result"
    }
   ],
   "source": [
    "y"
   ]
  },
  {
   "cell_type": "code",
   "execution_count": 10,
   "metadata": {},
   "outputs": [],
   "source": [
    "#Train test validation split - 60:20:20\n",
    "from sklearn.model_selection import train_test_split\n",
    "X_train, X_val, Y_train, Y_val = train_test_split(X, y,\n",
    "                                                    stratify=y, \n",
    "                                                    test_size=0.2,\n",
    "                                                    random_state=42)\n"
   ]
  },
  {
   "cell_type": "code",
   "execution_count": 11,
   "metadata": {},
   "outputs": [],
   "source": [
    "# reshape input to be [samples, time steps, features]\n",
    "X_train = np.reshape(X_train, (X_train.shape[0], 1, X_train.shape[1]))\n",
    "X_val = np.reshape(X_val, (X_val.shape[0], 1, X_val.shape[1]))"
   ]
  },
  {
   "cell_type": "code",
   "execution_count": 12,
   "metadata": {},
   "outputs": [],
   "source": [
    "# reshape input to be [samples, time steps, features]\n",
    "Y_train = np.reshape(Y_train, (Y_train.shape[0],  Y_train.shape[1]))\n",
    "Y_val = np.reshape(Y_val, (Y_val.shape[0],  Y_val.shape[1]))"
   ]
  },
  {
   "cell_type": "code",
   "execution_count": null,
   "metadata": {},
   "outputs": [],
   "source": []
  },
  {
   "cell_type": "code",
   "execution_count": 13,
   "metadata": {},
   "outputs": [
    {
     "name": "stdout",
     "output_type": "stream",
     "text": [
      "_________________________________________________________________\n",
      "Layer (type)                 Output Shape              Param #   \n",
      "=================================================================\n",
      "gru_1 (GRU)                  (None, 50)                11400     \n",
      "_________________________________________________________________\n",
      "repeat_vector_1 (RepeatVecto (None, 1, 50)             0         \n",
      "_________________________________________________________________\n",
      "gru_2 (GRU)                  (None, 1, 50)             15150     \n",
      "_________________________________________________________________\n",
      "time_distributed_1 (TimeDist (None, 1, 27)             1377      \n",
      "=================================================================\n",
      "Total params: 27,927\n",
      "Trainable params: 27,927\n",
      "Non-trainable params: 0\n",
      "_________________________________________________________________\n",
      "None\n"
     ]
    }
   ],
   "source": [
    "# define LSTM\n",
    "model = Sequential()\n",
    "model.add(GRU(50, input_shape=(X_train.shape[1], X_train.shape[2])))\n",
    "model.add(RepeatVector(X_train.shape[1]))\n",
    "model.add(GRU(50, return_sequences=True))\n",
    "model.add(TimeDistributed(Dense(27, activation= \"softmax\" )))\n",
    "#model.compile(loss= \"categorical_crossentropy\" , optimizer= \"adam\" , metrics=[ \"accuracy\" ])\n",
    "\n",
    "#model.add(Dense(Y_train.shape[1], activation='softmax'))\n",
    "\n",
    "nadam = optimizers.Nadam(lr=0.002, beta_1=0.9, beta_2=0.999, epsilon=1e-08, schedule_decay=0.004)\n",
    "model.compile(loss='categorical_crossentropy', optimizer=nadam, metrics=['accuracy'])\n",
    "print(model.summary())"
   ]
  },
  {
   "cell_type": "code",
   "execution_count": 14,
   "metadata": {},
   "outputs": [
    {
     "data": {
      "text/plain": [
       "(216000, 27)"
      ]
     },
     "execution_count": 14,
     "metadata": {},
     "output_type": "execute_result"
    }
   ],
   "source": [
    "Y_train.shape"
   ]
  },
  {
   "cell_type": "code",
   "execution_count": 15,
   "metadata": {},
   "outputs": [],
   "source": [
    "Y_train = np.reshape(Y_train, (Y_train.shape[0],1 , Y_train.shape[1]))\n",
    "Y_val = np.reshape(Y_val, (Y_val.shape[0], 1, Y_val.shape[1]))"
   ]
  },
  {
   "cell_type": "code",
   "execution_count": 16,
   "metadata": {},
   "outputs": [],
   "source": [
    "\n",
    "hdf5FileName = \"long_mc_bestWeightsLSTMStateless3L50.hdf5\"\n",
    "es = EarlyStopping(monitor='val_loss', mode='min', verbose=1)\n",
    "checkpoint = ModelCheckpoint(hdf5FileName,monitor='val_acc',verbose=1,save_best_only=True,mode='max',save_weights_only=True)"
   ]
  },
  {
   "cell_type": "code",
   "execution_count": 17,
   "metadata": {
    "scrolled": false
   },
   "outputs": [
    {
     "name": "stdout",
     "output_type": "stream",
     "text": [
      "Train on 216000 samples, validate on 54000 samples\n",
      "Epoch 1/50\n",
      " - 137s - loss: 2.4041 - acc: 0.2443 - val_loss: 2.0593 - val_acc: 0.3132\n",
      "\n",
      "Epoch 00001: val_acc improved from -inf to 0.31324, saving model to long_mc_bestWeightsLSTMStateless3L50.hdf5\n",
      "Epoch 2/50\n",
      " - 111s - loss: 1.8096 - acc: 0.4026 - val_loss: 1.6073 - val_acc: 0.4585\n",
      "\n",
      "Epoch 00002: val_acc improved from 0.31324 to 0.45850, saving model to long_mc_bestWeightsLSTMStateless3L50.hdf5\n",
      "Epoch 3/50\n",
      " - 115s - loss: 1.4769 - acc: 0.4875 - val_loss: 1.3821 - val_acc: 0.5203\n",
      "\n",
      "Epoch 00003: val_acc improved from 0.45850 to 0.52031, saving model to long_mc_bestWeightsLSTMStateless3L50.hdf5\n",
      "Epoch 4/50\n",
      " - 113s - loss: 1.3467 - acc: 0.5175 - val_loss: 1.2697 - val_acc: 0.5512\n",
      "\n",
      "Epoch 00004: val_acc improved from 0.52031 to 0.55120, saving model to long_mc_bestWeightsLSTMStateless3L50.hdf5\n",
      "Epoch 5/50\n",
      " - 114s - loss: 1.2749 - acc: 0.5339 - val_loss: 1.2067 - val_acc: 0.5560\n",
      "\n",
      "Epoch 00005: val_acc improved from 0.55120 to 0.55604, saving model to long_mc_bestWeightsLSTMStateless3L50.hdf5\n",
      "Epoch 6/50\n",
      " - 115s - loss: 1.2177 - acc: 0.5490 - val_loss: 1.1522 - val_acc: 0.5714\n",
      "\n",
      "Epoch 00006: val_acc improved from 0.55604 to 0.57141, saving model to long_mc_bestWeightsLSTMStateless3L50.hdf5\n",
      "Epoch 7/50\n",
      " - 115s - loss: 1.1681 - acc: 0.5637 - val_loss: 1.1106 - val_acc: 0.5860\n",
      "\n",
      "Epoch 00007: val_acc improved from 0.57141 to 0.58604, saving model to long_mc_bestWeightsLSTMStateless3L50.hdf5\n",
      "Epoch 8/50\n",
      " - 114s - loss: 1.1322 - acc: 0.5755 - val_loss: 1.0848 - val_acc: 0.5912\n",
      "\n",
      "Epoch 00008: val_acc improved from 0.58604 to 0.59122, saving model to long_mc_bestWeightsLSTMStateless3L50.hdf5\n",
      "Epoch 9/50\n",
      " - 114s - loss: 1.1060 - acc: 0.5837 - val_loss: 1.0675 - val_acc: 0.5976\n",
      "\n",
      "Epoch 00009: val_acc improved from 0.59122 to 0.59757, saving model to long_mc_bestWeightsLSTMStateless3L50.hdf5\n",
      "Epoch 10/50\n",
      " - 114s - loss: 1.0860 - acc: 0.5898 - val_loss: 1.0501 - val_acc: 0.6003\n",
      "\n",
      "Epoch 00010: val_acc improved from 0.59757 to 0.60028, saving model to long_mc_bestWeightsLSTMStateless3L50.hdf5\n",
      "Epoch 11/50\n",
      " - 113s - loss: 1.0702 - acc: 0.5942 - val_loss: 1.0354 - val_acc: 0.6022\n",
      "\n",
      "Epoch 00011: val_acc improved from 0.60028 to 0.60224, saving model to long_mc_bestWeightsLSTMStateless3L50.hdf5\n",
      "Epoch 12/50\n",
      " - 115s - loss: 1.0574 - acc: 0.5979 - val_loss: 1.0217 - val_acc: 0.6077\n",
      "\n",
      "Epoch 00012: val_acc improved from 0.60224 to 0.60769, saving model to long_mc_bestWeightsLSTMStateless3L50.hdf5\n",
      "Epoch 13/50\n",
      " - 113s - loss: 1.0465 - acc: 0.6024 - val_loss: 1.0147 - val_acc: 0.6114\n",
      "\n",
      "Epoch 00013: val_acc improved from 0.60769 to 0.61141, saving model to long_mc_bestWeightsLSTMStateless3L50.hdf5\n",
      "Epoch 14/50\n",
      " - 112s - loss: 1.0370 - acc: 0.6048 - val_loss: 1.0056 - val_acc: 0.6148\n",
      "\n",
      "Epoch 00014: val_acc improved from 0.61141 to 0.61483, saving model to long_mc_bestWeightsLSTMStateless3L50.hdf5\n",
      "Epoch 15/50\n",
      " - 114s - loss: 1.0284 - acc: 0.6073 - val_loss: 0.9974 - val_acc: 0.6180\n",
      "\n",
      "Epoch 00015: val_acc improved from 0.61483 to 0.61798, saving model to long_mc_bestWeightsLSTMStateless3L50.hdf5\n",
      "Epoch 16/50\n",
      " - 110s - loss: 1.0208 - acc: 0.6099 - val_loss: 0.9874 - val_acc: 0.6196\n",
      "\n",
      "Epoch 00016: val_acc improved from 0.61798 to 0.61959, saving model to long_mc_bestWeightsLSTMStateless3L50.hdf5\n",
      "Epoch 17/50\n",
      " - 113s - loss: 1.0137 - acc: 0.6119 - val_loss: 0.9818 - val_acc: 0.6237\n",
      "\n",
      "Epoch 00017: val_acc improved from 0.61959 to 0.62370, saving model to long_mc_bestWeightsLSTMStateless3L50.hdf5\n",
      "Epoch 18/50\n",
      " - 115s - loss: 1.0072 - acc: 0.6138 - val_loss: 0.9767 - val_acc: 0.6256\n",
      "\n",
      "Epoch 00018: val_acc improved from 0.62370 to 0.62561, saving model to long_mc_bestWeightsLSTMStateless3L50.hdf5\n",
      "Epoch 19/50\n",
      " - 115s - loss: 1.0010 - acc: 0.6158 - val_loss: 0.9717 - val_acc: 0.6260\n",
      "\n",
      "Epoch 00019: val_acc improved from 0.62561 to 0.62602, saving model to long_mc_bestWeightsLSTMStateless3L50.hdf5\n",
      "Epoch 20/50\n",
      " - 113s - loss: 0.9952 - acc: 0.6175 - val_loss: 0.9666 - val_acc: 0.6295\n",
      "\n",
      "Epoch 00020: val_acc improved from 0.62602 to 0.62948, saving model to long_mc_bestWeightsLSTMStateless3L50.hdf5\n",
      "Epoch 21/50\n",
      " - 112s - loss: 0.9898 - acc: 0.6196 - val_loss: 0.9597 - val_acc: 0.6313\n",
      "\n",
      "Epoch 00021: val_acc improved from 0.62948 to 0.63133, saving model to long_mc_bestWeightsLSTMStateless3L50.hdf5\n",
      "Epoch 22/50\n",
      " - 113s - loss: 0.9848 - acc: 0.6210 - val_loss: 0.9533 - val_acc: 0.6336\n",
      "\n",
      "Epoch 00022: val_acc improved from 0.63133 to 0.63356, saving model to long_mc_bestWeightsLSTMStateless3L50.hdf5\n",
      "Epoch 23/50\n",
      " - 112s - loss: 0.9802 - acc: 0.6222 - val_loss: 0.9503 - val_acc: 0.6343\n",
      "\n",
      "Epoch 00023: val_acc improved from 0.63356 to 0.63430, saving model to long_mc_bestWeightsLSTMStateless3L50.hdf5\n",
      "Epoch 24/50\n",
      " - 114s - loss: 0.9760 - acc: 0.6231 - val_loss: 0.9469 - val_acc: 0.6343\n",
      "\n",
      "Epoch 00024: val_acc improved from 0.63430 to 0.63430, saving model to long_mc_bestWeightsLSTMStateless3L50.hdf5\n",
      "Epoch 25/50\n",
      " - 115s - loss: 0.9720 - acc: 0.6247 - val_loss: 0.9444 - val_acc: 0.6352\n",
      "\n",
      "Epoch 00025: val_acc improved from 0.63430 to 0.63517, saving model to long_mc_bestWeightsLSTMStateless3L50.hdf5\n",
      "Epoch 26/50\n",
      " - 115s - loss: 0.9683 - acc: 0.6255 - val_loss: 0.9451 - val_acc: 0.6360\n",
      "\n",
      "Epoch 00026: val_acc improved from 0.63517 to 0.63600, saving model to long_mc_bestWeightsLSTMStateless3L50.hdf5\n",
      "Epoch 00026: early stopping\n",
      "--- 2983.356022834778 seconds ---\n"
     ]
    }
   ],
   "source": [
    "#Time to train\n",
    "\n",
    "start_time = time.time()\n",
    "\n",
    "\n",
    "\n",
    "history=model.fit(X_train, Y_train, epochs=50, batch_size=10, verbose=2, shuffle=False,\n",
    "            validation_data = (X_val,Y_val),callbacks=[checkpoint,es])  \n",
    "\n",
    "print(\"--- %s seconds ---\" % (time.time() - start_time))\n",
    "\n",
    "from keras.models import load_model\n",
    "\n",
    "model.save(hdf5FileName[:-3])  # creates a HDF5 file 'my_model.h5'\n",
    "\n"
   ]
  },
  {
   "cell_type": "code",
   "execution_count": 18,
   "metadata": {},
   "outputs": [
    {
     "data": {
      "image/png": "[encoded data removed]",
      "text/plain": [
       "<Figure size 432x288 with 1 Axes>"
      ]
     },
     "metadata": {},
     "output_type": "display_data"
    }
   ],
   "source": [
    "\n",
    "\n",
    "from keras.models import Sequential\n",
    "from keras.layers import Dense\n",
    "from keras.layers import LSTM\n",
    "from matplotlib import pyplot\n",
    "from numpy import array\n",
    " \n",
    "\n",
    "pyplot.plot(history.history['loss'])\n",
    "pyplot.plot(history.history['val_loss'])\n",
    "pyplot.title('model train vs validation loss')\n",
    "pyplot.ylabel('loss')\n",
    "pyplot.xlabel('epoch')\n",
    "pyplot.legend(['train', 'validation'], loc='upper right')\n",
    "\n",
    "\n",
    "\n",
    "\n",
    "pyplot.show()"
   ]
  },
  {
   "cell_type": "code",
   "execution_count": 19,
   "metadata": {},
   "outputs": [
    {
     "data": {
      "image/png": "[encoded data removed]",
      "text/plain": [
       "<Figure size 432x288 with 1 Axes>"
      ]
     },
     "metadata": {},
     "output_type": "display_data"
    }
   ],
   "source": [
    "\n",
    "pyplot.plot(history.history['acc'])\n",
    "pyplot.plot(history.history['val_acc'])\n",
    "pyplot.title('model train vs validation acc')\n",
    "pyplot.ylabel('acc')\n",
    "pyplot.xlabel('epoch')\n",
    "pyplot.legend(['train', 'validation'], loc='lower right')\n",
    "pyplot.show()"
   ]
  },
  {
   "cell_type": "markdown",
   "metadata": {},
   "source": [
    "## Test"
   ]
  },
  {
   "cell_type": "code",
   "execution_count": 20,
   "metadata": {},
   "outputs": [
    {
     "data": {
      "text/html": [
       "<div>\n",
       "<style scoped>\n",
       "    .dataframe tbody tr th:only-of-type {\n",
       "        vertical-align: middle;\n",
       "    }\n",
       "\n",
       "    .dataframe tbody tr th {\n",
       "        vertical-align: top;\n",
       "    }\n",
       "\n",
       "    .dataframe thead th {\n",
       "        text-align: right;\n",
       "    }\n",
       "</style>\n",
       "<table border=\"1\" class=\"dataframe\">\n",
       "  <thead>\n",
       "    <tr style=\"text-align: right;\">\n",
       "      <th></th>\n",
       "      <th>0</th>\n",
       "      <th>1</th>\n",
       "      <th>2</th>\n",
       "      <th>3</th>\n",
       "      <th>4</th>\n",
       "      <th>5</th>\n",
       "      <th>6</th>\n",
       "      <th>7</th>\n",
       "      <th>8</th>\n",
       "      <th>9</th>\n",
       "      <th>...</th>\n",
       "      <th>16</th>\n",
       "      <th>17</th>\n",
       "      <th>18</th>\n",
       "      <th>19</th>\n",
       "      <th>20</th>\n",
       "      <th>21</th>\n",
       "      <th>22</th>\n",
       "      <th>23</th>\n",
       "      <th>24</th>\n",
       "      <th>25</th>\n",
       "    </tr>\n",
       "  </thead>\n",
       "  <tbody>\n",
       "    <tr>\n",
       "      <td>0</td>\n",
       "      <td>0</td>\n",
       "      <td>0</td>\n",
       "      <td>0</td>\n",
       "      <td>1</td>\n",
       "      <td>0</td>\n",
       "      <td>0</td>\n",
       "      <td>1</td>\n",
       "      <td>0</td>\n",
       "      <td>29</td>\n",
       "      <td>1</td>\n",
       "      <td>...</td>\n",
       "      <td>0</td>\n",
       "      <td>0</td>\n",
       "      <td>4</td>\n",
       "      <td>0</td>\n",
       "      <td>1</td>\n",
       "      <td>3</td>\n",
       "      <td>40</td>\n",
       "      <td>0</td>\n",
       "      <td>0.000000</td>\n",
       "      <td>Aria</td>\n",
       "    </tr>\n",
       "    <tr>\n",
       "      <td>1</td>\n",
       "      <td>0</td>\n",
       "      <td>0</td>\n",
       "      <td>0</td>\n",
       "      <td>1</td>\n",
       "      <td>0</td>\n",
       "      <td>0</td>\n",
       "      <td>1</td>\n",
       "      <td>0</td>\n",
       "      <td>29</td>\n",
       "      <td>1</td>\n",
       "      <td>...</td>\n",
       "      <td>0</td>\n",
       "      <td>0</td>\n",
       "      <td>4</td>\n",
       "      <td>0</td>\n",
       "      <td>1</td>\n",
       "      <td>3</td>\n",
       "      <td>765</td>\n",
       "      <td>1</td>\n",
       "      <td>5.567481</td>\n",
       "      <td>Aria</td>\n",
       "    </tr>\n",
       "    <tr>\n",
       "      <td>2</td>\n",
       "      <td>0</td>\n",
       "      <td>0</td>\n",
       "      <td>0</td>\n",
       "      <td>1</td>\n",
       "      <td>0</td>\n",
       "      <td>0</td>\n",
       "      <td>1</td>\n",
       "      <td>0</td>\n",
       "      <td>29200</td>\n",
       "      <td>1</td>\n",
       "      <td>...</td>\n",
       "      <td>0</td>\n",
       "      <td>0</td>\n",
       "      <td>4</td>\n",
       "      <td>0</td>\n",
       "      <td>1</td>\n",
       "      <td>2</td>\n",
       "      <td>48</td>\n",
       "      <td>0</td>\n",
       "      <td>0.000000</td>\n",
       "      <td>Aria</td>\n",
       "    </tr>\n",
       "    <tr>\n",
       "      <td>3</td>\n",
       "      <td>1</td>\n",
       "      <td>0</td>\n",
       "      <td>0</td>\n",
       "      <td>0</td>\n",
       "      <td>0</td>\n",
       "      <td>0</td>\n",
       "      <td>0</td>\n",
       "      <td>0</td>\n",
       "      <td>0</td>\n",
       "      <td>0</td>\n",
       "      <td>...</td>\n",
       "      <td>0</td>\n",
       "      <td>0</td>\n",
       "      <td>4</td>\n",
       "      <td>0</td>\n",
       "      <td>0</td>\n",
       "      <td>0</td>\n",
       "      <td>0</td>\n",
       "      <td>0</td>\n",
       "      <td>0.000000</td>\n",
       "      <td>Aria</td>\n",
       "    </tr>\n",
       "    <tr>\n",
       "      <td>4</td>\n",
       "      <td>0</td>\n",
       "      <td>0</td>\n",
       "      <td>0</td>\n",
       "      <td>1</td>\n",
       "      <td>0</td>\n",
       "      <td>0</td>\n",
       "      <td>1</td>\n",
       "      <td>0</td>\n",
       "      <td>29</td>\n",
       "      <td>1</td>\n",
       "      <td>...</td>\n",
       "      <td>0</td>\n",
       "      <td>0</td>\n",
       "      <td>4</td>\n",
       "      <td>0</td>\n",
       "      <td>1</td>\n",
       "      <td>3</td>\n",
       "      <td>40</td>\n",
       "      <td>0</td>\n",
       "      <td>0.000000</td>\n",
       "      <td>Aria</td>\n",
       "    </tr>\n",
       "  </tbody>\n",
       "</table>\n",
       "<p>5 rows × 26 columns</p>\n",
       "</div>"
      ],
      "text/plain": [
       "   0   1   2   3   4   5   6   7      8   9   ...  16  17  18  19  20  21  \\\n",
       "0   0   0   0   1   0   0   1   0     29   1  ...   0   0   4   0   1   3   \n",
       "1   0   0   0   1   0   0   1   0     29   1  ...   0   0   4   0   1   3   \n",
       "2   0   0   0   1   0   0   1   0  29200   1  ...   0   0   4   0   1   2   \n",
       "3   1   0   0   0   0   0   0   0      0   0  ...   0   0   4   0   0   0   \n",
       "4   0   0   0   1   0   0   1   0     29   1  ...   0   0   4   0   1   3   \n",
       "\n",
       "    22  23        24    25  \n",
       "0   40   0  0.000000  Aria  \n",
       "1  765   1  5.567481  Aria  \n",
       "2   48   0  0.000000  Aria  \n",
       "3    0   0  0.000000  Aria  \n",
       "4   40   0  0.000000  Aria  \n",
       "\n",
       "[5 rows x 26 columns]"
      ]
     },
     "execution_count": 20,
     "metadata": {},
     "output_type": "execute_result"
    }
   ],
   "source": [
    "df = pd.read_csv('h_test_sk.csv',header=None )\n",
    "np.random.seed(42)\n",
    "df.head()"
   ]
  },
  {
   "cell_type": "code",
   "execution_count": 21,
   "metadata": {},
   "outputs": [],
   "source": [
    "## \n",
    "X =df[df.columns[0:-1]]\n",
    "X=np.array(X)\n",
    "\n",
    "y=df[df.columns[-1]]  \n",
    "\n",
    "scaler = Normalizer().fit(X)\n",
    "X = scaler.transform(X)\n",
    "# summarize transformed data\n",
    "\n",
    "\n",
    "\n",
    "from sklearn import preprocessing \n",
    "le = preprocessing.LabelEncoder()\n",
    "y=le.fit_transform(y)\n",
    "\n",
    "\n",
    "\n",
    "from keras.utils import np_utils\n",
    "y = np_utils.to_categorical(y)\n",
    "\n",
    "\n",
    "# reshape input to be [samples, time steps, features]\n",
    "X_test = np.reshape(X, (X.shape[0], 1, X.shape[1]))\n",
    "\n",
    "\n",
    "\n",
    "# reshape input to be [samples, time steps, features]\n",
    "Y_test = np.reshape(y, (y.shape[0],  y.shape[1]))\n"
   ]
  },
  {
   "cell_type": "code",
   "execution_count": 22,
   "metadata": {},
   "outputs": [
    {
     "data": {
      "text/plain": [
       "array([[[1., 0., 0., ..., 0., 0., 0.]],\n",
       "\n",
       "       [[1., 0., 0., ..., 0., 0., 0.]],\n",
       "\n",
       "       [[1., 0., 0., ..., 0., 0., 0.]],\n",
       "\n",
       "       ...,\n",
       "\n",
       "       [[0., 0., 0., ..., 0., 0., 1.]],\n",
       "\n",
       "       [[0., 0., 0., ..., 0., 0., 1.]],\n",
       "\n",
       "       [[0., 0., 0., ..., 0., 0., 1.]]])"
      ]
     },
     "execution_count": 22,
     "metadata": {},
     "output_type": "execute_result"
    }
   ],
   "source": [
    "Y_test = np.reshape(y, (y.shape[0],  1,y.shape[1]))\n",
    "Y_test"
   ]
  },
  {
   "cell_type": "markdown",
   "metadata": {},
   "source": [
    "## TEST DEĞERLENDİRME"
   ]
  },
  {
   "cell_type": "code",
   "execution_count": 23,
   "metadata": {},
   "outputs": [
    {
     "name": "stdout",
     "output_type": "stream",
     "text": [
      "81000/81000 [==============================] - 174s 2ms/step\n",
      "Loss for testing = 1.0087793740571231 and Accuracy for testing = 0.6186666666666667\n"
     ]
    }
   ],
   "source": [
    "loss,acc = model.evaluate(X_test,Y_test,batch_size=1)\n",
    "print(\"Loss for testing = {} and Accuracy for testing = {}\".format(loss,acc))\n",
    "#predicted = model.predict(X_test)"
   ]
  },
  {
   "cell_type": "code",
   "execution_count": 24,
   "metadata": {},
   "outputs": [],
   "source": [
    "predicted = model.predict(X_test,verbose=0)\n",
    "\n"
   ]
  },
  {
   "cell_type": "code",
   "execution_count": 25,
   "metadata": {},
   "outputs": [
    {
     "data": {
      "text/plain": [
       "array([[[1.0000000e+00, 2.3827432e-10, 1.1489237e-09, ...,\n",
       "         5.8323417e-18, 2.4255303e-17, 1.0675029e-09]],\n",
       "\n",
       "       [[9.8788387e-01, 2.0449485e-04, 3.0910535e-04, ...,\n",
       "         3.1392938e-13, 3.3777102e-03, 2.6875818e-03]],\n",
       "\n",
       "       [[1.1223907e-01, 3.3300751e-04, 4.1650001e-06, ...,\n",
       "         5.4919888e-04, 3.0789556e-04, 4.0468502e-01]],\n",
       "\n",
       "       ...,\n",
       "\n",
       "       [[5.9558827e-02, 3.0182136e-04, 2.3143643e-06, ...,\n",
       "         1.2545919e-06, 7.9883685e-06, 8.4374040e-01]],\n",
       "\n",
       "       [[1.8077096e-02, 1.3807265e-08, 3.0850028e-06, ...,\n",
       "         2.2265085e-03, 2.7148076e-04, 6.2862951e-01]],\n",
       "\n",
       "       [[5.9542730e-02, 3.0204022e-04, 2.3161870e-06, ...,\n",
       "         1.2562028e-06, 7.9984811e-06, 8.4367085e-01]]], dtype=float32)"
      ]
     },
     "execution_count": 25,
     "metadata": {},
     "output_type": "execute_result"
    }
   ],
   "source": [
    "predicted"
   ]
  },
  {
   "cell_type": "code",
   "execution_count": 26,
   "metadata": {},
   "outputs": [
    {
     "data": {
      "text/plain": [
       "(81000, 1, 25)"
      ]
     },
     "execution_count": 26,
     "metadata": {},
     "output_type": "execute_result"
    }
   ],
   "source": [
    "(X_test.shape)"
   ]
  },
  {
   "cell_type": "code",
   "execution_count": 27,
   "metadata": {},
   "outputs": [],
   "source": [
    "#predicted = model.predict(X_test)"
   ]
  },
  {
   "cell_type": "code",
   "execution_count": 28,
   "metadata": {},
   "outputs": [
    {
     "data": {
      "text/plain": [
       "(81000, 1, 27)"
      ]
     },
     "execution_count": 28,
     "metadata": {},
     "output_type": "execute_result"
    }
   ],
   "source": [
    "(predicted.shape)"
   ]
  },
  {
   "cell_type": "code",
   "execution_count": 29,
   "metadata": {},
   "outputs": [
    {
     "data": {
      "text/plain": [
       "'\\n\\nfor i in X_test:\\n    temp=i\\n    print(temp.shape) #(predicted)\\n    temp=(np.reshape(temp, (temp.shape[0], 1, temp.shape[1])))\\n    print(temp.shape) #(predicted)\\n    predicted = model.predict(temp,batch_size=1000)\\n    print(predicted)\\n    break\\n'"
      ]
     },
     "execution_count": 29,
     "metadata": {},
     "output_type": "execute_result"
    }
   ],
   "source": [
    "\"\"\"\n",
    "\n",
    "for i in X_test:\n",
    "    temp=i\n",
    "    print(temp.shape) #(predicted)\n",
    "    temp=(np.reshape(temp, (temp.shape[0], 1, temp.shape[1])))\n",
    "    print(temp.shape) #(predicted)\n",
    "    predicted = model.predict(temp,batch_size=1000)\n",
    "    print(predicted)\n",
    "    break\n",
    "\"\"\""
   ]
  },
  {
   "cell_type": "markdown",
   "metadata": {},
   "source": [
    "### grafik mırafik"
   ]
  },
  {
   "cell_type": "code",
   "execution_count": 30,
   "metadata": {},
   "outputs": [
    {
     "data": {
      "text/plain": [
       "'   \\n    predicted= np.array(predicted).tolist()\\n    Y_test = np.array(Y_test).tolist()\\n\\n    n_classes = 27\\n    print(\"n_classes is: \", n_classes)\\n    Y_test= np.asarray(Y_test)\\n    predicted = np.asarray(predicted)\\n    \\n    fpr = dict()\\n    tpr = dict()\\n    roc_auc = dict()\\n    for i in range(n_classes):\\n        fpr[i], tpr[i], _ = roc_curve(Y_test[:, i], predicted[:, i])\\n        roc_auc[i] = auc(fpr[i], tpr[i])\\n\\n    # Compute micro-average ROC curve and ROC area\\n    fpr[\"micro\"], tpr[\"micro\"], _ = roc_curve(Y_test.ravel(), predicted.ravel())\\n    roc_auc[\"micro\"] = auc(fpr[\"micro\"], tpr[\"micro\"])\\n    \\n    lw = 2\\n    # Compute macro-average ROC curve and ROC area\\n    #First aggregate all false positive rates\\n    all_fpr = np.unique(np.concatenate([fpr[i] for i in range(n_classes)]))\\n\\n    # Then interpolate all ROC curves at this points\\n    mean_tpr = np.zeros_like(all_fpr)\\n    for i in range(n_classes):\\n        mean_tpr += interp(all_fpr, fpr[i], tpr[i])\\n\\n    # Finally average it and compute AUC\\n    mean_tpr /= n_classes\\n\\n    fpr[\"macro\"] = all_fpr\\n    tpr[\"macro\"] = mean_tpr\\n    roc_auc[\"macro\"] = auc(fpr[\"macro\"], tpr[\"macro\"])\\n\\n    # Plot all ROC curves\\n    plt.figure()\\n    plt.plot(fpr[\"micro\"], tpr[\"micro\"],\\n             label=\\'micro-average ROC curve (area = {0:0.2f})\\'\\n                   \\'\\'.format(roc_auc[\"micro\"]),\\n             color=\\'deeppink\\', linestyle=\\':\\', linewidth=4)\\n\\n    plt.plot(fpr[\"macro\"], tpr[\"macro\"],\\n             label=\\'macro-average ROC curve (area = {0:0.2f})\\'\\n                   \\'\\'.format(roc_auc[\"macro\"]),\\n             color=\\'navy\\', linestyle=\\':\\', linewidth=4)\\n\\n    colors = cycle([\\'aqua\\', \\'darkorange\\', \\'cornflowerblue\\'])\\n    for i, color in zip(range(n_classes), colors):\\n        plt.plot(fpr[i], tpr[i], color=color, lw=lw,\\n                 label=\\'ROC curve of class {0} (area = {1:0.2f})\\'\\n                 \\'\\'.format(i, roc_auc[i]))\\n\\n    plt.plot([0, 1], [0, 1], \\'k--\\', lw=lw)\\n    plt.xlim([0.0, 1.0])\\n    plt.ylim([0.0, 1.05])\\n    plt.xlabel(\\'False Positive Rate\\')\\n    plt.ylabel(\\'True Positive Rate\\')\\n    plt.legend(loc=\"lower right\")\\n    plt.show()\\n    \\n    '"
      ]
     },
     "execution_count": 30,
     "metadata": {},
     "output_type": "execute_result"
    }
   ],
   "source": [
    "def compute_metrics(predicted, Y_test):   \n",
    "    Y_classes = [np.argmax(item) for item in Y_test]\n",
    "    #print(Y_classes)\n",
    "    predicted_classes = [np.argmax(item) for item in predicted]\n",
    "    predictions = np.array(predicted_classes)\n",
    "    Y_actual = np.array(Y_classes)\n",
    "   \n",
    "    y_actu = pd.Series(np.reshape(Y_actual,len(Y_actual)), name='Actual')\n",
    "    y_pred = pd.Series(np.reshape(predictions, len(predictions)), name='Predicted')\n",
    "    \n",
    "    y_act = pd.Categorical(y_actu, categories=list(range(0,27)))\n",
    "    y_pre = pd.Categorical(y_pred, categories=list(range(0,27)))\n",
    "    \n",
    "    #F1 score\n",
    "    from sklearn.metrics import f1_score\n",
    "    print(\"Average F1 score is {}\".format(f1_score(Y_classes, predicted_classes, average='weighted', labels = list(range(0,27)))))\n",
    "    \n",
    "    df_confusion = pd.crosstab(y_act, y_pre, rownames =['Actual'],colnames=['Predicted'])\n",
    "    print(\"Confusion matrix: \\n\", df_confusion)\n",
    "    #pprint.pprint(df_confusion)\n",
    "    return df_confusion\n",
    "\"\"\"   \n",
    "    predicted= np.array(predicted).tolist()\n",
    "    Y_test = np.array(Y_test).tolist()\n",
    "\n",
    "    n_classes = 27\n",
    "    print(\"n_classes is: \", n_classes)\n",
    "    Y_test= np.asarray(Y_test)\n",
    "    predicted = np.asarray(predicted)\n",
    "    \n",
    "    fpr = dict()\n",
    "    tpr = dict()\n",
    "    roc_auc = dict()\n",
    "    for i in range(n_classes):\n",
    "        fpr[i], tpr[i], _ = roc_curve(Y_test[:, i], predicted[:, i])\n",
    "        roc_auc[i] = auc(fpr[i], tpr[i])\n",
    "\n",
    "    # Compute micro-average ROC curve and ROC area\n",
    "    fpr[\"micro\"], tpr[\"micro\"], _ = roc_curve(Y_test.ravel(), predicted.ravel())\n",
    "    roc_auc[\"micro\"] = auc(fpr[\"micro\"], tpr[\"micro\"])\n",
    "    \n",
    "    lw = 2\n",
    "    # Compute macro-average ROC curve and ROC area\n",
    "    #First aggregate all false positive rates\n",
    "    all_fpr = np.unique(np.concatenate([fpr[i] for i in range(n_classes)]))\n",
    "\n",
    "    # Then interpolate all ROC curves at this points\n",
    "    mean_tpr = np.zeros_like(all_fpr)\n",
    "    for i in range(n_classes):\n",
    "        mean_tpr += interp(all_fpr, fpr[i], tpr[i])\n",
    "\n",
    "    # Finally average it and compute AUC\n",
    "    mean_tpr /= n_classes\n",
    "\n",
    "    fpr[\"macro\"] = all_fpr\n",
    "    tpr[\"macro\"] = mean_tpr\n",
    "    roc_auc[\"macro\"] = auc(fpr[\"macro\"], tpr[\"macro\"])\n",
    "\n",
    "    # Plot all ROC curves\n",
    "    plt.figure()\n",
    "    plt.plot(fpr[\"micro\"], tpr[\"micro\"],\n",
    "             label='micro-average ROC curve (area = {0:0.2f})'\n",
    "                   ''.format(roc_auc[\"micro\"]),\n",
    "             color='deeppink', linestyle=':', linewidth=4)\n",
    "\n",
    "    plt.plot(fpr[\"macro\"], tpr[\"macro\"],\n",
    "             label='macro-average ROC curve (area = {0:0.2f})'\n",
    "                   ''.format(roc_auc[\"macro\"]),\n",
    "             color='navy', linestyle=':', linewidth=4)\n",
    "\n",
    "    colors = cycle(['aqua', 'darkorange', 'cornflowerblue'])\n",
    "    for i, color in zip(range(n_classes), colors):\n",
    "        plt.plot(fpr[i], tpr[i], color=color, lw=lw,\n",
    "                 label='ROC curve of class {0} (area = {1:0.2f})'\n",
    "                 ''.format(i, roc_auc[i]))\n",
    "\n",
    "    plt.plot([0, 1], [0, 1], 'k--', lw=lw)\n",
    "    plt.xlim([0.0, 1.0])\n",
    "    plt.ylim([0.0, 1.05])\n",
    "    plt.xlabel('False Positive Rate')\n",
    "    plt.ylabel('True Positive Rate')\n",
    "    plt.legend(loc=\"lower right\")\n",
    "    plt.show()\n",
    "    \n",
    "    \"\"\" "
   ]
  },
  {
   "cell_type": "code",
   "execution_count": 31,
   "metadata": {},
   "outputs": [
    {
     "data": {
      "text/plain": [
       "array([[[1.0000000e+00, 2.3827432e-10, 1.1489237e-09, ...,\n",
       "         5.8323417e-18, 2.4255303e-17, 1.0675029e-09]],\n",
       "\n",
       "       [[9.8788387e-01, 2.0449485e-04, 3.0910535e-04, ...,\n",
       "         3.1392938e-13, 3.3777102e-03, 2.6875818e-03]],\n",
       "\n",
       "       [[1.1223907e-01, 3.3300751e-04, 4.1650001e-06, ...,\n",
       "         5.4919888e-04, 3.0789556e-04, 4.0468502e-01]],\n",
       "\n",
       "       ...,\n",
       "\n",
       "       [[5.9558827e-02, 3.0182136e-04, 2.3143643e-06, ...,\n",
       "         1.2545919e-06, 7.9883685e-06, 8.4374040e-01]],\n",
       "\n",
       "       [[1.8077096e-02, 1.3807265e-08, 3.0850028e-06, ...,\n",
       "         2.2265085e-03, 2.7148076e-04, 6.2862951e-01]],\n",
       "\n",
       "       [[5.9542730e-02, 3.0204022e-04, 2.3161870e-06, ...,\n",
       "         1.2562028e-06, 7.9984811e-06, 8.4367085e-01]]], dtype=float32)"
      ]
     },
     "execution_count": 31,
     "metadata": {},
     "output_type": "execute_result"
    }
   ],
   "source": [
    "predicted"
   ]
  },
  {
   "cell_type": "code",
   "execution_count": 32,
   "metadata": {},
   "outputs": [
    {
     "name": "stdout",
     "output_type": "stream",
     "text": [
      "(81000, 1, 27) (81000, 1, 27)\n"
     ]
    }
   ],
   "source": [
    "print(predicted.shape, Y_test.shape)"
   ]
  },
  {
   "cell_type": "code",
   "execution_count": 33,
   "metadata": {},
   "outputs": [
    {
     "name": "stdout",
     "output_type": "stream",
     "text": [
      "Average F1 score is 0.6158816357857652\n",
      "Confusion matrix: \n",
      " Predicted    0     1     2     3     4    5    6    7    8     9   ...    17  \\\n",
      "Actual                                                             ...         \n",
      "0          2317     0     0     0     0    0    0    0    0     0  ...   327   \n",
      "1             1  2418    65     0     2   19  161   28   48    42  ...    26   \n",
      "2            19     0  2533     0     0    0    0    0    0   300  ...    48   \n",
      "3            32     8    40  2785     0    0    0    2   56     0  ...     0   \n",
      "4             4   219     5     2  1664   27  212  331  188     0  ...    14   \n",
      "5            12   194     7    18   177  218  678  711  675     7  ...    15   \n",
      "6             0   174     4    21   113  114  784  694  797     7  ...     9   \n",
      "7             0   161    10    12   351  105  745  336  995     9  ...     8   \n",
      "8             0   176     8    24   129  258  678  640  786     7  ...     6   \n",
      "9            41     0   408     0     0    0    0    0    0  2274  ...    58   \n",
      "10           63     9    44    29     0    0    0    0    0    67  ...    27   \n",
      "11           75     0    91    33     0    0    0    0    0    90  ...    35   \n",
      "12            0     0     0     0    93    0    0    0    0   104  ...   426   \n",
      "13           20     0     0     0     0    0    0    0    0     0  ...   197   \n",
      "14            0     0    33     0     0    0    0    0    0     0  ...     0   \n",
      "15            1    34     0    18    79   19    5    5   21     6  ...     1   \n",
      "16            0     8     5     0     1    3    0    0    0     2  ...     0   \n",
      "17            0     0     0     0     0    0    0    0    0     0  ...  1322   \n",
      "18           18     0     0     0     0    0    0    0    0     0  ...    35   \n",
      "19            0     0   104     0     0    0    0    0    0     0  ...    51   \n",
      "20            0     0   124     0     0    0    0    0    0     0  ...  1220   \n",
      "21           39     0    35     0     0    4    0    0    6    26  ...   125   \n",
      "22           13     0     0     0     0    0    0    0    6    56  ...   167   \n",
      "23            0    10    35   130    57    3    0    5    0    67  ...    23   \n",
      "24            0     4     0    46    65    4    8    0    5     0  ...    19   \n",
      "25            0    27    10     0     0    0    0    5    6     0  ...    38   \n",
      "26          261     0     0     0     0    0    0    0    0     0  ...   223   \n",
      "\n",
      "Predicted    18    19    20    21    22    23    24    25    26  \n",
      "Actual                                                           \n",
      "0             0     0   177     0    10     0     0     0   116  \n",
      "1             3     0    22     7     6    30     0    15     0  \n",
      "2             0     0    60     0     0     0     0     0     0  \n",
      "3             9     6    22     8    12     1     0    12     0  \n",
      "4            34     4     7     7     2    63     2     1     2  \n",
      "5            73     4    13     0     5    71     0     0    10  \n",
      "6            55     6    18     8     4    51     0     0     5  \n",
      "7            45     1    20    18     1    54     0     1     3  \n",
      "8            66     2    15     4     5    65     0     0     7  \n",
      "9             0     0   113     0     0     0     0     0     0  \n",
      "10            0    25     0    48     0    32     0    77     0  \n",
      "11            9    19    23    69    61    11     0    45     0  \n",
      "12            0     0   319     0     0     0     0     0     0  \n",
      "13            0     0   204    12    38    16     0     0     9  \n",
      "14            0     0    71     0     0     0     0     0     0  \n",
      "15            0     2    15     5     8    33     0     1     3  \n",
      "16            0     0     0     6     2     3     0     0   216  \n",
      "17            0     0  1425     0     0     0     0     0     0  \n",
      "18         2788     8    30     6     1     0     0     0     0  \n",
      "19            9  2501     8    80   144     0     0     0    31  \n",
      "20            0     0  1279     0     0     0     0     0     0  \n",
      "21            9    67   161  1036  1281    34     0     0     0  \n",
      "22            0    61    96   927  1296    66     0    40     0  \n",
      "23            0    18    20     5    11  1709   647    91     0  \n",
      "24            0    11    30    14     1   592  1915   198     2  \n",
      "25            0    51    42    29    24   105     1  2576     0  \n",
      "26            0     0   234     0    62    24     0     0  2156  \n",
      "\n",
      "[27 rows x 27 columns]\n"
     ]
    }
   ],
   "source": [
    "df_cm=compute_metrics(predicted, Y_test)"
   ]
  },
  {
   "cell_type": "code",
   "execution_count": 34,
   "metadata": {},
   "outputs": [
    {
     "ename": "ValueError",
     "evalue": "multilabel-indicator is not supported",
     "output_type": "error",
     "traceback": [
      "\u001b[1;31m---------------------------------------------------------------------------\u001b[0m",
      "\u001b[1;31mValueError\u001b[0m                                Traceback (most recent call last)",
      "\u001b[1;32m<ipython-input-34-d8495bb519dd>\u001b[0m in \u001b[0;36m<module>\u001b[1;34m()\u001b[0m\n\u001b[1;32m----> 1\u001b[1;33m \u001b[0mmatrix\u001b[0m \u001b[1;33m=\u001b[0m \u001b[0mmetrics\u001b[0m\u001b[1;33m.\u001b[0m\u001b[0mconfusion_matrix\u001b[0m\u001b[1;33m(\u001b[0m\u001b[0mY_test\u001b[0m\u001b[1;33m.\u001b[0m\u001b[0margmax\u001b[0m\u001b[1;33m(\u001b[0m\u001b[0maxis\u001b[0m\u001b[1;33m=\u001b[0m\u001b[1;36m1\u001b[0m\u001b[1;33m)\u001b[0m\u001b[1;33m,\u001b[0m \u001b[0mpredicted\u001b[0m\u001b[1;33m.\u001b[0m\u001b[0margmax\u001b[0m\u001b[1;33m(\u001b[0m\u001b[0maxis\u001b[0m\u001b[1;33m=\u001b[0m\u001b[1;36m1\u001b[0m\u001b[1;33m)\u001b[0m\u001b[1;33m)\u001b[0m\u001b[1;33m\u001b[0m\u001b[0m\n\u001b[0m",
      "\u001b[1;32mc:\\users\\kahraman\\appdata\\local\\programs\\python\\python36\\lib\\site-packages\\sklearn\\metrics\\classification.py\u001b[0m in \u001b[0;36mconfusion_matrix\u001b[1;34m(y_true, y_pred, labels, sample_weight)\u001b[0m\n\u001b[0;32m    253\u001b[0m     \u001b[0my_type\u001b[0m\u001b[1;33m,\u001b[0m \u001b[0my_true\u001b[0m\u001b[1;33m,\u001b[0m \u001b[0my_pred\u001b[0m \u001b[1;33m=\u001b[0m \u001b[0m_check_targets\u001b[0m\u001b[1;33m(\u001b[0m\u001b[0my_true\u001b[0m\u001b[1;33m,\u001b[0m \u001b[0my_pred\u001b[0m\u001b[1;33m)\u001b[0m\u001b[1;33m\u001b[0m\u001b[0m\n\u001b[0;32m    254\u001b[0m     \u001b[1;32mif\u001b[0m \u001b[0my_type\u001b[0m \u001b[1;32mnot\u001b[0m \u001b[1;32min\u001b[0m \u001b[1;33m(\u001b[0m\u001b[1;34m\"binary\"\u001b[0m\u001b[1;33m,\u001b[0m \u001b[1;34m\"multiclass\"\u001b[0m\u001b[1;33m)\u001b[0m\u001b[1;33m:\u001b[0m\u001b[1;33m\u001b[0m\u001b[0m\n\u001b[1;32m--> 255\u001b[1;33m         \u001b[1;32mraise\u001b[0m \u001b[0mValueError\u001b[0m\u001b[1;33m(\u001b[0m\u001b[1;34m\"%s is not supported\"\u001b[0m \u001b[1;33m%\u001b[0m \u001b[0my_type\u001b[0m\u001b[1;33m)\u001b[0m\u001b[1;33m\u001b[0m\u001b[0m\n\u001b[0m\u001b[0;32m    256\u001b[0m \u001b[1;33m\u001b[0m\u001b[0m\n\u001b[0;32m    257\u001b[0m     \u001b[1;32mif\u001b[0m \u001b[0mlabels\u001b[0m \u001b[1;32mis\u001b[0m \u001b[1;32mNone\u001b[0m\u001b[1;33m:\u001b[0m\u001b[1;33m\u001b[0m\u001b[0m\n",
      "\u001b[1;31mValueError\u001b[0m: multilabel-indicator is not supported"
     ]
    }
   ],
   "source": [
    "matrix = metrics.confusion_matrix(Y_test.argmax(axis=1), predicted.argmax(axis=1))"
   ]
  },
  {
   "cell_type": "code",
   "execution_count": 35,
   "metadata": {},
   "outputs": [],
   "source": [
    "cm=df_cm.values"
   ]
  },
  {
   "cell_type": "code",
   "execution_count": 37,
   "metadata": {},
   "outputs": [
    {
     "data": {
      "text/plain": [
       "array([[2317,    0,    0,    0,    0,    0,    0,    0,    0,    0,    0,\n",
       "           0,   53,    0,    0,    0,    0,  327,    0,    0,  177,    0,\n",
       "          10,    0,    0,    0,  116],\n",
       "       [   1, 2418,   65,    0,    2,   19,  161,   28,   48,   42,    3,\n",
       "          38,    8,    7,    0,   19,   32,   26,    3,    0,   22,    7,\n",
       "           6,   30,    0,   15,    0],\n",
       "       [  19,    0, 2533,    0,    0,    0,    0,    0,    0,  300,    0,\n",
       "           0,   40,    0,    0,    0,    0,   48,    0,    0,   60,    0,\n",
       "           0,    0,    0,    0,    0],\n",
       "       [  32,    8,   40, 2785,    0,    0,    0,    2,   56,    0,    3,\n",
       "           0,    0,    4,    0,    0,    0,    0,    9,    6,   22,    8,\n",
       "          12,    1,    0,   12,    0],\n",
       "       [   4,  219,    5,    2, 1664,   27,  212,  331,  188,    0,   20,\n",
       "          16,    5,    9,    0,  129,   33,   14,   34,    4,    7,    7,\n",
       "           2,   63,    2,    1,    2],\n",
       "       [  12,  194,    7,   18,  177,  218,  678,  711,  675,    7,   21,\n",
       "          14,   13,   22,    0,   23,   19,   15,   73,    4,   13,    0,\n",
       "           5,   71,    0,    0,   10],\n",
       "       [   0,  174,    4,   21,  113,  114,  784,  694,  797,    7,   42,\n",
       "          24,   24,   14,    0,   29,    3,    9,   55,    6,   18,    8,\n",
       "           4,   51,    0,    0,    5],\n",
       "       [   0,  161,   10,   12,  351,  105,  745,  336,  995,    9,   29,\n",
       "          23,   13,   21,    0,   32,    7,    8,   45,    1,   20,   18,\n",
       "           1,   54,    0,    1,    3],\n",
       "       [   0,  176,    8,   24,  129,  258,  678,  640,  786,    7,   34,\n",
       "          20,   27,   16,    0,   26,    1,    6,   66,    2,   15,    4,\n",
       "           5,   65,    0,    0,    7],\n",
       "       [  41,    0,  408,    0,    0,    0,    0,    0,    0, 2274,   10,\n",
       "           0,   96,    0,    0,    0,    0,   58,    0,    0,  113,    0,\n",
       "           0,    0,    0,    0,    0],\n",
       "       [  63,    9,   44,   29,    0,    0,    0,    0,    0,   67, 1442,\n",
       "        1031,   33,   21,    0,    0,   52,   27,    0,   25,    0,   48,\n",
       "           0,   32,    0,   77,    0],\n",
       "       [  75,    0,   91,   33,    0,    0,    0,    0,    0,   90, 1106,\n",
       "        1190,   56,   18,    0,    0,   69,   35,    9,   19,   23,   69,\n",
       "          61,   11,    0,   45,    0],\n",
       "       [   0,    0,    0,    0,   93,    0,    0,    0,    0,  104,    0,\n",
       "           0, 2058,    0,    0,    0,    0,  426,    0,    0,  319,    0,\n",
       "           0,    0,    0,    0,    0],\n",
       "       [  20,    0,    0,    0,    0,    0,    0,    0,    0,    0,    0,\n",
       "           0,   38, 2466,    0,    0,    0,  197,    0,    0,  204,   12,\n",
       "          38,   16,    0,    0,    9],\n",
       "       [   0,    0,   33,    0,    0,    0,    0,    0,    0,    0,    0,\n",
       "           0,    0,    0, 2896,    0,    0,    0,    0,    0,   71,    0,\n",
       "           0,    0,    0,    0,    0],\n",
       "       [   1,   34,    0,   18,   79,   19,    5,    5,   21,    6,   23,\n",
       "          14,    5,    6,    0, 2617,   79,    1,    0,    2,   15,    5,\n",
       "           8,   33,    0,    1,    3],\n",
       "       [   0,    8,    5,    0,    1,    3,    0,    0,    0,    2,    0,\n",
       "           2,    0,    2,    0,    0, 2750,    0,    0,    0,    0,    6,\n",
       "           2,    3,    0,    0,  216],\n",
       "       [   0,    0,    0,    0,    0,    0,    0,    0,    0,    0,    0,\n",
       "           0,  253,    0,    0,    0,    0, 1322,    0,    0, 1425,    0,\n",
       "           0,    0,    0,    0,    0],\n",
       "       [  18,    0,    0,    0,    0,    0,    0,    0,    0,    0,    0,\n",
       "           0,    2,  112,    0,    0,    0,   35, 2788,    8,   30,    6,\n",
       "           1,    0,    0,    0,    0],\n",
       "       [   0,    0,  104,    0,    0,    0,    0,    0,    0,    0,    0,\n",
       "           0,    0,   27,    0,    0,   45,   51,    9, 2501,    8,   80,\n",
       "         144,    0,    0,    0,   31],\n",
       "       [   0,    0,  124,    0,    0,    0,    0,    0,    0,    0,    0,\n",
       "           0,  377,    0,    0,    0,    0, 1220,    0,    0, 1279,    0,\n",
       "           0,    0,    0,    0,    0],\n",
       "       [  39,    0,   35,    0,    0,    4,    0,    0,    6,   26,   48,\n",
       "           0,   83,   32,   14,    0,    0,  125,    9,   67,  161, 1036,\n",
       "        1281,   34,    0,    0,    0],\n",
       "       [  13,    0,    0,    0,    0,    0,    0,    0,    6,   56,   78,\n",
       "          65,  113,    7,    9,    0,    0,  167,    0,   61,   96,  927,\n",
       "        1296,   66,    0,   40,    0],\n",
       "       [   0,   10,   35,  130,   57,    3,    0,    5,    0,   67,   21,\n",
       "          29,   47,    6,    0,   66,    0,   23,    0,   18,   20,    5,\n",
       "          11, 1709,  647,   91,    0],\n",
       "       [   0,    4,    0,   46,   65,    4,    8,    0,    5,    0,   15,\n",
       "          24,    3,    7,    2,   35,    0,   19,    0,   11,   30,   14,\n",
       "           1,  592, 1915,  198,    2],\n",
       "       [   0,   27,   10,    0,    0,    0,    0,    5,    6,    0,   44,\n",
       "          29,    8,    5,    0,    0,    0,   38,    0,   51,   42,   29,\n",
       "          24,  105,    1, 2576,    0],\n",
       "       [ 261,    0,    0,    0,    0,    0,    0,    0,    0,    0,    0,\n",
       "           0,   40,    0,    0,    0,    0,  223,    0,    0,  234,    0,\n",
       "          62,   24,    0,    0, 2156]], dtype=int64)"
      ]
     },
     "execution_count": 37,
     "metadata": {},
     "output_type": "execute_result"
    }
   ],
   "source": [
    "cm"
   ]
  },
  {
   "cell_type": "code",
   "execution_count": 2,
   "metadata": {},
   "outputs": [],
   "source": [
    "cm=[[2317,    0,    0,    0,    0,    0,    0,    0,    0,    0,    0,\n",
    "           0,   53,    0,    0,    0,    0,  327,    0,    0,  177,    0,\n",
    "          10,    0,    0,    0,  116],\n",
    "       [   1, 2418,   65,    0,    2,   19,  161,   28,   48,   42,    3,\n",
    "          38,    8,    7,    0,   19,   32,   26,    3,    0,   22,    7,\n",
    "           6,   30,    0,   15,    0],\n",
    "       [  19,    0, 2533,    0,    0,    0,    0,    0,    0,  300,    0,\n",
    "           0,   40,    0,    0,    0,    0,   48,    0,    0,   60,    0,\n",
    "           0,    0,    0,    0,    0],\n",
    "       [  32,    8,   40, 2785,    0,    0,    0,    2,   56,    0,    3,\n",
    "           0,    0,    4,    0,    0,    0,    0,    9,    6,   22,    8,\n",
    "          12,    1,    0,   12,    0],\n",
    "       [   4,  219,    5,    2, 1664,   27,  212,  331,  188,    0,   20,\n",
    "          16,    5,    9,    0,  129,   33,   14,   34,    4,    7,    7,\n",
    "           2,   63,    2,    1,    2],\n",
    "       [  12,  194,    7,   18,  177,  218,  678,  711,  675,    7,   21,\n",
    "          14,   13,   22,    0,   23,   19,   15,   73,    4,   13,    0,\n",
    "           5,   71,    0,    0,   10],\n",
    "       [   0,  174,    4,   21,  113,  114,  784,  694,  797,    7,   42,\n",
    "          24,   24,   14,    0,   29,    3,    9,   55,    6,   18,    8,\n",
    "           4,   51,    0,    0,    5],\n",
    "       [   0,  161,   10,   12,  351,  105,  745,  336,  995,    9,   29,\n",
    "          23,   13,   21,    0,   32,    7,    8,   45,    1,   20,   18,\n",
    "           1,   54,    0,    1,    3],\n",
    "       [   0,  176,    8,   24,  129,  258,  678,  640,  786,    7,   34,\n",
    "          20,   27,   16,    0,   26,    1,    6,   66,    2,   15,    4,\n",
    "           5,   65,    0,    0,    7],\n",
    "       [  41,    0,  408,    0,    0,    0,    0,    0,    0, 2274,   10,\n",
    "           0,   96,    0,    0,    0,    0,   58,    0,    0,  113,    0,\n",
    "           0,    0,    0,    0,    0],\n",
    "       [  63,    9,   44,   29,    0,    0,    0,    0,    0,   67, 1442,\n",
    "        1031,   33,   21,    0,    0,   52,   27,    0,   25,    0,   48,\n",
    "           0,   32,    0,   77,    0],\n",
    "       [  75,    0,   91,   33,    0,    0,    0,    0,    0,   90, 1106,\n",
    "        1190,   56,   18,    0,    0,   69,   35,    9,   19,   23,   69,\n",
    "          61,   11,    0,   45,    0],\n",
    "       [   0,    0,    0,    0,   93,    0,    0,    0,    0,  104,    0,\n",
    "           0, 2058,    0,    0,    0,    0,  426,    0,    0,  319,    0,\n",
    "           0,    0,    0,    0,    0],\n",
    "       [  20,    0,    0,    0,    0,    0,    0,    0,    0,    0,    0,\n",
    "           0,   38, 2466,    0,    0,    0,  197,    0,    0,  204,   12,\n",
    "          38,   16,    0,    0,    9],\n",
    "       [   0,    0,   33,    0,    0,    0,    0,    0,    0,    0,    0,\n",
    "           0,    0,    0, 2896,    0,    0,    0,    0,    0,   71,    0,\n",
    "           0,    0,    0,    0,    0],\n",
    "       [   1,   34,    0,   18,   79,   19,    5,    5,   21,    6,   23,\n",
    "          14,    5,    6,    0, 2617,   79,    1,    0,    2,   15,    5,\n",
    "           8,   33,    0,    1,    3],\n",
    "       [   0,    8,    5,    0,    1,    3,    0,    0,    0,    2,    0,\n",
    "           2,    0,    2,    0,    0, 2750,    0,    0,    0,    0,    6,\n",
    "           2,    3,    0,    0,  216],\n",
    "       [   0,    0,    0,    0,    0,    0,    0,    0,    0,    0,    0,\n",
    "           0,  253,    0,    0,    0,    0, 1322,    0,    0, 1425,    0,\n",
    "           0,    0,    0,    0,    0],\n",
    "       [  18,    0,    0,    0,    0,    0,    0,    0,    0,    0,    0,\n",
    "           0,    2,  112,    0,    0,    0,   35, 2788,    8,   30,    6,\n",
    "           1,    0,    0,    0,    0],\n",
    "       [   0,    0,  104,    0,    0,    0,    0,    0,    0,    0,    0,\n",
    "           0,    0,   27,    0,    0,   45,   51,    9, 2501,    8,   80,\n",
    "         144,    0,    0,    0,   31],\n",
    "       [   0,    0,  124,    0,    0,    0,    0,    0,    0,    0,    0,\n",
    "           0,  377,    0,    0,    0,    0, 1220,    0,    0, 1279,    0,\n",
    "           0,    0,    0,    0,    0],\n",
    "       [  39,    0,   35,    0,    0,    4,    0,    0,    6,   26,   48,\n",
    "           0,   83,   32,   14,    0,    0,  125,    9,   67,  161, 1036,\n",
    "        1281,   34,    0,    0,    0],\n",
    "       [  13,    0,    0,    0,    0,    0,    0,    0,    6,   56,   78,\n",
    "          65,  113,    7,    9,    0,    0,  167,    0,   61,   96,  927,\n",
    "        1296,   66,    0,   40,    0],\n",
    "       [   0,   10,   35,  130,   57,    3,    0,    5,    0,   67,   21,\n",
    "          29,   47,    6,    0,   66,    0,   23,    0,   18,   20,    5,\n",
    "          11, 1709,  647,   91,    0],\n",
    "       [   0,    4,    0,   46,   65,    4,    8,    0,    5,    0,   15,\n",
    "          24,    3,    7,    2,   35,    0,   19,    0,   11,   30,   14,\n",
    "           1,  592, 1915,  198,    2],\n",
    "       [   0,   27,   10,    0,    0,    0,    0,    5,    6,    0,   44,\n",
    "          29,    8,    5,    0,    0,    0,   38,    0,   51,   42,   29,\n",
    "          24,  105,    1, 2576,    0],\n",
    "       [ 261,    0,    0,    0,    0,    0,    0,    0,    0,    0,    0,\n",
    "           0,   40,    0,    0,    0,    0,  223,    0,    0,  234,    0,\n",
    "          62,   24,    0,    0, 2156]]"
   ]
  },
  {
   "cell_type": "code",
   "execution_count": 36,
   "metadata": {},
   "outputs": [
    {
     "name": "stdout",
     "output_type": "stream",
     "text": [
      "label precision recall fscore\n",
      "    0     0.795  0.772  0.783\n",
      "    1     0.702  0.806  0.751\n",
      "    2     0.711  0.844  0.772\n",
      "    3     0.893  0.928  0.910\n",
      "    4     0.609  0.555  0.581\n",
      "    5     0.282  0.073  0.116\n",
      "    6     0.240  0.261  0.250\n",
      "    7     0.122  0.112  0.117\n",
      "    8     0.219  0.262  0.239\n",
      "    9     0.742  0.758  0.750\n",
      "   10     0.491  0.481  0.486\n",
      "   11     0.472  0.397  0.431\n",
      "   12     0.606  0.686  0.644\n",
      "   13     0.880  0.822  0.850\n",
      "   14     0.991  0.965  0.978\n",
      "   15     0.879  0.872  0.876\n",
      "   16     0.890  0.917  0.903\n",
      "   17     0.299  0.441  0.356\n",
      "   18     0.899  0.929  0.914\n",
      "   19     0.898  0.834  0.865\n",
      "   20     0.289  0.426  0.345\n",
      "   21     0.453  0.345  0.392\n",
      "   22     0.436  0.432  0.434\n",
      "   23     0.577  0.570  0.573\n",
      "   24     0.747  0.638  0.688\n",
      "   25     0.843  0.859  0.851\n",
      "   26     0.842  0.719  0.776\n"
     ]
    },
    {
     "data": {
      "text/plain": [
       "0.6186666666666667"
      ]
     },
     "execution_count": 36,
     "metadata": {},
     "output_type": "execute_result"
    }
   ],
   "source": [
    "def precision(label, confusion_matrix):\n",
    "    col = confusion_matrix[:, label]\n",
    "    return confusion_matrix[label, label] / col.sum()\n",
    "    \n",
    "def recall(label, confusion_matrix):\n",
    "    row = confusion_matrix[label, :]\n",
    "    return confusion_matrix[label, label] / row.sum()\n",
    "\n",
    "def precision_macro_average(confusion_matrix):\n",
    "    rows, columns = confusion_matrix.shape\n",
    "    sum_of_precisions = 0\n",
    "    for label in range(rows):\n",
    "        sum_of_precisions += precision(label, confusion_matrix)\n",
    "    return sum_of_precisions / rows\n",
    "\n",
    "def recall_macro_average(confusion_matrix):\n",
    "    rows, columns = confusion_matrix.shape\n",
    "    sum_of_recalls = 0\n",
    "    for label in range(columns):\n",
    "        sum_of_recalls += recall(label, confusion_matrix)\n",
    "    return sum_of_recalls / columns\n",
    "\n",
    "print(\"label precision recall fscore\")\n",
    "for label in range(27):\n",
    "    pr=precision(label, cm)\n",
    "    rec=recall(label, cm)\n",
    "    f1=2*(pr*rec/(pr+rec))\n",
    "    print(f\"{label:5d} {pr:9.3f} {rec:6.3f} {f1:6.3f}\")\n",
    "    \n",
    "    \n",
    "def accuracy(confusion_matrix):\n",
    "    diagonal_sum = confusion_matrix.trace()\n",
    "    sum_of_all_elements = confusion_matrix.sum()\n",
    "    return diagonal_sum / sum_of_all_elements \n",
    "accuracy(cm)"
   ]
  },
  {
   "cell_type": "code",
   "execution_count": 3,
   "metadata": {},
   "outputs": [
    {
     "data": {
      "image/png": "[encoded data removed]",
      "text/plain": [
       "<Figure size 1440x1440 with 2 Axes>"
      ]
     },
     "metadata": {},
     "output_type": "display_data"
    }
   ],
   "source": [
    "import seaborn as sn\n",
    "import pandas as pd\n",
    "import matplotlib.pyplot as plt\n",
    "\n",
    "\n",
    "\n",
    "df_cm = pd.DataFrame(cm, range(27), range(27))\n",
    "plt.figure(figsize=(20,20))\n",
    "sn.set(font_scale=1.4) # for label size\n",
    "sn.heatmap(df_cm, annot=True, annot_kws={\"size\": 9}) # font size\n",
    "\n",
    "plt.show()"
   ]
  },
  {
   "cell_type": "markdown",
   "metadata": {},
   "source": [
    "## MODEL SAVING RELOADING"
   ]
  },
  {
   "cell_type": "code",
   "execution_count": null,
   "metadata": {},
   "outputs": [],
   "source": [
    "from keras.models import load_model\n",
    "\n",
    "model.save('54.h5')  # creates a HDF5 file 'my_model.h5'\n",
    "\n"
   ]
  },
  {
   "cell_type": "code",
   "execution_count": null,
   "metadata": {},
   "outputs": [],
   "source": [
    "\n",
    "# returns a compiled model\n",
    "# identical to the previous one\n",
    "model = load_model('54.h5')"
   ]
  },
  {
   "cell_type": "code",
   "execution_count": null,
   "metadata": {},
   "outputs": [],
   "source": []
  },
  {
   "cell_type": "code",
   "execution_count": null,
   "metadata": {},
   "outputs": [],
   "source": []
  },
  {
   "cell_type": "code",
   "execution_count": null,
   "metadata": {},
   "outputs": [],
   "source": []
  },
  {
   "cell_type": "code",
   "execution_count": null,
   "metadata": {},
   "outputs": [],
   "source": []
  }
 ],
 "metadata": {
  "kernelspec": {
   "display_name": "Python 3",
   "language": "python",
   "name": "python3"
  },
  "language_info": {
   "codemirror_mode": {
    "name": "ipython",
    "version": 3
   },
   "file_extension": ".py",
   "mimetype": "text/x-python",
   "name": "python",
   "nbconvert_exporter": "python",
   "pygments_lexer": "ipython3",
   "version": "3.6.5"
  }
 },
 "nbformat": 4,
 "nbformat_minor": 2
}
